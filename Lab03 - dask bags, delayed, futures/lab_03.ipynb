{
 "cells": [
  {
   "cell_type": "markdown",
   "id": "eb979dc4-e992-4682-88f7-e53cfaa9476e",
   "metadata": {},
   "source": [
    "# lab_03 - Biblioteka Dask. Część 2."
   ]
  },
  {
   "cell_type": "markdown",
   "id": "1e06c199-d2e8-49f4-9e5e-cb912369e469",
   "metadata": {},
   "source": [
    "## 1. Dask Bags."
   ]
  },
  {
   "cell_type": "markdown",
   "id": "e028e713-c4e8-42c8-aa76-7ccf58e075e0",
   "metadata": {},
   "source": [
    "Struktura danych Dask Bag (z angielskiego torba, worek) została stworzona po to, aby na wysokim poziomie abstrakcji oraz, właściwie przede wszystkim, możliwe było wykonanie operacji na wielu obiektach Pythona w sposób rozproszony. Dask Bag implementuje między innymi takie metody jak `map, filter, groupby` i jest podobny w działaniu do zrównoleglonej wersji modułu itertools oraz sposobu w jaki działa PySpark RDD (Spark'owa wersja rozproszonoych ramek danych).\n",
    "\n",
    "> **Dokumentacja API Dask Bag:** https://docs.dask.org/en/latest/bag-api.html"
   ]
  },
  {
   "cell_type": "code",
   "id": "8a0a6ddc-b343-47f1-9283-b54465c44eb5",
   "metadata": {
    "ExecuteTime": {
     "end_time": "2024-10-16T11:47:18.662053Z",
     "start_time": "2024-10-16T11:47:16.885322Z"
    }
   },
   "source": [
    "from dask.distributed import Client, progress\n",
    "\n",
    "client = Client(n_workers=4)"
   ],
   "outputs": [],
   "execution_count": 1
  },
  {
   "cell_type": "code",
   "id": "fbc5d428-d2f6-4dc4-98cb-6174fbeab89f",
   "metadata": {
    "ExecuteTime": {
     "end_time": "2024-10-16T11:47:18.678922Z",
     "start_time": "2024-10-16T11:47:18.662053Z"
    }
   },
   "source": [
    "client"
   ],
   "outputs": [
    {
     "data": {
      "text/plain": [
       "<Client: 'tcp://127.0.0.1:50670' processes=4 threads=20, memory=31.73 GiB>"
      ],
      "text/html": [
       "<div>\n",
       "    <div style=\"width: 24px; height: 24px; background-color: #e1e1e1; border: 3px solid #9D9D9D; border-radius: 5px; position: absolute;\"> </div>\n",
       "    <div style=\"margin-left: 48px;\">\n",
       "        <h3 style=\"margin-bottom: 0px;\">Client</h3>\n",
       "        <p style=\"color: #9D9D9D; margin-bottom: 0px;\">Client-64b37838-8bb4-11ef-961c-40c2ba3a56a7</p>\n",
       "        <table style=\"width: 100%; text-align: left;\">\n",
       "\n",
       "        <tr>\n",
       "        \n",
       "            <td style=\"text-align: left;\"><strong>Connection method:</strong> Cluster object</td>\n",
       "            <td style=\"text-align: left;\"><strong>Cluster type:</strong> distributed.LocalCluster</td>\n",
       "        \n",
       "        </tr>\n",
       "\n",
       "        \n",
       "            <tr>\n",
       "                <td style=\"text-align: left;\">\n",
       "                    <strong>Dashboard: </strong> <a href=\"http://127.0.0.1:8787/status\" target=\"_blank\">http://127.0.0.1:8787/status</a>\n",
       "                </td>\n",
       "                <td style=\"text-align: left;\"></td>\n",
       "            </tr>\n",
       "        \n",
       "\n",
       "        </table>\n",
       "\n",
       "        \n",
       "            <button style=\"margin-bottom: 12px;\" data-commandlinker-command=\"dask:populate-and-launch-layout\" data-commandlinker-args='{\"url\": \"http://127.0.0.1:8787/status\" }'>\n",
       "                Launch dashboard in JupyterLab\n",
       "            </button>\n",
       "        \n",
       "\n",
       "        \n",
       "            <details>\n",
       "            <summary style=\"margin-bottom: 20px;\"><h3 style=\"display: inline;\">Cluster Info</h3></summary>\n",
       "            <div class=\"jp-RenderedHTMLCommon jp-RenderedHTML jp-mod-trusted jp-OutputArea-output\">\n",
       "    <div style=\"width: 24px; height: 24px; background-color: #e1e1e1; border: 3px solid #9D9D9D; border-radius: 5px; position: absolute;\">\n",
       "    </div>\n",
       "    <div style=\"margin-left: 48px;\">\n",
       "        <h3 style=\"margin-bottom: 0px; margin-top: 0px;\">LocalCluster</h3>\n",
       "        <p style=\"color: #9D9D9D; margin-bottom: 0px;\">c2d02f30</p>\n",
       "        <table style=\"width: 100%; text-align: left;\">\n",
       "            <tr>\n",
       "                <td style=\"text-align: left;\">\n",
       "                    <strong>Dashboard:</strong> <a href=\"http://127.0.0.1:8787/status\" target=\"_blank\">http://127.0.0.1:8787/status</a>\n",
       "                </td>\n",
       "                <td style=\"text-align: left;\">\n",
       "                    <strong>Workers:</strong> 4\n",
       "                </td>\n",
       "            </tr>\n",
       "            <tr>\n",
       "                <td style=\"text-align: left;\">\n",
       "                    <strong>Total threads:</strong> 20\n",
       "                </td>\n",
       "                <td style=\"text-align: left;\">\n",
       "                    <strong>Total memory:</strong> 31.73 GiB\n",
       "                </td>\n",
       "            </tr>\n",
       "            \n",
       "            <tr>\n",
       "    <td style=\"text-align: left;\"><strong>Status:</strong> running</td>\n",
       "    <td style=\"text-align: left;\"><strong>Using processes:</strong> True</td>\n",
       "</tr>\n",
       "\n",
       "            \n",
       "        </table>\n",
       "\n",
       "        <details>\n",
       "            <summary style=\"margin-bottom: 20px;\">\n",
       "                <h3 style=\"display: inline;\">Scheduler Info</h3>\n",
       "            </summary>\n",
       "\n",
       "            <div style=\"\">\n",
       "    <div>\n",
       "        <div style=\"width: 24px; height: 24px; background-color: #FFF7E5; border: 3px solid #FF6132; border-radius: 5px; position: absolute;\"> </div>\n",
       "        <div style=\"margin-left: 48px;\">\n",
       "            <h3 style=\"margin-bottom: 0px;\">Scheduler</h3>\n",
       "            <p style=\"color: #9D9D9D; margin-bottom: 0px;\">Scheduler-47947ac5-a3d7-413e-835b-fa2e8b7d5740</p>\n",
       "            <table style=\"width: 100%; text-align: left;\">\n",
       "                <tr>\n",
       "                    <td style=\"text-align: left;\">\n",
       "                        <strong>Comm:</strong> tcp://127.0.0.1:50670\n",
       "                    </td>\n",
       "                    <td style=\"text-align: left;\">\n",
       "                        <strong>Workers:</strong> 4\n",
       "                    </td>\n",
       "                </tr>\n",
       "                <tr>\n",
       "                    <td style=\"text-align: left;\">\n",
       "                        <strong>Dashboard:</strong> <a href=\"http://127.0.0.1:8787/status\" target=\"_blank\">http://127.0.0.1:8787/status</a>\n",
       "                    </td>\n",
       "                    <td style=\"text-align: left;\">\n",
       "                        <strong>Total threads:</strong> 20\n",
       "                    </td>\n",
       "                </tr>\n",
       "                <tr>\n",
       "                    <td style=\"text-align: left;\">\n",
       "                        <strong>Started:</strong> Just now\n",
       "                    </td>\n",
       "                    <td style=\"text-align: left;\">\n",
       "                        <strong>Total memory:</strong> 31.73 GiB\n",
       "                    </td>\n",
       "                </tr>\n",
       "            </table>\n",
       "        </div>\n",
       "    </div>\n",
       "\n",
       "    <details style=\"margin-left: 48px;\">\n",
       "        <summary style=\"margin-bottom: 20px;\">\n",
       "            <h3 style=\"display: inline;\">Workers</h3>\n",
       "        </summary>\n",
       "\n",
       "        \n",
       "        <div style=\"margin-bottom: 20px;\">\n",
       "            <div style=\"width: 24px; height: 24px; background-color: #DBF5FF; border: 3px solid #4CC9FF; border-radius: 5px; position: absolute;\"> </div>\n",
       "            <div style=\"margin-left: 48px;\">\n",
       "            <details>\n",
       "                <summary>\n",
       "                    <h4 style=\"margin-bottom: 0px; display: inline;\">Worker: 0</h4>\n",
       "                </summary>\n",
       "                <table style=\"width: 100%; text-align: left;\">\n",
       "                    <tr>\n",
       "                        <td style=\"text-align: left;\">\n",
       "                            <strong>Comm: </strong> tcp://127.0.0.1:50695\n",
       "                        </td>\n",
       "                        <td style=\"text-align: left;\">\n",
       "                            <strong>Total threads: </strong> 5\n",
       "                        </td>\n",
       "                    </tr>\n",
       "                    <tr>\n",
       "                        <td style=\"text-align: left;\">\n",
       "                            <strong>Dashboard: </strong> <a href=\"http://127.0.0.1:50697/status\" target=\"_blank\">http://127.0.0.1:50697/status</a>\n",
       "                        </td>\n",
       "                        <td style=\"text-align: left;\">\n",
       "                            <strong>Memory: </strong> 7.93 GiB\n",
       "                        </td>\n",
       "                    </tr>\n",
       "                    <tr>\n",
       "                        <td style=\"text-align: left;\">\n",
       "                            <strong>Nanny: </strong> tcp://127.0.0.1:50673\n",
       "                        </td>\n",
       "                        <td style=\"text-align: left;\"></td>\n",
       "                    </tr>\n",
       "                    <tr>\n",
       "                        <td colspan=\"2\" style=\"text-align: left;\">\n",
       "                            <strong>Local directory: </strong> C:\\Users\\Arek\\AppData\\Local\\Temp\\dask-scratch-space\\worker-dt9jag5e\n",
       "                        </td>\n",
       "                    </tr>\n",
       "\n",
       "                    \n",
       "\n",
       "                    \n",
       "\n",
       "                </table>\n",
       "            </details>\n",
       "            </div>\n",
       "        </div>\n",
       "        \n",
       "        <div style=\"margin-bottom: 20px;\">\n",
       "            <div style=\"width: 24px; height: 24px; background-color: #DBF5FF; border: 3px solid #4CC9FF; border-radius: 5px; position: absolute;\"> </div>\n",
       "            <div style=\"margin-left: 48px;\">\n",
       "            <details>\n",
       "                <summary>\n",
       "                    <h4 style=\"margin-bottom: 0px; display: inline;\">Worker: 1</h4>\n",
       "                </summary>\n",
       "                <table style=\"width: 100%; text-align: left;\">\n",
       "                    <tr>\n",
       "                        <td style=\"text-align: left;\">\n",
       "                            <strong>Comm: </strong> tcp://127.0.0.1:50689\n",
       "                        </td>\n",
       "                        <td style=\"text-align: left;\">\n",
       "                            <strong>Total threads: </strong> 5\n",
       "                        </td>\n",
       "                    </tr>\n",
       "                    <tr>\n",
       "                        <td style=\"text-align: left;\">\n",
       "                            <strong>Dashboard: </strong> <a href=\"http://127.0.0.1:50693/status\" target=\"_blank\">http://127.0.0.1:50693/status</a>\n",
       "                        </td>\n",
       "                        <td style=\"text-align: left;\">\n",
       "                            <strong>Memory: </strong> 7.93 GiB\n",
       "                        </td>\n",
       "                    </tr>\n",
       "                    <tr>\n",
       "                        <td style=\"text-align: left;\">\n",
       "                            <strong>Nanny: </strong> tcp://127.0.0.1:50675\n",
       "                        </td>\n",
       "                        <td style=\"text-align: left;\"></td>\n",
       "                    </tr>\n",
       "                    <tr>\n",
       "                        <td colspan=\"2\" style=\"text-align: left;\">\n",
       "                            <strong>Local directory: </strong> C:\\Users\\Arek\\AppData\\Local\\Temp\\dask-scratch-space\\worker-i6csviuc\n",
       "                        </td>\n",
       "                    </tr>\n",
       "\n",
       "                    \n",
       "\n",
       "                    \n",
       "\n",
       "                </table>\n",
       "            </details>\n",
       "            </div>\n",
       "        </div>\n",
       "        \n",
       "        <div style=\"margin-bottom: 20px;\">\n",
       "            <div style=\"width: 24px; height: 24px; background-color: #DBF5FF; border: 3px solid #4CC9FF; border-radius: 5px; position: absolute;\"> </div>\n",
       "            <div style=\"margin-left: 48px;\">\n",
       "            <details>\n",
       "                <summary>\n",
       "                    <h4 style=\"margin-bottom: 0px; display: inline;\">Worker: 2</h4>\n",
       "                </summary>\n",
       "                <table style=\"width: 100%; text-align: left;\">\n",
       "                    <tr>\n",
       "                        <td style=\"text-align: left;\">\n",
       "                            <strong>Comm: </strong> tcp://127.0.0.1:50694\n",
       "                        </td>\n",
       "                        <td style=\"text-align: left;\">\n",
       "                            <strong>Total threads: </strong> 5\n",
       "                        </td>\n",
       "                    </tr>\n",
       "                    <tr>\n",
       "                        <td style=\"text-align: left;\">\n",
       "                            <strong>Dashboard: </strong> <a href=\"http://127.0.0.1:50699/status\" target=\"_blank\">http://127.0.0.1:50699/status</a>\n",
       "                        </td>\n",
       "                        <td style=\"text-align: left;\">\n",
       "                            <strong>Memory: </strong> 7.93 GiB\n",
       "                        </td>\n",
       "                    </tr>\n",
       "                    <tr>\n",
       "                        <td style=\"text-align: left;\">\n",
       "                            <strong>Nanny: </strong> tcp://127.0.0.1:50677\n",
       "                        </td>\n",
       "                        <td style=\"text-align: left;\"></td>\n",
       "                    </tr>\n",
       "                    <tr>\n",
       "                        <td colspan=\"2\" style=\"text-align: left;\">\n",
       "                            <strong>Local directory: </strong> C:\\Users\\Arek\\AppData\\Local\\Temp\\dask-scratch-space\\worker-iue647xf\n",
       "                        </td>\n",
       "                    </tr>\n",
       "\n",
       "                    \n",
       "\n",
       "                    \n",
       "\n",
       "                </table>\n",
       "            </details>\n",
       "            </div>\n",
       "        </div>\n",
       "        \n",
       "        <div style=\"margin-bottom: 20px;\">\n",
       "            <div style=\"width: 24px; height: 24px; background-color: #DBF5FF; border: 3px solid #4CC9FF; border-radius: 5px; position: absolute;\"> </div>\n",
       "            <div style=\"margin-left: 48px;\">\n",
       "            <details>\n",
       "                <summary>\n",
       "                    <h4 style=\"margin-bottom: 0px; display: inline;\">Worker: 3</h4>\n",
       "                </summary>\n",
       "                <table style=\"width: 100%; text-align: left;\">\n",
       "                    <tr>\n",
       "                        <td style=\"text-align: left;\">\n",
       "                            <strong>Comm: </strong> tcp://127.0.0.1:50690\n",
       "                        </td>\n",
       "                        <td style=\"text-align: left;\">\n",
       "                            <strong>Total threads: </strong> 5\n",
       "                        </td>\n",
       "                    </tr>\n",
       "                    <tr>\n",
       "                        <td style=\"text-align: left;\">\n",
       "                            <strong>Dashboard: </strong> <a href=\"http://127.0.0.1:50691/status\" target=\"_blank\">http://127.0.0.1:50691/status</a>\n",
       "                        </td>\n",
       "                        <td style=\"text-align: left;\">\n",
       "                            <strong>Memory: </strong> 7.93 GiB\n",
       "                        </td>\n",
       "                    </tr>\n",
       "                    <tr>\n",
       "                        <td style=\"text-align: left;\">\n",
       "                            <strong>Nanny: </strong> tcp://127.0.0.1:50679\n",
       "                        </td>\n",
       "                        <td style=\"text-align: left;\"></td>\n",
       "                    </tr>\n",
       "                    <tr>\n",
       "                        <td colspan=\"2\" style=\"text-align: left;\">\n",
       "                            <strong>Local directory: </strong> C:\\Users\\Arek\\AppData\\Local\\Temp\\dask-scratch-space\\worker-sj3jpqmf\n",
       "                        </td>\n",
       "                    </tr>\n",
       "\n",
       "                    \n",
       "\n",
       "                    \n",
       "\n",
       "                </table>\n",
       "            </details>\n",
       "            </div>\n",
       "        </div>\n",
       "        \n",
       "\n",
       "    </details>\n",
       "</div>\n",
       "\n",
       "        </details>\n",
       "    </div>\n",
       "</div>\n",
       "            </details>\n",
       "        \n",
       "\n",
       "    </div>\n",
       "</div>"
      ]
     },
     "execution_count": 2,
     "metadata": {},
     "output_type": "execute_result"
    }
   ],
   "execution_count": 2
  },
  {
   "cell_type": "code",
   "id": "69fbb88f-31b8-4fb0-9182-6f2f2fc87935",
   "metadata": {
    "ExecuteTime": {
     "end_time": "2024-10-16T11:47:18.682917Z",
     "start_time": "2024-10-16T11:47:18.678922Z"
    }
   },
   "source": [
    "import dask\n",
    "import json\n",
    "import os\n",
    "\n",
    "# zmienna ze ścieżką do folderu, w którym będą składowane dane\n",
    "DATAPATH = '../data'\n",
    "\n",
    "# tworzymy FOLDERY jeżeli wymagane jest stworzenie całej ścieżki folderów, jeżeli istnieje nie nadpisze\n",
    "os.makedirs(DATAPATH, exist_ok=True)"
   ],
   "outputs": [],
   "execution_count": 3
  },
  {
   "cell_type": "code",
   "id": "e7feca6c-1c13-4534-bbc0-fedcd6a88499",
   "metadata": {
    "ExecuteTime": {
     "end_time": "2024-10-16T11:47:30.327905Z",
     "start_time": "2024-10-16T11:47:18.682917Z"
    }
   },
   "source": [
    "%%time\n",
    "# wykorzystujemy wbudowaną metodę generującą dane dla określonej liczby partycji oraz ilości rekordów per partycja (plik)\n",
    "# szczegóły implementacji tej metody znajdziemy pod adresem https://docs.dask.org/en/stable/_modules/dask/datasets.html\n",
    "# wymagane będzie zainstalowanie modułu mimesis\n",
    "# tworzymy Dask Bag danymi, zmień parametry na coś, co będzie Ci odpowiadało bardziej (np. bardzo duża liczba małych plików lub mniejsza liczba plików, ale więcej wierszy w każdym)\n",
    "\n",
    "b = dask.datasets.make_people(npartitions=100, records_per_partition=10000)\n",
    "# po wykonaniu operacji 10000 rekordów zajmuje około 2.4 MB, co razem daje około 240 MB\n",
    "# można więc z powodzeniem dla zadania Dask'owi większej ilości pracy, zwiększyć te parametry kilkukrotnie\n",
    "\n",
    "# wykorzystujemy metodę map do wykonania json.dumps na każdym elemencie zawartym w Bag (a jak prześledzimy źródła to jest to słownik krotek)\n",
    "# następnie wykonujemy metode to_textfiles() z API Dask Bag i zapisujemyy każdą partition do oddzielnego pliku JSON\n",
    "# operacje te wykonają się w sposób zrównoleglony (na ile to możliwe, gdyż dane ostatcznie zapisujemy w jednym miejscu na dysku)\n",
    "\n",
    "b.map(json.dumps).to_textfiles(os.path.join(DATAPATH, '*.json'))"
   ],
   "outputs": [
    {
     "name": "stdout",
     "output_type": "stream",
     "text": [
      "CPU times: total: 516 ms\n",
      "Wall time: 11.6 s\n"
     ]
    },
    {
     "data": {
      "text/plain": [
       "['C:/Users/Arek/PycharmProjects/BDA/Lab03/../data/00.json',\n",
       " 'C:/Users/Arek/PycharmProjects/BDA/Lab03/../data/01.json',\n",
       " 'C:/Users/Arek/PycharmProjects/BDA/Lab03/../data/02.json',\n",
       " 'C:/Users/Arek/PycharmProjects/BDA/Lab03/../data/03.json',\n",
       " 'C:/Users/Arek/PycharmProjects/BDA/Lab03/../data/04.json',\n",
       " 'C:/Users/Arek/PycharmProjects/BDA/Lab03/../data/05.json',\n",
       " 'C:/Users/Arek/PycharmProjects/BDA/Lab03/../data/06.json',\n",
       " 'C:/Users/Arek/PycharmProjects/BDA/Lab03/../data/07.json',\n",
       " 'C:/Users/Arek/PycharmProjects/BDA/Lab03/../data/08.json',\n",
       " 'C:/Users/Arek/PycharmProjects/BDA/Lab03/../data/09.json',\n",
       " 'C:/Users/Arek/PycharmProjects/BDA/Lab03/../data/10.json',\n",
       " 'C:/Users/Arek/PycharmProjects/BDA/Lab03/../data/11.json',\n",
       " 'C:/Users/Arek/PycharmProjects/BDA/Lab03/../data/12.json',\n",
       " 'C:/Users/Arek/PycharmProjects/BDA/Lab03/../data/13.json',\n",
       " 'C:/Users/Arek/PycharmProjects/BDA/Lab03/../data/14.json',\n",
       " 'C:/Users/Arek/PycharmProjects/BDA/Lab03/../data/15.json',\n",
       " 'C:/Users/Arek/PycharmProjects/BDA/Lab03/../data/16.json',\n",
       " 'C:/Users/Arek/PycharmProjects/BDA/Lab03/../data/17.json',\n",
       " 'C:/Users/Arek/PycharmProjects/BDA/Lab03/../data/18.json',\n",
       " 'C:/Users/Arek/PycharmProjects/BDA/Lab03/../data/19.json',\n",
       " 'C:/Users/Arek/PycharmProjects/BDA/Lab03/../data/20.json',\n",
       " 'C:/Users/Arek/PycharmProjects/BDA/Lab03/../data/21.json',\n",
       " 'C:/Users/Arek/PycharmProjects/BDA/Lab03/../data/22.json',\n",
       " 'C:/Users/Arek/PycharmProjects/BDA/Lab03/../data/23.json',\n",
       " 'C:/Users/Arek/PycharmProjects/BDA/Lab03/../data/24.json',\n",
       " 'C:/Users/Arek/PycharmProjects/BDA/Lab03/../data/25.json',\n",
       " 'C:/Users/Arek/PycharmProjects/BDA/Lab03/../data/26.json',\n",
       " 'C:/Users/Arek/PycharmProjects/BDA/Lab03/../data/27.json',\n",
       " 'C:/Users/Arek/PycharmProjects/BDA/Lab03/../data/28.json',\n",
       " 'C:/Users/Arek/PycharmProjects/BDA/Lab03/../data/29.json',\n",
       " 'C:/Users/Arek/PycharmProjects/BDA/Lab03/../data/30.json',\n",
       " 'C:/Users/Arek/PycharmProjects/BDA/Lab03/../data/31.json',\n",
       " 'C:/Users/Arek/PycharmProjects/BDA/Lab03/../data/32.json',\n",
       " 'C:/Users/Arek/PycharmProjects/BDA/Lab03/../data/33.json',\n",
       " 'C:/Users/Arek/PycharmProjects/BDA/Lab03/../data/34.json',\n",
       " 'C:/Users/Arek/PycharmProjects/BDA/Lab03/../data/35.json',\n",
       " 'C:/Users/Arek/PycharmProjects/BDA/Lab03/../data/36.json',\n",
       " 'C:/Users/Arek/PycharmProjects/BDA/Lab03/../data/37.json',\n",
       " 'C:/Users/Arek/PycharmProjects/BDA/Lab03/../data/38.json',\n",
       " 'C:/Users/Arek/PycharmProjects/BDA/Lab03/../data/39.json',\n",
       " 'C:/Users/Arek/PycharmProjects/BDA/Lab03/../data/40.json',\n",
       " 'C:/Users/Arek/PycharmProjects/BDA/Lab03/../data/41.json',\n",
       " 'C:/Users/Arek/PycharmProjects/BDA/Lab03/../data/42.json',\n",
       " 'C:/Users/Arek/PycharmProjects/BDA/Lab03/../data/43.json',\n",
       " 'C:/Users/Arek/PycharmProjects/BDA/Lab03/../data/44.json',\n",
       " 'C:/Users/Arek/PycharmProjects/BDA/Lab03/../data/45.json',\n",
       " 'C:/Users/Arek/PycharmProjects/BDA/Lab03/../data/46.json',\n",
       " 'C:/Users/Arek/PycharmProjects/BDA/Lab03/../data/47.json',\n",
       " 'C:/Users/Arek/PycharmProjects/BDA/Lab03/../data/48.json',\n",
       " 'C:/Users/Arek/PycharmProjects/BDA/Lab03/../data/49.json',\n",
       " 'C:/Users/Arek/PycharmProjects/BDA/Lab03/../data/50.json',\n",
       " 'C:/Users/Arek/PycharmProjects/BDA/Lab03/../data/51.json',\n",
       " 'C:/Users/Arek/PycharmProjects/BDA/Lab03/../data/52.json',\n",
       " 'C:/Users/Arek/PycharmProjects/BDA/Lab03/../data/53.json',\n",
       " 'C:/Users/Arek/PycharmProjects/BDA/Lab03/../data/54.json',\n",
       " 'C:/Users/Arek/PycharmProjects/BDA/Lab03/../data/55.json',\n",
       " 'C:/Users/Arek/PycharmProjects/BDA/Lab03/../data/56.json',\n",
       " 'C:/Users/Arek/PycharmProjects/BDA/Lab03/../data/57.json',\n",
       " 'C:/Users/Arek/PycharmProjects/BDA/Lab03/../data/58.json',\n",
       " 'C:/Users/Arek/PycharmProjects/BDA/Lab03/../data/59.json',\n",
       " 'C:/Users/Arek/PycharmProjects/BDA/Lab03/../data/60.json',\n",
       " 'C:/Users/Arek/PycharmProjects/BDA/Lab03/../data/61.json',\n",
       " 'C:/Users/Arek/PycharmProjects/BDA/Lab03/../data/62.json',\n",
       " 'C:/Users/Arek/PycharmProjects/BDA/Lab03/../data/63.json',\n",
       " 'C:/Users/Arek/PycharmProjects/BDA/Lab03/../data/64.json',\n",
       " 'C:/Users/Arek/PycharmProjects/BDA/Lab03/../data/65.json',\n",
       " 'C:/Users/Arek/PycharmProjects/BDA/Lab03/../data/66.json',\n",
       " 'C:/Users/Arek/PycharmProjects/BDA/Lab03/../data/67.json',\n",
       " 'C:/Users/Arek/PycharmProjects/BDA/Lab03/../data/68.json',\n",
       " 'C:/Users/Arek/PycharmProjects/BDA/Lab03/../data/69.json',\n",
       " 'C:/Users/Arek/PycharmProjects/BDA/Lab03/../data/70.json',\n",
       " 'C:/Users/Arek/PycharmProjects/BDA/Lab03/../data/71.json',\n",
       " 'C:/Users/Arek/PycharmProjects/BDA/Lab03/../data/72.json',\n",
       " 'C:/Users/Arek/PycharmProjects/BDA/Lab03/../data/73.json',\n",
       " 'C:/Users/Arek/PycharmProjects/BDA/Lab03/../data/74.json',\n",
       " 'C:/Users/Arek/PycharmProjects/BDA/Lab03/../data/75.json',\n",
       " 'C:/Users/Arek/PycharmProjects/BDA/Lab03/../data/76.json',\n",
       " 'C:/Users/Arek/PycharmProjects/BDA/Lab03/../data/77.json',\n",
       " 'C:/Users/Arek/PycharmProjects/BDA/Lab03/../data/78.json',\n",
       " 'C:/Users/Arek/PycharmProjects/BDA/Lab03/../data/79.json',\n",
       " 'C:/Users/Arek/PycharmProjects/BDA/Lab03/../data/80.json',\n",
       " 'C:/Users/Arek/PycharmProjects/BDA/Lab03/../data/81.json',\n",
       " 'C:/Users/Arek/PycharmProjects/BDA/Lab03/../data/82.json',\n",
       " 'C:/Users/Arek/PycharmProjects/BDA/Lab03/../data/83.json',\n",
       " 'C:/Users/Arek/PycharmProjects/BDA/Lab03/../data/84.json',\n",
       " 'C:/Users/Arek/PycharmProjects/BDA/Lab03/../data/85.json',\n",
       " 'C:/Users/Arek/PycharmProjects/BDA/Lab03/../data/86.json',\n",
       " 'C:/Users/Arek/PycharmProjects/BDA/Lab03/../data/87.json',\n",
       " 'C:/Users/Arek/PycharmProjects/BDA/Lab03/../data/88.json',\n",
       " 'C:/Users/Arek/PycharmProjects/BDA/Lab03/../data/89.json',\n",
       " 'C:/Users/Arek/PycharmProjects/BDA/Lab03/../data/90.json',\n",
       " 'C:/Users/Arek/PycharmProjects/BDA/Lab03/../data/91.json',\n",
       " 'C:/Users/Arek/PycharmProjects/BDA/Lab03/../data/92.json',\n",
       " 'C:/Users/Arek/PycharmProjects/BDA/Lab03/../data/93.json',\n",
       " 'C:/Users/Arek/PycharmProjects/BDA/Lab03/../data/94.json',\n",
       " 'C:/Users/Arek/PycharmProjects/BDA/Lab03/../data/95.json',\n",
       " 'C:/Users/Arek/PycharmProjects/BDA/Lab03/../data/96.json',\n",
       " 'C:/Users/Arek/PycharmProjects/BDA/Lab03/../data/97.json',\n",
       " 'C:/Users/Arek/PycharmProjects/BDA/Lab03/../data/98.json',\n",
       " 'C:/Users/Arek/PycharmProjects/BDA/Lab03/../data/99.json']"
      ]
     },
     "execution_count": 4,
     "metadata": {},
     "output_type": "execute_result"
    }
   ],
   "execution_count": 4
  },
  {
   "cell_type": "code",
   "id": "ab7d506a-8053-48a1-ae81-7b76e662f18b",
   "metadata": {
    "ExecuteTime": {
     "end_time": "2024-10-16T11:47:30.353791Z",
     "start_time": "2024-10-16T11:47:30.330542Z"
    }
   },
   "source": [
    "# korzystamy z polecenia head, które wyświetla n pierwszych linii z zadanego pliku, tu n=2\n",
    "!head -n 2 ../data/00.json"
   ],
   "outputs": [
    {
     "name": "stderr",
     "output_type": "stream",
     "text": [
      "'head' is not recognized as an internal or external command,\n",
      "operable program or batch file.\n"
     ]
    }
   ],
   "execution_count": 5
  },
  {
   "cell_type": "code",
   "id": "1abdca1e-4f90-4a2a-abad-c589e0d66c41",
   "metadata": {
    "ExecuteTime": {
     "end_time": "2024-10-16T11:47:30.559879Z",
     "start_time": "2024-10-16T11:47:30.353791Z"
    }
   },
   "source": [
    "import dask.bag as db\n",
    "import dask.dataframe as dd\n",
    "import json\n",
    "\n",
    "# ponownie wykorzystujemy metodę map (tym razem mapujemy json.loads) na każdym pliku w folderze\n",
    "b = db.read_text(os.path.join(DATAPATH, '*.json')).map(json.loads)\n",
    "# graf obliczeniowy został przygotowany, ale obliczenia jeszcze się nie wykonały\n",
    "b"
   ],
   "outputs": [
    {
     "data": {
      "text/plain": [
       "dask.bag<loads, npartitions=100>"
      ]
     },
     "execution_count": 6,
     "metadata": {},
     "output_type": "execute_result"
    }
   ],
   "execution_count": 6
  },
  {
   "cell_type": "code",
   "id": "f6729321-0f3a-4431-a592-66b93bf13912",
   "metadata": {
    "ExecuteTime": {
     "end_time": "2024-10-16T11:47:31.596251Z",
     "start_time": "2024-10-16T11:47:30.559879Z"
    }
   },
   "source": [
    "# policzmy teraz ile jest osób pełnoletnich\n",
    "count_adults = b.filter(lambda record: record['age'] >= 18).count().compute()"
   ],
   "outputs": [],
   "execution_count": 7
  },
  {
   "cell_type": "code",
   "id": "0e765829-e290-4278-93c6-c74a3ab23fe8",
   "metadata": {
    "ExecuteTime": {
     "end_time": "2024-10-16T11:47:31.600777Z",
     "start_time": "2024-10-16T11:47:31.597756Z"
    }
   },
   "source": [
    "count_adults"
   ],
   "outputs": [
    {
     "data": {
      "text/plain": [
       "851368"
      ]
     },
     "execution_count": 8,
     "metadata": {},
     "output_type": "execute_result"
    }
   ],
   "execution_count": 8
  },
  {
   "cell_type": "code",
   "id": "e5bb659d-a401-4f95-8e9f-250e819a42c6",
   "metadata": {
    "ExecuteTime": {
     "end_time": "2024-10-16T11:47:33.130728Z",
     "start_time": "2024-10-16T11:47:31.600777Z"
    }
   },
   "source": [
    "# poprzez metodę map możemy również dobrać tylko wybrane wartości rekordu (nasz rekord to słownik)\n",
    "# dalej zliczamy częstość wartości dla cechy occupation. UWAGA, wynik może składać się z wielu wartości.\n",
    "occupations_counts = b.map(lambda record: record['occupation']).frequencies(sort=True).compute()\n",
    "occupations_counts"
   ],
   "outputs": [
    {
     "data": {
      "text/plain": [
       "[('Road Sweeper', 965),\n",
       " ('Car Delivery Driver', 959),\n",
       " ('Merchant Seaman', 953),\n",
       " ('Chicken Chaser', 953),\n",
       " ('Administration Manager', 950),\n",
       " ('Museum Assistant', 950),\n",
       " ('Sales Support', 946),\n",
       " ('Ceiling Contractor', 944),\n",
       " ('Typesetter', 943),\n",
       " ('Hosiery Mechanic', 941),\n",
       " ('Insurance Staff', 938),\n",
       " ('Accounts Staff', 937),\n",
       " ('Fuel Merchant', 936),\n",
       " ('Cable Contractor', 932),\n",
       " ('Plant Engineer', 931),\n",
       " ('Pipe Layer', 930),\n",
       " ('Psychoanalyst', 929),\n",
       " ('Travel Guide Writer', 929),\n",
       " ('Careers Advisor', 929),\n",
       " ('Machine Setter', 928),\n",
       " ('Insurance Inspector', 927),\n",
       " ('Pipe Fitter', 927),\n",
       " ('Nuclear Scientist', 926),\n",
       " ('Private Investigator', 925),\n",
       " ('Plant Manager', 925),\n",
       " ('Meat Inspector', 925),\n",
       " ('Geologist', 925),\n",
       " ('Premises', 925),\n",
       " ('Thermal Insulator', 924),\n",
       " ('School Crossing', 923),\n",
       " ('Planning Engineer', 923),\n",
       " ('Immigration Officer', 922),\n",
       " ('Actress', 922),\n",
       " ('Song Writer', 922),\n",
       " ('Letting Agent', 922),\n",
       " ('Road Worker', 922),\n",
       " ('Waiter', 921),\n",
       " ('Postwoman', 921),\n",
       " ('Window Cleaner', 921),\n",
       " ('Foreman', 921),\n",
       " ('Refrigeration Engineer', 921),\n",
       " ('Broadcaster', 920),\n",
       " ('Hospital Doctor', 920),\n",
       " ('Wholesale Newspaper', 919),\n",
       " ('Hotelier', 919),\n",
       " ('Nursery Assistant', 918),\n",
       " ('Catering Staff', 918),\n",
       " ('Theatre Technician', 918),\n",
       " ('Horse Trader', 917),\n",
       " ('Garage Manager', 917),\n",
       " ('Stage Director', 917),\n",
       " ('Travelling Showman', 916),\n",
       " ('Temperature Time', 916),\n",
       " ('Bus Valeter', 916),\n",
       " ('Masseur', 915),\n",
       " ('Painter', 915),\n",
       " ('Medical Researcher', 915),\n",
       " ('Roadworker', 915),\n",
       " ('Building Inspector', 914),\n",
       " ('Judge', 914),\n",
       " ('Slaughterman', 914),\n",
       " ('Bodyguard', 914),\n",
       " ('Art Restorer', 914),\n",
       " ('Forester', 914),\n",
       " ('Storewoman', 913),\n",
       " ('Professional Boxer', 913),\n",
       " ('Building Manager', 913),\n",
       " ('Barmaid', 913),\n",
       " ('Marine Engineer', 913),\n",
       " ('Bakery Operator', 912),\n",
       " ('Optical Advisor', 912),\n",
       " ('Marketing Manager', 912),\n",
       " ('HGV Mechanic', 911),\n",
       " ('Airman', 911),\n",
       " ('Verger', 911),\n",
       " ('Employment', 910),\n",
       " ('Rent Offcer', 909),\n",
       " ('Kennel Hand', 909),\n",
       " ('Regulator', 909),\n",
       " ('Leather Worker', 909),\n",
       " ('Land Surveyor', 909),\n",
       " ('Trading Standards', 909),\n",
       " ('Janitor', 908),\n",
       " ('Master Mariner', 908),\n",
       " ('Shop Assistant', 908),\n",
       " ('Parts Supervisor', 907),\n",
       " ('Massage Therapist', 907),\n",
       " ('Horticulturalist', 907),\n",
       " ('Weaver', 907),\n",
       " ('Party Planner', 907),\n",
       " ('Instrument Maker', 907),\n",
       " ('Radiologist', 907),\n",
       " ('Horse Breeder', 906),\n",
       " ('Nurseryman', 906),\n",
       " ('Merchandiser', 906),\n",
       " ('Piano Teacher', 906),\n",
       " ('Telephonist', 906),\n",
       " ('Claims Adjustor', 906),\n",
       " ('Repairer', 906),\n",
       " ('Pathologist', 905),\n",
       " ('Transport Engineer', 905),\n",
       " ('Investment Strategist', 905),\n",
       " ('Garda', 905),\n",
       " ('Gas Fitter', 905),\n",
       " ('Student', 905),\n",
       " ('Arts', 905),\n",
       " ('Blacksmith', 905),\n",
       " ('Inventor', 905),\n",
       " ('Applications Programmer', 904),\n",
       " ('Health Consultant', 904),\n",
       " ('Proprietor', 904),\n",
       " ('Assistant Caretaker', 904),\n",
       " ('Insurance Assessor', 904),\n",
       " ('Site Agent', 904),\n",
       " ('Art Historian', 904),\n",
       " ('Market Trader', 904),\n",
       " ('Carpenter', 904),\n",
       " ('Horticultural Consultant', 903),\n",
       " ('Probation Worker', 903),\n",
       " ('Chauffeur', 903),\n",
       " ('Medical Officer', 902),\n",
       " ('Sub-Postmistress', 902),\n",
       " ('Royal Marine', 902),\n",
       " ('Arbitrator', 902),\n",
       " ('Zoologist', 902),\n",
       " ('Taxi Driver', 902),\n",
       " ('Stewardess', 901),\n",
       " ('Probation Officer', 901),\n",
       " ('Salesman', 901),\n",
       " ('IT Trainer', 900),\n",
       " ('Butler', 900),\n",
       " ('Roofer', 900),\n",
       " ('Laminator', 900),\n",
       " ('Legal Advisor', 900),\n",
       " ('Advertising Manager', 900),\n",
       " ('Instrument Technician', 900),\n",
       " ('Pasteuriser', 899),\n",
       " ('Welder', 899),\n",
       " ('Health Service', 899),\n",
       " ('Tree Feller', 899),\n",
       " ('Instrument Supervisor', 899),\n",
       " ('Lift Attendant', 899),\n",
       " ('Planning Technician', 899),\n",
       " ('Tanker Driver', 898),\n",
       " ('Hosiery Worker', 898),\n",
       " ('Grave Digger', 898),\n",
       " ('Auctioneer', 898),\n",
       " ('Medical Advisor', 897),\n",
       " ('Amusement Arcade Worker', 897),\n",
       " ('Lighting Designer', 897),\n",
       " ('Ticket Inspector', 897),\n",
       " ('Furrier', 897),\n",
       " ('Transport Controller', 897),\n",
       " ('Pattern Weaver', 897),\n",
       " ('Materials Manager', 897),\n",
       " ('Optician', 897),\n",
       " ('Security Consultant', 897),\n",
       " ('Product Installer', 897),\n",
       " ('Market Researcher', 896),\n",
       " ('Racehorse Groom', 896),\n",
       " ('Roof Tiler', 896),\n",
       " ('Rug Maker', 896),\n",
       " ('Word Processing Operator', 896),\n",
       " ('Town Clerk', 896),\n",
       " ('Presser', 896),\n",
       " ('Training Assistant', 896),\n",
       " ('Landworker', 896),\n",
       " ('Slater', 896),\n",
       " ('Polisher', 896),\n",
       " ('Physiotherapist', 895),\n",
       " ('Restorer', 895),\n",
       " ('Vehicle Assessor', 895),\n",
       " ('Windscreen Fitter', 895),\n",
       " ('Sheriff Clerk', 895),\n",
       " ('Marine Electrician', 895),\n",
       " ('Zoo Keeper', 895),\n",
       " ('Recorder', 895),\n",
       " ('Sports Administrator', 894),\n",
       " ('Astrologer', 894),\n",
       " ('Medical Assistant', 894),\n",
       " ('Translator', 894),\n",
       " ('Heating Engineer', 894),\n",
       " ('Law Clerk', 894),\n",
       " ('Genealogist', 894),\n",
       " ('Miner', 893),\n",
       " ('Research Technician', 893),\n",
       " ('Technical Advisor', 893),\n",
       " ('Navigator', 893),\n",
       " ('Riding Instructor', 893),\n",
       " ('Tunneller', 893),\n",
       " ('Antique Dealer', 893),\n",
       " ('Aircraft Designer', 893),\n",
       " ('Garage Attendant', 893),\n",
       " ('Transport Officer', 892),\n",
       " ('Window Dresser', 892),\n",
       " ('Baggage Handler', 892),\n",
       " ('Lineman', 892),\n",
       " ('Plant Driver', 892),\n",
       " ('Health Visitor', 892),\n",
       " ('Cabinet Maker', 892),\n",
       " ('Publican', 891),\n",
       " ('Systems Analyst', 891),\n",
       " ('Philatelist', 891),\n",
       " ('Osteopath', 891),\n",
       " ('Homeworker', 891),\n",
       " ('Youth Worker', 891),\n",
       " ('Licensed Premises', 891),\n",
       " ('Physician', 891),\n",
       " ('Administration Clerk', 891),\n",
       " ('Nursing Manager', 891),\n",
       " ('IT Consultant', 891),\n",
       " ('Tattooist', 891),\n",
       " ('Reflexologist', 890),\n",
       " ('Shunter', 890),\n",
       " ('Physiologist', 890),\n",
       " ('Gamekeeper', 890),\n",
       " ('Accounts Assistant', 890),\n",
       " ('HGV Driver', 890),\n",
       " ('Motor Mechanic', 890),\n",
       " ('Chimney Sweep', 890),\n",
       " ('Aerobic Instructor', 890),\n",
       " ('Landlord', 890),\n",
       " ('Charity Worker', 890),\n",
       " ('Publisher', 890),\n",
       " ('Ledger Clerk', 890),\n",
       " ('Carphone Fitter', 890),\n",
       " ('Taxi Controller', 890),\n",
       " ('Business Consultant', 889),\n",
       " ('Aerial Erector', 889),\n",
       " ('Stage Manager', 889),\n",
       " ('Assistant Manager', 889),\n",
       " ('Gilder', 889),\n",
       " ('Advertising Clerk', 889),\n",
       " ('Travel Guide', 889),\n",
       " ('Gun Smith', 888),\n",
       " ('Prison Chaplain', 888),\n",
       " ('Wages Clerk', 888),\n",
       " ('Surgeon', 888),\n",
       " ('Playgroup Leader', 888),\n",
       " ('Press Operator', 888),\n",
       " ('Accounts Manager', 888),\n",
       " ('Interpreter', 888),\n",
       " ('Technical Co-ordinator', 888),\n",
       " ('Land Agent', 888),\n",
       " ('Brewer', 888),\n",
       " ('Restaurant Manager', 888),\n",
       " ('Clairvoyant', 888),\n",
       " ('Rent Collector', 888),\n",
       " ('Tool Maker', 888),\n",
       " ('Bus Driver', 888),\n",
       " ('Armourer', 888),\n",
       " ('Transport Manager', 888),\n",
       " ('Skipper', 888),\n",
       " ('Library Manager', 887),\n",
       " ('Screen Printer', 887),\n",
       " ('Seamstress', 887),\n",
       " ('Producer', 887),\n",
       " ('Special Constable', 887),\n",
       " ('Moneylender', 887),\n",
       " ('Repair Man', 887),\n",
       " ('Payroll Supervisor', 887),\n",
       " ('Maths Teacher', 887),\n",
       " ('Technical Director', 887),\n",
       " ('Booking Clerk', 887),\n",
       " ('Pilot', 887),\n",
       " ('Resin Caster', 886),\n",
       " ('Paediatrician', 886),\n",
       " ('Child Minder', 886),\n",
       " ('Plant Attendant', 886),\n",
       " ('Airport Manager', 886),\n",
       " ('Television Presenter', 886),\n",
       " ('Milliner', 886),\n",
       " ('Horse Dealer', 886),\n",
       " ('Television Director', 886),\n",
       " ('Timber Inspector', 885),\n",
       " ('Forest Ranger', 885),\n",
       " ('Caretaker', 885),\n",
       " ('Butcher', 885),\n",
       " ('Chiropodist', 885),\n",
       " ('Shelter Warden', 885),\n",
       " ('Soldier', 885),\n",
       " ('Panel Beater', 885),\n",
       " ('Baptist Minister', 885),\n",
       " ('Bacon Curer', 885),\n",
       " ('Foundry Worker', 885),\n",
       " ('Builder', 885),\n",
       " ('Bank Clerk', 885),\n",
       " ('Telephone Engineer', 885),\n",
       " ('Shepherd', 885),\n",
       " ('Research Director', 884),\n",
       " ('Yacht Master', 884),\n",
       " ('Promoter', 884),\n",
       " ('Care Assistant', 884),\n",
       " ('Newsagent', 884),\n",
       " ('Chartered', 884),\n",
       " ('Circus Proprietor', 884),\n",
       " ('Patent Attorney', 884),\n",
       " ('Milkman', 884),\n",
       " ('Marine Surveyor', 884),\n",
       " ('Bill Poster', 884),\n",
       " ('Guest House Owner', 883),\n",
       " ('Leaflet Distributor', 883),\n",
       " ('Furniture Dealer', 883),\n",
       " ('Jockey', 883),\n",
       " ('Shipwright', 883),\n",
       " ('Rose Grower', 883),\n",
       " ('Motor Dealer', 883),\n",
       " ('Food Processor', 883),\n",
       " ('Carpet Fitter', 883),\n",
       " ('Blind Fitter', 883),\n",
       " ('Turner', 883),\n",
       " ('Works Manager', 883),\n",
       " ('Purchase Ledger Clerk', 883),\n",
       " ('Technician', 882),\n",
       " ('Precision Engineer', 882),\n",
       " ('Decorator', 882),\n",
       " ('Executive', 882),\n",
       " ('Sales Manager', 882),\n",
       " ('Stone Sawyer', 882),\n",
       " ('Representative', 882),\n",
       " ('Insurance Agent', 882),\n",
       " ('Trainee Manager', 882),\n",
       " ('Metal Polisher', 882),\n",
       " ('Air Traffic Controller', 882),\n",
       " ('Attendant', 882),\n",
       " ('Parts Manager', 882),\n",
       " ('Landowner', 882),\n",
       " ('Investment Advisor', 882),\n",
       " ('Lighting Technician', 882),\n",
       " ('Welfare Officer', 882),\n",
       " ('Cashier', 882),\n",
       " ('Boat Builder', 882),\n",
       " ('Proof Reader', 881),\n",
       " ('Househusband', 881),\n",
       " ('Bar Steward', 881),\n",
       " ('Housekeeper', 881),\n",
       " ('Produce Supervisor', 881),\n",
       " ('Training Officer', 881),\n",
       " ('Hire Car Driver', 881),\n",
       " ('Lighthouse Keeper', 881),\n",
       " ('Print Finisher', 881),\n",
       " ('Beautician', 881),\n",
       " ('Barman', 881),\n",
       " ('Interior Decorator', 881),\n",
       " ('Metal Engineer', 881),\n",
       " ('Fireman', 881),\n",
       " ('Liaison Officer', 881),\n",
       " ('Machine Operator', 881),\n",
       " ('Acoustic Engineer', 881),\n",
       " ('Supply Teacher', 881),\n",
       " ('Ambulance Driver', 880),\n",
       " ('Purchasing Assistant', 880),\n",
       " ('Warehousewoman', 880),\n",
       " ('Transport Planner', 880),\n",
       " ('Saddler', 880),\n",
       " ('Car Salesman', 880),\n",
       " ('Sales Executive', 880),\n",
       " ('Purchasing Manager', 880),\n",
       " ('Tacker', 880),\n",
       " ('Booking Agent', 880),\n",
       " ('Delivery Driver', 880),\n",
       " ('Rig Worker', 880),\n",
       " ('Television Engineer', 880),\n",
       " ('Negotiator', 880),\n",
       " ('Television Producer', 880),\n",
       " ('Marine Geologist', 880),\n",
       " ('Medical Physicist', 880),\n",
       " ('Goods Handler', 880),\n",
       " ('Astronomer', 880),\n",
       " ('Hod Carrier', 880),\n",
       " ('Masseuse', 879),\n",
       " ('Station Manager', 879),\n",
       " ('Production Planner', 879),\n",
       " ('Paint Consultant', 879),\n",
       " ('Tailor', 879),\n",
       " ('Marble Finisher', 879),\n",
       " ('Training Instructor', 879),\n",
       " ('Meter Reader', 879),\n",
       " ('Veterinary Surgeon', 879),\n",
       " ('Laboratory Analyst', 879),\n",
       " ('Loans Manager', 878),\n",
       " ('Technical Editor', 878),\n",
       " ('Remedial Therapist', 878),\n",
       " ('Entertainer', 878),\n",
       " ('Reporter', 878),\n",
       " ('Physicist', 878),\n",
       " ('Granite Technician', 878),\n",
       " ('Consultant', 878),\n",
       " ('Auto Electrician', 878),\n",
       " ('Military Leader', 878),\n",
       " ('Production Manager', 878),\n",
       " ('Litigation Manager', 878),\n",
       " ('Seaman', 878),\n",
       " ('Medical Consultant', 878),\n",
       " ('Music Teacher', 878),\n",
       " ('Health Care Assistant', 878),\n",
       " ('Travel Representative', 878),\n",
       " ('Park Keeper', 878),\n",
       " ('Production Engineer', 878),\n",
       " ('Hospital Technician', 878),\n",
       " ('Orthoptist', 878),\n",
       " ('Opera Singer', 877),\n",
       " ('Nursing Auxiliary', 877),\n",
       " ('Turf Accountant', 877),\n",
       " ('Marketing Director', 877),\n",
       " ('History Teacher', 877),\n",
       " ('Metallurgist', 877),\n",
       " ('Weighbridge Operator', 877),\n",
       " ('Carpet Retailer', 877),\n",
       " ('Medal Dealer', 877),\n",
       " ('Training Consultant', 877),\n",
       " ('Ventriloquist', 877),\n",
       " ('Product Manager', 877),\n",
       " ('Marine Broker', 877),\n",
       " ('Golfer', 877),\n",
       " ('Hygienist', 877),\n",
       " ('Shipping Officer', 876),\n",
       " ('Forwarding Agent', 876),\n",
       " ('Aircraft Maintenance Engineer', 876),\n",
       " ('Medical Secretary', 876),\n",
       " ('Motor Racing', 876),\n",
       " ('Independent Means', 876),\n",
       " ('Cameraman', 876),\n",
       " ('Racing Organiser', 876),\n",
       " ('Fork Lift Truck Driver', 876),\n",
       " ('Body Fitter', 876),\n",
       " ('Tax Analyst', 876),\n",
       " ('Press Setter', 876),\n",
       " ('Ironmonger', 876),\n",
       " ('Foster Parent', 876),\n",
       " ('Artist', 876),\n",
       " ('Building Surveyor', 875),\n",
       " ('Merchant Banker', 875),\n",
       " ('Car Valet', 875),\n",
       " ('Mill Worker', 875),\n",
       " ('Operative', 875),\n",
       " ('Watchmaker', 875),\n",
       " ('Nun', 875),\n",
       " ('Adjustor', 875),\n",
       " ('Labourer', 875),\n",
       " ('Storeman', 874),\n",
       " ('Locksmith', 874),\n",
       " ('Orchestral', 874),\n",
       " ('Sheriff Principal', 874),\n",
       " ('Claims Assessor', 874),\n",
       " ('Midwife', 874),\n",
       " ('Health And Safety', 874),\n",
       " ('Chemist', 874),\n",
       " ('Plasterer', 874),\n",
       " ('Insurance Consultant', 874),\n",
       " ('Records Supervisor', 874),\n",
       " ('Pattern Cutter', 874),\n",
       " ('Lighterman', 874),\n",
       " ('Au Pair', 874),\n",
       " ('Textile Technician', 874),\n",
       " ('Public House Manager', 874),\n",
       " ('Patrolman', 874),\n",
       " ('Hospital Consultant', 873),\n",
       " ('Relocation Agent', 873),\n",
       " ('Stable Hand', 873),\n",
       " ('Reprographic Assistant', 873),\n",
       " ('Carpet Cleaner', 873),\n",
       " ('Project Engineer', 873),\n",
       " ('Psychotherapist', 873),\n",
       " ('Travel Courier', 873),\n",
       " ('Loss Adjustor', 873),\n",
       " ('Counsellor', 873),\n",
       " ('Training Advisor', 873),\n",
       " ('Doctor', 873),\n",
       " ('Investment Banker', 872),\n",
       " ('Magistrate', 872),\n",
       " ('Theatrical Agent', 872),\n",
       " ('Porter', 872),\n",
       " ('Organiser', 872),\n",
       " ('Packer', 872),\n",
       " ('Housewife', 872),\n",
       " ('Maid', 872),\n",
       " ('Blinds Installer', 871),\n",
       " ('Saleswoman', 871),\n",
       " ('Hypnotherapist', 871),\n",
       " ('Sales Assistant', 871),\n",
       " ('Sales Director', 871),\n",
       " ('Assistant Nurse', 871),\n",
       " ('Shoe Maker', 871),\n",
       " ('Health Advisor', 871),\n",
       " ('Cellarman', 871),\n",
       " ('Publicity Manager', 871),\n",
       " ('Toy Maker', 871),\n",
       " ('Industrial Consultant', 871),\n",
       " ('Sound Technician', 870),\n",
       " ('Travel Agent', 870),\n",
       " ('Restaurateur', 870),\n",
       " ('Safety Officer', 870),\n",
       " ('Lock Keeper', 870),\n",
       " ('Radio Operator', 870),\n",
       " ('Literary Agent', 870),\n",
       " ('Metal Dealer', 870),\n",
       " ('Quality Engineer', 870),\n",
       " ('Literary Editor', 870),\n",
       " ('Supervisor', 870),\n",
       " ('Cafe Worker', 870),\n",
       " ('Art Critic', 870),\n",
       " ('Gynaecologist', 870),\n",
       " ('Nursing Sister', 870),\n",
       " ('Shoe Repairer', 869),\n",
       " ('Occupations', 869),\n",
       " ('Injection Moulder', 869),\n",
       " ('Golf Caddy', 869),\n",
       " ('Assistant', 869),\n",
       " ('Quality Technician', 869),\n",
       " ('Stationer', 869),\n",
       " ('Bricklayer', 869),\n",
       " ('Palaeontologist', 869),\n",
       " ('Advertising Executive', 869),\n",
       " ('French Polisher', 869),\n",
       " ('Gate Keeper', 869),\n",
       " ('Video Artist', 869),\n",
       " ('Balloonist', 869),\n",
       " ('Security Controller', 868),\n",
       " ('Orthopaedic', 868),\n",
       " ('Special Needs', 868),\n",
       " ('Operations', 868),\n",
       " ('Tachograph Analyst', 868),\n",
       " ('Technical Assistant', 868),\n",
       " ('Jazz Composer', 868),\n",
       " ('Palaeobotanist', 868),\n",
       " ('Licensing', 868),\n",
       " ('Nursery Worker', 868),\n",
       " ('Toll Collector', 868),\n",
       " ('Chef', 868),\n",
       " ('Lorry Driver', 868),\n",
       " ('Fruiterer', 868),\n",
       " ('Auxiliary Nurse', 868),\n",
       " ('Minicab Driver', 867),\n",
       " ('Screen Writer', 867),\n",
       " ('Hypnotist', 867),\n",
       " ('Baker', 867),\n",
       " ('Tax Officer', 867),\n",
       " ('Stenographer', 867),\n",
       " ('Portfolio Manager', 867),\n",
       " ('Tobacconist', 867),\n",
       " ('Office Worker', 867),\n",
       " ('Telemarketeer', 867),\n",
       " ('Pool Attendant', 867),\n",
       " ('Book Binder', 867),\n",
       " ('Line Worker', 867),\n",
       " ('Archivist', 867),\n",
       " ('Licensee', 867),\n",
       " ('Gaming Club Proprietor', 866),\n",
       " ('Pipe Insulator', 866),\n",
       " ('Riveter', 866),\n",
       " ('General Practitioner', 866),\n",
       " ('Instrument Engineer', 866),\n",
       " ('Betting Shop', 866),\n",
       " ('Envoy', 866),\n",
       " ('Tour Guide', 866),\n",
       " ('Herbalist', 866),\n",
       " ('Optical', 866),\n",
       " ('Surveyor', 866),\n",
       " ('Steel Worker', 866),\n",
       " ('Theatre Manager', 866),\n",
       " ('Valve Technician', 866),\n",
       " ('Housing Supervisor', 866),\n",
       " ('Radio Producer', 866),\n",
       " ('Violinist', 866),\n",
       " ('Hospital Orderly', 866),\n",
       " ('Health Therapist', 866),\n",
       " ('Telesales Person', 865),\n",
       " ('Script Writer', 865),\n",
       " ('Beauty Therapist', 865),\n",
       " ('TV Editor', 865),\n",
       " ('Building Control', 865),\n",
       " ('Payroll Manager', 865),\n",
       " ('Lavatory Attendant', 865),\n",
       " ('Shop Keeper', 865),\n",
       " ('Oil Broker', 865),\n",
       " ('Commissioned', 865),\n",
       " ('Personnel Officer', 865),\n",
       " ('Spring Maker', 865),\n",
       " ('Office Manager', 864),\n",
       " ('Journalist', 864),\n",
       " ('Bailiff', 864),\n",
       " ('Glazier', 864),\n",
       " ('Administration Assistant', 864),\n",
       " ('Sports Commentator', 864),\n",
       " ('Professional Wrestler', 864),\n",
       " ('Revenue Clerk', 864),\n",
       " ('Hop Merchant', 864),\n",
       " ('Off Shore', 864),\n",
       " ('Interviewer', 864),\n",
       " ('Stone Cutter', 864),\n",
       " ('Labelling Operator', 864),\n",
       " ('Park Attendant', 864),\n",
       " ('Mineralologist', 864),\n",
       " ('Student Nurse', 864),\n",
       " ('Revenue Officer', 864),\n",
       " ('Building Advisor', 864),\n",
       " ('Inspector', 864),\n",
       " ('Butchery Manager', 863),\n",
       " ('Accounts Clerk', 863),\n",
       " ('Jewellery', 863),\n",
       " ('Tea Taster', 863),\n",
       " ('Typist', 863),\n",
       " ('Bank Manager', 863),\n",
       " ('Software Engineer', 863),\n",
       " ('Voluntary Worker', 863),\n",
       " ('Outreach Worker', 863),\n",
       " ('Lifeguard', 863),\n",
       " ('Foam Convertor', 863),\n",
       " ('Civil Engineer', 863),\n",
       " ('Textile Consultant', 862),\n",
       " ('Store Detective', 862),\n",
       " ('Architect', 862),\n",
       " ('Research Consultant', 862),\n",
       " ('Scientist', 862),\n",
       " ('Chambermaid', 862),\n",
       " ('Cartographer', 862),\n",
       " ('Hairdresser', 862),\n",
       " ('Undertaker', 862),\n",
       " ('Tennis Coach', 862),\n",
       " ('Marketing Coordinator', 862),\n",
       " ('Horse Trainer', 862),\n",
       " ('Sail Maker', 862),\n",
       " ('Track Worker', 862),\n",
       " ('Councillor', 862),\n",
       " ('Teacher', 862),\n",
       " ('Economist', 862),\n",
       " ('English Teacher', 862),\n",
       " ('Waitress', 862),\n",
       " ('Cab Driver', 861),\n",
       " ('Picture Framer', 861),\n",
       " ('Advertising Assistant', 861),\n",
       " ('Market Gardener', 861),\n",
       " ('Tree Surgeon', 861),\n",
       " ('Marquee Erector', 861),\n",
       " ('IT Manager', 861),\n",
       " ('Pig Man', 861),\n",
       " ('Service Engineer', 861),\n",
       " ('Furniture Remover', 861),\n",
       " ('Vehicle Engineer', 861),\n",
       " ('Car Dealer', 861),\n",
       " ('Pools Collector', 861),\n",
       " ('Road Safety Officer', 861),\n",
       " ('Machine Tool Fitter', 861),\n",
       " ('Telegraphist', 860),\n",
       " ('Sheet Metal Worker', 860),\n",
       " ('Treasurer', 860),\n",
       " ('Sports Coach', 860),\n",
       " ('Potter', 860),\n",
       " ('Bar Manager', 860),\n",
       " ('Funeral Furnisher', 860),\n",
       " ('Green Keeper', 860),\n",
       " ('Van Driver', 860),\n",
       " ('Actor', 859),\n",
       " ('Marketing Assistant', 859),\n",
       " ('Psychologist', 859),\n",
       " ('Medical Supplier', 859),\n",
       " ('Camera Repairer', 859),\n",
       " ('Pallet Maker', 859),\n",
       " ('Chiropractor', 859),\n",
       " ('Planning Manager', 859),\n",
       " ('Training Co-ordinator', 859),\n",
       " ('Home Help', 859),\n",
       " ('Car Park Attendant', 859),\n",
       " ('Project Manager', 859),\n",
       " ('Joinery Consultant', 859),\n",
       " ('Haulage Contractor', 859),\n",
       " ('Glass Worker', 859),\n",
       " ('Lecturer', 858),\n",
       " ('Telex Operator', 858),\n",
       " ('Practice Manager', 858),\n",
       " ('Archaeologist', 858),\n",
       " ('Lift Engineer', 858),\n",
       " ('Laundry Worker', 858),\n",
       " ('Furniture Restorer', 858),\n",
       " ('Project Worker', 858),\n",
       " ('Prison Officer', 858),\n",
       " ('Librarian', 857),\n",
       " ('Tea Blender', 857),\n",
       " ('Ship Builder', 857),\n",
       " ('Charge Hand', 857),\n",
       " ('Night Watchman', 857),\n",
       " ('Trade Mark Agent', 857),\n",
       " ('Aircraft Surface Finisher', 857),\n",
       " ('Trade Union Official', 857),\n",
       " ('Health Nurse', 857),\n",
       " ('Sales Administrator', 857),\n",
       " ('Guest House Proprietor', 857),\n",
       " ('Meat Wholesaler', 857),\n",
       " ('Tyre Technician', 857),\n",
       " ('Cafe Owner', 857),\n",
       " ('Lathe Operator', 857),\n",
       " ('Neurologist', 857),\n",
       " ('Barber', 857),\n",
       " ('Teachers Assistant', 857),\n",
       " ('Market Research', 857),\n",
       " ('Bookmaker', 857),\n",
       " ('Vehicle Body Worker', 857),\n",
       " ('Mathematician', 856),\n",
       " ('Steel Erector', 856),\n",
       " ('Hawker', 856),\n",
       " ('Transport Clerk', 856),\n",
       " ('Ship Broker', 856),\n",
       " ('Hospital Manager', 856),\n",
       " ('Machine Minder', 856),\n",
       " ('Printer', 856),\n",
       " ('Meteorologist', 856),\n",
       " ('Property Developer', 856),\n",
       " ('Health Planner', 856),\n",
       " ('Medical Technician', 856),\n",
       " ('Tiler', 856),\n",
       " ('Taxidermist', 856),\n",
       " ('Footballer', 856),\n",
       " ('Tug Skipper', 856),\n",
       " ('Tanner', 856),\n",
       " ('Street Entertainer', 856),\n",
       " ('Bus Company', 856),\n",
       " ('Park Ranger', 856),\n",
       " ('Goldsmith', 855),\n",
       " ('Town Planner', 855),\n",
       " ('Preacher', 855),\n",
       " ('Interior Designer', 855),\n",
       " ('Thatcher', 855),\n",
       " ('Catering Consultant', 855),\n",
       " ('Cartoonist', 855),\n",
       " ('Research Scientist', 855),\n",
       " ('Mortician', 855),\n",
       " ('Software Consultant', 855),\n",
       " ('Projectionist', 855),\n",
       " ('Quality Controller', 855),\n",
       " ('Welfare Rights Officer', 855),\n",
       " ('Ticket Agent', 855),\n",
       " ('Radiographer', 855),\n",
       " ('Governor', 855),\n",
       " ('Patent Agent', 855),\n",
       " ('Outdoor Pursuits', 855),\n",
       " ('Grocer', 854),\n",
       " ('Radio Director', 854),\n",
       " ('Telecommunication', 854),\n",
       " ('Cleric', 854),\n",
       " ('Church Officer', 854),\n",
       " ('Steeplejack', 854),\n",
       " ('Purchase Clerk', 854),\n",
       " ('Signwriter', 854),\n",
       " ('Cafe Staff', 854),\n",
       " ('Servant', 854),\n",
       " ('Bodyshop', 854),\n",
       " ('Refuse Collector', 854),\n",
       " ('Civil Servant', 854),\n",
       " ('Illustrator', 854),\n",
       " ('Bus Conductor', 854),\n",
       " ('Plant Operator', 853),\n",
       " ('Signalman', 853),\n",
       " ('Milklady', 853),\n",
       " ('Aircraft Engineer', 853),\n",
       " ('Acupuncturist', 853),\n",
       " ('Sheriff', 853),\n",
       " ('Receptionist', 853),\n",
       " ('Airport Controller', 853),\n",
       " ('Homeopath', 853),\n",
       " ('Motor Engineer', 853),\n",
       " ('Technical Author', 853),\n",
       " ('Plastics Consultant', 853),\n",
       " ('Plumber', 853),\n",
       " ('Ambulance Controller', 853),\n",
       " ('Tractor Driver', 853),\n",
       " ('Hotel Worker', 853),\n",
       " ('Progress Chaser', 852),\n",
       " ('Production Hand', 852),\n",
       " ('Warehouseman', 852),\n",
       " ('Pharmacist', 852),\n",
       " ('Service Manager', 852),\n",
       " ('Postman', 852),\n",
       " ('Technical Illustrator', 852),\n",
       " ('Quality Inspector', 852),\n",
       " ('Plate Layer', 852),\n",
       " ('Showman', 852),\n",
       " ('Accountant', 852),\n",
       " ('Toy Trader', 852),\n",
       " ('Ground Worker', 852),\n",
       " ('Stock Manager', 851),\n",
       " ('Manicurist', 851),\n",
       " ('Matron', 851),\n",
       " ('Operator', 851),\n",
       " ('Security Guard', 851),\n",
       " ('Parts Man', 851),\n",
       " ('Mining Engineer', 851),\n",
       " ('Payroll Clerk', 851),\n",
       " ('Social Worker', 850),\n",
       " ('Graphic Designer', 850),\n",
       " ('Transport Consultant', 850),\n",
       " ('Log Merchant', 850),\n",
       " ('Careers Officer', 850),\n",
       " ('Night Porter', 850),\n",
       " ('Show Jumper', 850),\n",
       " ('Artexer', 850),\n",
       " ('Lime Kiln Attendant', 850),\n",
       " ('Stonemason', 850),\n",
       " ('Organist', 850),\n",
       " ('Recruitment Consultant', 850),\n",
       " ('Warehouse Manager', 850),\n",
       " ('Care Manager', 849),\n",
       " ('Book Seller', 849),\n",
       " ('Make Up Artist', 849),\n",
       " ('Legal Secretary', 849),\n",
       " ('Greengrocer', 849),\n",
       " ('Motor Trader', 849),\n",
       " ('Systems Manager', 849),\n",
       " ('Money Broker', 849),\n",
       " ('Applications Engineer', 849),\n",
       " ('Shop Manager', 849),\n",
       " ('Radio Controller', 849),\n",
       " ('Legal Executive', 849),\n",
       " ('Shop Proprietor', 849),\n",
       " ('Transcriber', 849),\n",
       " ('Importer', 849),\n",
       " ('Site Engineer', 848),\n",
       " ('Plant Fitter', 848),\n",
       " ('Traffic Warden', 848),\n",
       " ('Farmer', 848),\n",
       " ('Plater', 848),\n",
       " ('Assembly Worker', 848),\n",
       " ('Warden', 848),\n",
       " ('Ornithologist', 848),\n",
       " ('Magistrates Clerk', 848),\n",
       " ('Landlady', 848),\n",
       " ('Forensic Scientist', 848),\n",
       " ('Analytical Chemist', 848),\n",
       " ('Actuary', 848),\n",
       " ('Marble Mason', 848),\n",
       " ('Youth Hostel Warden', 847),\n",
       " ('Shot Blaster', 847),\n",
       " ('Radio Presenter', 847),\n",
       " ('Mooring Contractor', 847),\n",
       " ('Machine Tool', 847),\n",
       " ('Audit Clerk', 847),\n",
       " ('Magician', 847),\n",
       " ('Auditor', 847),\n",
       " ('Training Manager', 847),\n",
       " ('Knitter', 847),\n",
       " ('Shelf Filler', 847),\n",
       " ('Brewery Manager', 847),\n",
       " ('Planning Officer', 847),\n",
       " ('Solicitor', 847),\n",
       " ('Musician', 847),\n",
       " ('Medical Practitioner', 846),\n",
       " ('Microbiologist', 846),\n",
       " ('Lumberjack', 846),\n",
       " ('Museum Attendant', 846),\n",
       " ('Police Officer', 846),\n",
       " ('Quality Manager', 846),\n",
       " ('Pipe Inspector', 846),\n",
       " ('Instructor', 846),\n",
       " ('Sign Maker', 846),\n",
       " ('Gravel Merchant', 845),\n",
       " ('Stage Mover', 845),\n",
       " ('Tax Manager', 845),\n",
       " ('Flower Arranger', 845),\n",
       " ('Assistant Cook', 845),\n",
       " ('Marine Consultant', 845),\n",
       " ('Sportswoman', 845),\n",
       " ('Childminder', 845),\n",
       " ('Anaesthetist', 845),\n",
       " ('Partition Erector', 845),\n",
       " ('Area Manager', 845),\n",
       " ('Nanny', 844),\n",
       " ('Tyre Builder', 844),\n",
       " ('Sub-Postmaster', 844),\n",
       " ('Choreographer', 844),\n",
       " ('Ambulance Crew', 844),\n",
       " ('Pig Manager', 844),\n",
       " ('Pet Minder', 844),\n",
       " ('Investigator', 844),\n",
       " ('Assistant Teacher', 844),\n",
       " ('Procurator Fiscal', 844),\n",
       " ('Sound Artist', 844),\n",
       " ('Marketing Agent', 844),\n",
       " ('Building Engineer', 844),\n",
       " ('Barrister', 844),\n",
       " ('Advertising Staff', 843),\n",
       " ('Hotel Consultant', 843),\n",
       " ('Turkey Farmer', 843),\n",
       " ('Stud Hand', 843),\n",
       " ('Quantity Surveyor', 843),\n",
       " ('Optical Assistant', 843),\n",
       " ('Train Driver', 843),\n",
       " ('Cargo Operator', 843),\n",
       " ('Mattress Maker', 843),\n",
       " ('Editor', 843),\n",
       " ('Wood Cutter', 843),\n",
       " ('Manufacturing', 843),\n",
       " ('Tyre Fitter', 842),\n",
       " ('Gaming Club Manager', 842),\n",
       " ('Weighbridge Clerk', 842),\n",
       " ('Advertising Contractor', 842),\n",
       " ('Mechanic', 842),\n",
       " ('Saw Miller', 842),\n",
       " ('Rally Driver', 842),\n",
       " ('Geophysicist', 842),\n",
       " ('Picture Editor', 842),\n",
       " ('Cable TV Installer', 842),\n",
       " ('Picture Reseacher', 842),\n",
       " ('Brewery Worker', 842),\n",
       " ('Hearing Therapist', 842),\n",
       " ('Merchant', 842),\n",
       " ('Scientific Officer', 841),\n",
       " ('Stocktaker', 841),\n",
       " ('Audit Manager', 841),\n",
       " ('Optometrist', 841),\n",
       " ('Jeweller', 841),\n",
       " ('Homecare Manager', 841),\n",
       " ('Coroner', 841),\n",
       " ('Textile Engineer', 841),\n",
       " ('Cable Jointer', 841),\n",
       " ('Security Officer', 841),\n",
       " ('Tax Assistant', 841),\n",
       " ('Housing Assistant', 840),\n",
       " ('Cleaner', 840),\n",
       " ('Fraud Investigator', 840),\n",
       " ('Keep Fit Instructor', 840),\n",
       " ('Classroom Aide', 840),\n",
       " ('Funeral Director', 840),\n",
       " ('Church Warden', 840),\n",
       " ('Bursar', 840),\n",
       " ('Podiatrist', 840),\n",
       " ('Ceiling Fixer', 839),\n",
       " ('Joiner', 839),\n",
       " ('Professional Racing', 839),\n",
       " ('Clerk', 839),\n",
       " ('Line Manager', 839),\n",
       " ('Tractor Mechanic', 839),\n",
       " ('Bingo Caller', 839),\n",
       " ('Chandler', 839),\n",
       " ('Piano Tuner', 838),\n",
       " ('Pattern Maker', 838),\n",
       " ('Technical Analyst', 838),\n",
       " ('Calibration Manager', 838),\n",
       " ('Radio Engineer', 838),\n",
       " ('Car Wash Attendant', 838),\n",
       " ('Furnace Man', 838),\n",
       " ('Business Proprietor', 838),\n",
       " ('Floor Layer', 837),\n",
       " ('Shift Controller', 837),\n",
       " ('Linguist', 837),\n",
       " ('Engineer', 837),\n",
       " ('Travel Consultant', 837),\n",
       " ('Vehicle Technician', 837),\n",
       " ('Branch Manager', 836),\n",
       " ('Pastry Chef', 836),\n",
       " ('Anthropologist', 836),\n",
       " ('Textile Worker', 836),\n",
       " ('Rector', 836),\n",
       " ('Sportsman', 836),\n",
       " ('Marine Pilot', 836),\n",
       " ('Groundsman', 836),\n",
       " ('Flying Instructor', 836),\n",
       " ('Systems Engineer', 836),\n",
       " ('Biologist', 835),\n",
       " ('Share Dealer', 835),\n",
       " ('Almoner', 835),\n",
       " ('Nurse', 835),\n",
       " ('Casual Worker', 835),\n",
       " ('Legal Assistant', 835),\n",
       " ('Chaplain', 835),\n",
       " ('Buyer', 835),\n",
       " ('Floor Manager', 835),\n",
       " ('Auction Worker', 835),\n",
       " ('Secretary', 835),\n",
       " ('Scrap Dealer', 835),\n",
       " ('Cinema Manager', 835),\n",
       " ('Yard Manager', 834),\n",
       " ('Student Teacher', 834),\n",
       " ('Registrar', 834),\n",
       " ('Mill Operator', 834),\n",
       " ('Animal Breeder', 834),\n",
       " ('Bakery Manager', 834),\n",
       " ('Fund Raiser', 834),\n",
       " ('Administration Staff', 834),\n",
       " ('Motor Fitter', 834),\n",
       " ('Writer', 834),\n",
       " ('Sand Blaster', 834),\n",
       " ('Gardener', 834),\n",
       " ('Horse Riding Instructor', 833),\n",
       " ('Graphologist', 833),\n",
       " ('Street Trader', 833),\n",
       " ('Bakery Assistant', 833),\n",
       " ('Project Co-ordinator', 833),\n",
       " ('Retired', 833),\n",
       " ('Welfare Assistant', 833),\n",
       " ('Driver', 833),\n",
       " ('Employee', 833),\n",
       " ('Nursery Nurse', 833),\n",
       " ('Florist', 833),\n",
       " ('Bus Mechanic', 833),\n",
       " ('Agent', 833),\n",
       " ('Mining Consultant', 833),\n",
       " ('Groom', 833),\n",
       " ('Messenger', 832),\n",
       " ('Caterer', 832),\n",
       " ('Public Relations Of?cer', 832),\n",
       " ...]"
      ]
     },
     "execution_count": 9,
     "metadata": {},
     "output_type": "execute_result"
    }
   ],
   "execution_count": 9
  },
  {
   "cell_type": "code",
   "id": "79677972-e000-40e5-afa6-2de579d36cc4",
   "metadata": {
    "ExecuteTime": {
     "end_time": "2024-10-16T11:47:33.135241Z",
     "start_time": "2024-10-16T11:47:33.130728Z"
    }
   },
   "source": [
    "adults = b.filter(lambda record: record['age'] >= 18)\n",
    "adults"
   ],
   "outputs": [
    {
     "data": {
      "text/plain": [
       "dask.bag<filter-lambda, npartitions=100>"
      ]
     },
     "execution_count": 10,
     "metadata": {},
     "output_type": "execute_result"
    }
   ],
   "execution_count": 10
  },
  {
   "cell_type": "markdown",
   "id": "7f716321-146e-4f48-a611-b89647aeb39f",
   "metadata": {},
   "source": [
    "## 2. Dask delayed."
   ]
  },
  {
   "cell_type": "markdown",
   "id": "c929a581-190b-420c-bf44-3c06863bd691",
   "metadata": {},
   "source": [
    "Czasami wykorzystanie samych struktur danych, które dostarcza dask może nie wystarczyć, aby współbieżnie wykonać jakieś zadania. Dzięki dask delayed możliwe jest zrównoleglanie wykonania własnego kodu, co pozwala na optymalizowanie bardziej złożonych zadań w mniejsze fragmenty, które można przekazać do wykonania do klastra dask."
   ]
  },
  {
   "cell_type": "markdown",
   "id": "bb11875e-a71d-4e8d-b255-b67073d2065d",
   "metadata": {},
   "source": [
    "Poniższy przykład wykorzystania dask delayed pochodzi z dokumentacji dask dostępnej pod adresem: https://docs.dask.org/en/latest/delayed.html"
   ]
  },
  {
   "cell_type": "code",
   "id": "584e569b-cad0-4867-9b82-5b1e89195161",
   "metadata": {
    "ExecuteTime": {
     "end_time": "2024-10-16T11:47:33.147487Z",
     "start_time": "2024-10-16T11:47:33.135351Z"
    }
   },
   "source": [
    "def inc(x):\n",
    "    return x + 1\n",
    "\n",
    "def double(x):\n",
    "    return x * 2\n",
    "\n",
    "def add(x, y):\n",
    "    return x + y\n",
    "\n",
    "data = [1, 2, 3, 4, 5]"
   ],
   "outputs": [],
   "execution_count": 11
  },
  {
   "cell_type": "code",
   "id": "6c2c0089-2b0a-4d19-87f8-7faf61758521",
   "metadata": {
    "ExecuteTime": {
     "end_time": "2024-10-16T11:47:33.153365Z",
     "start_time": "2024-10-16T11:47:33.147487Z"
    }
   },
   "source": [
    "output = []\n",
    "for x in data:\n",
    "    a = dask.delayed(inc)(x)\n",
    "    b = dask.delayed(double)(x)\n",
    "    c = dask.delayed(add)(a, b)\n",
    "    output.append(c)\n",
    "\n",
    "total = dask.delayed(sum)(output)"
   ],
   "outputs": [],
   "execution_count": 12
  },
  {
   "cell_type": "code",
   "id": "0194738f-2f5d-4b82-aa80-edd98a8d184a",
   "metadata": {
    "ExecuteTime": {
     "end_time": "2024-10-16T11:47:33.341644Z",
     "start_time": "2024-10-16T11:47:33.153365Z"
    }
   },
   "source": [
    "total.visualize()"
   ],
   "outputs": [
    {
     "data": {
      "image/png": "[encoded data removed]",
      "text/plain": [
       "<IPython.core.display.Image object>"
      ]
     },
     "execution_count": 13,
     "metadata": {},
     "output_type": "execute_result"
    }
   ],
   "execution_count": 13
  },
  {
   "cell_type": "markdown",
   "id": "fb332aea-9276-4b36-8af7-d539b1d353f5",
   "metadata": {},
   "source": [
    "Widać tutaj, że dwie pierwsze operacje mogą być wywołane niezależnie gdyż polegają na przetworzeniu listy `x` dwiema niezależnymi funkcjami (`inc` oraz `double`), więc można je wykonać równolegle. Późniejsza operacja `add` musi już być wykonana po wykonaniu wcześniejszych obliczeń, ale dzieląc wcześniej listę `x` na fragmenty również można rozbić to zadanie na wiele mniejszych i zrównoleglić. Finalnie potrzebujemy obliczyć sumę z wyników pośrednich z funkcji `add`."
   ]
  },
  {
   "cell_type": "markdown",
   "id": "3c5bf221-d255-48e8-976c-712e406f460e",
   "metadata": {},
   "source": [
    "**Zadanie 1**  "
   ]
  },
  {
   "cell_type": "markdown",
   "id": "2c6222ef-cc3a-4675-b0e3-83d8cfddc1cd",
   "metadata": {},
   "source": [
    "Zbiór (niemały) logów z różnych systemów do wykorzystania w badaniach. Zwróć uwagę na licencję i cytowanie w razie wykorzystania zbioru.\n",
    "\n",
    "Link: https://github.com/logpai/loghub\n",
    "\n",
    "W przykładzie poniżej zostanie wykorzystany log serwera Apache ze strony wymienionej wyżej.\n",
    "Link do pliku sample: https://github.com/logpai/loghub/blob/master/Apache/Apache_2k.log\n",
    "\n",
    "Kilka przykładowych linii z loga:\n",
    "\n",
    "```console\n",
    "[Sun Dec 04 07:18:00 2005] [notice] workerEnv.init() ok /etc/httpd/conf/workers2.properties\n",
    "[Sun Dec 04 07:18:00 2005] [error] mod_jk child workerEnv in error state 6\n",
    "[Sun Dec 04 07:18:00 2005] [notice] workerEnv.init() ok /etc/httpd/conf/workers2.properties\n",
    "[Sun Dec 04 07:18:00 2005] [error] mod_jk child workerEnv in error state 7\n",
    "[Sun Dec 04 07:45:45 2005] [error] [client 63.13.186.196] Directory index forbidden by rule: /var/www/html/\n",
    "[Sun Dec 04 08:54:17 2005] [error] [client 147.31.138.75] Directory index forbidden by rule: /var/www/html/\n",
    "[Sun Dec 04 09:35:12 2005] [error] [client 207.203.80.15] Directory index forbidden by rule: /var/www/html/\n",
    "[Sun Dec 04 10:53:30 2005] [error] [client 218.76.139.20] Directory index forbidden by rule: /var/www/html/\n",
    "```\n",
    "\n",
    "Poniżej zaprezentowany kod jest podejściem sekwencyjnym do wykonania zadania przetworzenia logów (parsowanie, konwersja daty) i w takiej formie nie można zrównoleglić go tak jak zostało to zaprezentowane na przykładzie powyżej. Przekształcenie łańcucha daty na obiekt datetime wymaga najpierw wykonania parsowania pliku. **Zastanów się i spróbuj przerobić to rozwiązanie tak, aby możliwe było użycie wywołań dask delayed w celu zrównoleglenia części funkcji, np. parsowanie danych w celu pobrania wartości kolumn niezależnie (tylko jednej na raz). Dane końcowe możesz zapisać do dask DataFrame, a następnie do plików parquet.**\n",
    "\n",
    "Aby zyskać równie jakieś porównanie między wersją sekwencyjną a zrównolegloną, dodaj odpowiednio dużo danych ze zbiorów podlinkowanych powyżej oraz zmierz czas obu rozwiązań.\n",
    "\n",
    "W procesie poszukiwania dobrego rozwiązania z użyciem dask delayed pomocny może być poradnik z dobrymi praktykami dla tej części biblioteki dask: https://docs.dask.org/en/latest/delayed-best-practices.html"
   ]
  },
  {
   "cell_type": "code",
   "id": "3743a343-b92a-4e5f-8036-ca6ecec945d3",
   "metadata": {
    "ExecuteTime": {
     "end_time": "2024-10-16T11:47:33.351731Z",
     "start_time": "2024-10-16T11:47:33.341644Z"
    }
   },
   "source": [
    "# kwestia wczytania plików zostanie tu pominięta\n",
    "\n",
    "from datetime import datetime\n",
    "import time\n",
    "import pandas as pd\n",
    "\n",
    "lines = [\n",
    "\"[Sun Dec 04 07:18:00 2005] [notice] workerEnv.init() ok /etc/httpd/conf/workers2.properties\",\n",
    "\"[Sun Dec 04 07:18:00 2005] [error] mod_jk child workerEnv in error state 6\",\n",
    "\"[Sun Dec 04 07:18:00 2005] [notice] workerEnv.init() ok /etc/httpd/conf/workers2.properties\",\n",
    "\"[Sun Dec 04 07:18:00 2005] [error] mod_jk child workerEnv in error state 7\",\n",
    "\"[Sun Dec 04 07:45:45 2005] [error] [client 63.13.186.196] Directory index forbidden by rule: /var/www/html/\",\n",
    "\"[Sun Dec 04 08:54:17 2005] [error] [client 147.31.138.75] Directory index forbidden by rule: /var/www/html/\",\n",
    "\"[Sun Dec 04 09:35:12 2005] [error] [client 207.203.80.15] Directory index forbidden by rule: /var/www/html/\",\n",
    "\"[Sun Dec 04 10:53:30 2005] [error] [client 218.76.139.20] Directory index forbidden by rule: /var/www/html/\"\n",
    "]\n",
    "\n",
    "def parse(inp: str):\n",
    "    record = {}\n",
    "    \n",
    "    date_start = inp.find('[') + 1\n",
    "    date_end = inp.find(']')\n",
    "    date_s = slice(date_start, date_end)\n",
    "\n",
    "    level_start = inp.find('[', date_end) + 1\n",
    "    level_end = inp.find(']', level_start)\n",
    "    level_s = slice(level_start, level_end)\n",
    "\n",
    "    client_start = inp.find('[', level_end)\n",
    "    client_end = inp.find(']', client_start)\n",
    "\n",
    "    record[\"date\"] = inp[date_s]    \n",
    "    record[\"level\"] = inp[level_s]\n",
    "    record[\"client\"] = \"\" if client_start == -1 else inp[client_start + 8: client_end]\n",
    "    record[\"message\"] = inp[client_end + 2:] if record[\"client\"] else inp[level_end + 2:]\n",
    "    \n",
    "    return record\n",
    "\n",
    "def convert_date(rec):\n",
    "    rec[\"date\"] = datetime.strptime(rec[\"date\"], \"%a %b %d %H:%M:%S %Y\")\n",
    "\n",
    "    return rec\n",
    "    \n",
    "\n",
    "# przetworzenie loga\n",
    "\n",
    "output = []\n",
    "\n",
    "for line in lines:\n",
    "    record = parse(line)\n",
    "    record = convert_date(record)\n",
    "    output.append(list(record.values()))\n",
    "    \n",
    "df = pd.DataFrame(output, columns=[\"date\", \"level\", \"client\", \"message\"])\n",
    "df.head()"
   ],
   "outputs": [
    {
     "data": {
      "text/plain": [
       "                 date   level         client  \\\n",
       "0 2005-12-04 07:18:00  notice                  \n",
       "1 2005-12-04 07:18:00   error                  \n",
       "2 2005-12-04 07:18:00  notice                  \n",
       "3 2005-12-04 07:18:00   error                  \n",
       "4 2005-12-04 07:45:45   error  63.13.186.196   \n",
       "\n",
       "                                             message  \n",
       "0  workerEnv.init() ok /etc/httpd/conf/workers2.p...  \n",
       "1            mod_jk child workerEnv in error state 6  \n",
       "2  workerEnv.init() ok /etc/httpd/conf/workers2.p...  \n",
       "3            mod_jk child workerEnv in error state 7  \n",
       "4  Directory index forbidden by rule: /var/www/html/  "
      ],
      "text/html": [
       "<div>\n",
       "<style scoped>\n",
       "    .dataframe tbody tr th:only-of-type {\n",
       "        vertical-align: middle;\n",
       "    }\n",
       "\n",
       "    .dataframe tbody tr th {\n",
       "        vertical-align: top;\n",
       "    }\n",
       "\n",
       "    .dataframe thead th {\n",
       "        text-align: right;\n",
       "    }\n",
       "</style>\n",
       "<table border=\"1\" class=\"dataframe\">\n",
       "  <thead>\n",
       "    <tr style=\"text-align: right;\">\n",
       "      <th></th>\n",
       "      <th>date</th>\n",
       "      <th>level</th>\n",
       "      <th>client</th>\n",
       "      <th>message</th>\n",
       "    </tr>\n",
       "  </thead>\n",
       "  <tbody>\n",
       "    <tr>\n",
       "      <th>0</th>\n",
       "      <td>2005-12-04 07:18:00</td>\n",
       "      <td>notice</td>\n",
       "      <td></td>\n",
       "      <td>workerEnv.init() ok /etc/httpd/conf/workers2.p...</td>\n",
       "    </tr>\n",
       "    <tr>\n",
       "      <th>1</th>\n",
       "      <td>2005-12-04 07:18:00</td>\n",
       "      <td>error</td>\n",
       "      <td></td>\n",
       "      <td>mod_jk child workerEnv in error state 6</td>\n",
       "    </tr>\n",
       "    <tr>\n",
       "      <th>2</th>\n",
       "      <td>2005-12-04 07:18:00</td>\n",
       "      <td>notice</td>\n",
       "      <td></td>\n",
       "      <td>workerEnv.init() ok /etc/httpd/conf/workers2.p...</td>\n",
       "    </tr>\n",
       "    <tr>\n",
       "      <th>3</th>\n",
       "      <td>2005-12-04 07:18:00</td>\n",
       "      <td>error</td>\n",
       "      <td></td>\n",
       "      <td>mod_jk child workerEnv in error state 7</td>\n",
       "    </tr>\n",
       "    <tr>\n",
       "      <th>4</th>\n",
       "      <td>2005-12-04 07:45:45</td>\n",
       "      <td>error</td>\n",
       "      <td>63.13.186.196</td>\n",
       "      <td>Directory index forbidden by rule: /var/www/html/</td>\n",
       "    </tr>\n",
       "  </tbody>\n",
       "</table>\n",
       "</div>"
      ]
     },
     "execution_count": 14,
     "metadata": {},
     "output_type": "execute_result"
    }
   ],
   "execution_count": 14
  },
  {
   "cell_type": "markdown",
   "id": "fb19dd6a-a5fe-497c-9ee7-f7d01f9287d5",
   "metadata": {},
   "source": [
    "## 3. Dask futures."
   ]
  },
  {
   "cell_type": "markdown",
   "id": "f46c13f3-cf9a-431a-a97f-97c4bb79636a",
   "metadata": {},
   "source": [
    "Dask futures pozwala na wysyłanie zadań do wykonania w trybie natychmiastowym, bez blokowania schedulera jeżeli nie oczekujemy natychmiastowego wyniku do dalszego przetworzenia.\n",
    "\n",
    "> Dokumentacja: https://docs.dask.org/en/latest/futures.html\n",
    "\n",
    "Przykłady zaprezentowane poniżej wprowadzają tylko do podstawowych zastosowań dask futures i nie wyczerpują tematu. Ten mechanizm posiada również bardziej zaawansowane opcje wywołań oraz i kolejkowania i zagnieżdżania."
   ]
  },
  {
   "cell_type": "code",
   "id": "9b10bcb1-6328-4e0e-8cf5-3131b5698d99",
   "metadata": {
    "ExecuteTime": {
     "end_time": "2024-10-16T11:47:33.355243Z",
     "start_time": "2024-10-16T11:47:33.351731Z"
    }
   },
   "source": [
    "def func(runs: int):\n",
    "    sum = 0\n",
    "    for run in range(runs):\n",
    "        time.sleep(2)\n",
    "        sum += run\n",
    "    return sum"
   ],
   "outputs": [],
   "execution_count": 15
  },
  {
   "cell_type": "code",
   "id": "d1ffb975-5fb8-456c-aaa4-8193d38bc349",
   "metadata": {
    "ExecuteTime": {
     "end_time": "2024-10-16T11:47:33.359598Z",
     "start_time": "2024-10-16T11:47:33.355746Z"
    }
   },
   "source": [
    "# przekazujemy do clienta zadania do wykonania i możemy kontynuować wykonanie innych operacji w notebooku\n",
    "fut = client.submit(func, 20)"
   ],
   "outputs": [],
   "execution_count": 16
  },
  {
   "cell_type": "code",
   "id": "227c9282-0db5-4cfb-b5bd-6627a4504b9e",
   "metadata": {
    "ExecuteTime": {
     "end_time": "2024-10-16T11:47:33.365641Z",
     "start_time": "2024-10-16T11:47:33.359598Z"
    }
   },
   "source": [
    "# zmienna fut przechowuje obiekt typu future, który może znajdować się w kilku stanach: zadanie w trakcie wykonania, zakończone lub błąd\n",
    "fut"
   ],
   "outputs": [
    {
     "data": {
      "text/plain": [
       "<Future: pending, key: func-9032171dc37233b7977c8ee5b6d33cde>"
      ],
      "text/html": [
       "<strong>Future: func</strong>\n",
       "<span style=\"color: var(--jp-ui-font-color2, gray)\"> status: </span>\n",
       "\n",
       "\n",
       "<span style=\"color: var(--jp-error-color0, black)\">pending</span>,\n",
       "\n",
       "\n",
       "\n",
       "<span style=\"color: var(--jp-ui-font-color2, gray)\"> type:</span> NoneType,\n",
       "\n",
       "\n",
       "<span style=\"color: var(--jp-ui-font-color2, gray)\"> key:</span> func-9032171dc37233b7977c8ee5b6d33cde"
      ]
     },
     "execution_count": 17,
     "metadata": {},
     "output_type": "execute_result"
    }
   ],
   "execution_count": 17
  },
  {
   "cell_type": "code",
   "id": "7984cecf-a6bc-4c91-b623-ddb5e4306c2e",
   "metadata": {
    "ExecuteTime": {
     "end_time": "2024-10-16T11:47:33.369230Z",
     "start_time": "2024-10-16T11:47:33.366151Z"
    }
   },
   "source": [
    "# kiedy potrzebny jest nam wyniki zadania typu future możemy wywołać metodę result, ale teraz nastąpi blokowanie wykonania kolejnych zadań, aż do\n",
    "# momentu aż to wywołanie future zakończy swoje działanie i zwróci wynik lub zakończy się błędem\n",
    "a.result()"
   ],
   "outputs": [
    {
     "data": {
      "text/plain": [
       "Delayed('result-b85ccf76-f845-4497-9367-94bd8da4b2ba')"
      ]
     },
     "execution_count": 18,
     "metadata": {},
     "output_type": "execute_result"
    }
   ],
   "execution_count": 18
  },
  {
   "cell_type": "code",
   "id": "b3665654-cb33-401b-af07-bb3324875dac",
   "metadata": {
    "ExecuteTime": {
     "end_time": "2024-10-16T11:47:33.398391Z",
     "start_time": "2024-10-16T11:47:33.369230Z"
    }
   },
   "source": [
    "import random\n",
    "\n",
    "tasks = 100\n",
    "futures = []\n",
    "\n",
    "# tworzymy 100 zadań i wysyłamy je do wykonania dla skonfigurowanego klienta\n",
    "for task in range(tasks):\n",
    "    futures.append(client.submit(func, random.randint(1, 15)))"
   ],
   "outputs": [],
   "execution_count": 19
  },
  {
   "cell_type": "code",
   "id": "7b3a3ec6-ff7e-4a27-9f1a-0e0d2c94498e",
   "metadata": {
    "ExecuteTime": {
     "end_time": "2024-10-16T11:48:03.434931Z",
     "start_time": "2024-10-16T11:47:33.398391Z"
    }
   },
   "source": [
    "# jeżeli zadań jest dużo i potrzebujemy zebrać wszystkie wyniki przed kontynuowaniem pracy, możemy to zrobić\n",
    "# poprzez wywołanie metody gather dla obiektu client\n",
    "\n",
    "results = client.gather(futures)\n",
    "sum(results)"
   ],
   "outputs": [
    {
     "data": {
      "text/plain": [
       "3745"
      ]
     },
     "execution_count": 20,
     "metadata": {},
     "output_type": "execute_result"
    }
   ],
   "execution_count": 20
  },
  {
   "cell_type": "code",
   "id": "6e953d02-1577-4f70-8baf-f5b5660bae09",
   "metadata": {
    "ExecuteTime": {
     "end_time": "2024-10-16T11:48:03.446185Z",
     "start_time": "2024-10-16T11:48:03.434931Z"
    }
   },
   "source": [
    "task_list = [random.randint(1, 30) for _ in range(100)]\n",
    "futures2 = client.map(func, task_list)"
   ],
   "outputs": [],
   "execution_count": 21
  },
  {
   "cell_type": "code",
   "id": "d114b795-51ec-45b0-be30-b38347f0f421",
   "metadata": {
    "ExecuteTime": {
     "end_time": "2024-10-16T11:49:09.681672Z",
     "start_time": "2024-10-16T11:48:03.447191Z"
    }
   },
   "source": [
    "results2 = client.gather(futures2)\n",
    "sum(results2)"
   ],
   "outputs": [
    {
     "data": {
      "text/plain": [
       "15103"
      ]
     },
     "execution_count": 22,
     "metadata": {},
     "output_type": "execute_result"
    }
   ],
   "execution_count": 22
  },
  {
   "cell_type": "code",
   "id": "271fdac6-2d6c-4cd9-93cd-daeee2c958b8",
   "metadata": {
    "ExecuteTime": {
     "end_time": "2024-10-16T11:49:09.684679Z",
     "start_time": "2024-10-16T11:49:09.681672Z"
    }
   },
   "source": "# del futures2",
   "outputs": [],
   "execution_count": 23
  },
  {
   "cell_type": "code",
   "id": "4545641b-ec20-4d5e-a68f-556a53bd319d",
   "metadata": {
    "ExecuteTime": {
     "end_time": "2024-10-16T11:49:09.774133Z",
     "start_time": "2024-10-16T11:49:09.685183Z"
    }
   },
   "source": [
    "# jeżeli istnieje możliwość przetwarzania już zwróconych wyników to możemy wykorzystać funkcję as_completed i pobierać ukończone zadania\n",
    "# w paczkach w kolejności, w jakiej zostały ukończone i przetwarzać je dalej, aż do momentu ukończenia wszystkich futures\n",
    "# aby widzieć jak przybywają kolejne paczki wykonanych zadań, należy najpierw ponownie uruchomić je na klastrze, ale najlepiej\n",
    "\n",
    "from dask.distributed import as_completed\n",
    "\n",
    "# display(len(set(task_list)))  # kontrolnie\n",
    "\n",
    "for num, batch in enumerate(as_completed(futures2, with_results=True).batches(), start=1):\n",
    "   display(f\"Batch {num}\")\n",
    "   for future, result in batch:\n",
    "       # przetwarzaj kolejną paczkę ukończonych futures\n",
    "       display(f\"Future {future} result: {result}\")"
   ],
   "outputs": [
    {
     "data": {
      "text/plain": [
       "'Batch 1'"
      ]
     },
     "metadata": {},
     "output_type": "display_data"
    },
    {
     "data": {
      "text/plain": [
       "'Future <Future: finished, type: int, key: func-cafcd0b353e74a5592c22b3202257a28> result: 153'"
      ]
     },
     "metadata": {},
     "output_type": "display_data"
    },
    {
     "data": {
      "text/plain": [
       "'Batch 2'"
      ]
     },
     "metadata": {},
     "output_type": "display_data"
    },
    {
     "data": {
      "text/plain": [
       "'Future <Future: finished, type: int, key: func-b6f2b8cb44944d5fdbfcc57ba0a861c3> result: 15'"
      ]
     },
     "metadata": {},
     "output_type": "display_data"
    },
    {
     "data": {
      "text/plain": [
       "'Batch 3'"
      ]
     },
     "metadata": {},
     "output_type": "display_data"
    },
    {
     "data": {
      "text/plain": [
       "'Future <Future: finished, type: int, key: func-e3eee4b0d5678364ede0346070cda3c9> result: 406'"
      ]
     },
     "metadata": {},
     "output_type": "display_data"
    },
    {
     "data": {
      "text/plain": [
       "'Batch 4'"
      ]
     },
     "metadata": {},
     "output_type": "display_data"
    },
    {
     "data": {
      "text/plain": [
       "'Future <Future: finished, type: int, key: func-cdbed346b6b6f6df2207cbf842afdd35> result: 1'"
      ]
     },
     "metadata": {},
     "output_type": "display_data"
    },
    {
     "data": {
      "text/plain": [
       "'Future <Future: finished, type: int, key: func-f091b7f585a537eb51d49ecfa873ede8> result: 55'"
      ]
     },
     "metadata": {},
     "output_type": "display_data"
    },
    {
     "data": {
      "text/plain": [
       "'Future <Future: finished, type: int, key: func-d97ed1387c1f998e1f49f4de96d608ca> result: 171'"
      ]
     },
     "metadata": {},
     "output_type": "display_data"
    },
    {
     "data": {
      "text/plain": [
       "'Future <Future: finished, type: int, key: func-dfefc201095804a0588e0aa1dcc5e37d> result: 45'"
      ]
     },
     "metadata": {},
     "output_type": "display_data"
    },
    {
     "data": {
      "text/plain": [
       "'Future <Future: finished, type: int, key: func-a8ba20621979ba4ee27c00ccc1b75a90> result: 28'"
      ]
     },
     "metadata": {},
     "output_type": "display_data"
    },
    {
     "data": {
      "text/plain": [
       "'Future <Future: finished, type: int, key: func-33e35ed490c7905910fe0d5cbd739423> result: 253'"
      ]
     },
     "metadata": {},
     "output_type": "display_data"
    },
    {
     "data": {
      "text/plain": [
       "'Future <Future: finished, type: int, key: func-f99c915d35bb63ff3217a3e124a823fc> result: 10'"
      ]
     },
     "metadata": {},
     "output_type": "display_data"
    },
    {
     "data": {
      "text/plain": [
       "'Future <Future: finished, type: int, key: func-b6f2b8cb44944d5fdbfcc57ba0a861c3> result: 15'"
      ]
     },
     "metadata": {},
     "output_type": "display_data"
    },
    {
     "data": {
      "text/plain": [
       "'Future <Future: finished, type: int, key: func-174fba0d8fbd202ebbdeeb7a6aa65818> result: 36'"
      ]
     },
     "metadata": {},
     "output_type": "display_data"
    },
    {
     "data": {
      "text/plain": [
       "'Future <Future: finished, type: int, key: func-99db2630e32c55893e92fa3cd2c1b4ca> result: 105'"
      ]
     },
     "metadata": {},
     "output_type": "display_data"
    },
    {
     "data": {
      "text/plain": [
       "'Future <Future: finished, type: int, key: func-33e35ed490c7905910fe0d5cbd739423> result: 253'"
      ]
     },
     "metadata": {},
     "output_type": "display_data"
    },
    {
     "data": {
      "text/plain": [
       "'Future <Future: finished, type: int, key: func-0a49137094a2edc7469d9b48dc898929> result: 91'"
      ]
     },
     "metadata": {},
     "output_type": "display_data"
    },
    {
     "data": {
      "text/plain": [
       "'Future <Future: finished, type: int, key: func-a7e70ca334d2287b218d5d4a95404159> result: 3'"
      ]
     },
     "metadata": {},
     "output_type": "display_data"
    },
    {
     "data": {
      "text/plain": [
       "'Future <Future: finished, type: int, key: func-dfefc201095804a0588e0aa1dcc5e37d> result: 45'"
      ]
     },
     "metadata": {},
     "output_type": "display_data"
    },
    {
     "data": {
      "text/plain": [
       "'Future <Future: finished, type: int, key: func-55e3369afd9e72950b5b0cb18341a4e0> result: 231'"
      ]
     },
     "metadata": {},
     "output_type": "display_data"
    },
    {
     "data": {
      "text/plain": [
       "'Future <Future: finished, type: int, key: func-cc1d2cecd072db53644f6b18a7e86a4a> result: 6'"
      ]
     },
     "metadata": {},
     "output_type": "display_data"
    },
    {
     "data": {
      "text/plain": [
       "'Future <Future: finished, type: int, key: func-dfefc201095804a0588e0aa1dcc5e37d> result: 45'"
      ]
     },
     "metadata": {},
     "output_type": "display_data"
    },
    {
     "data": {
      "text/plain": [
       "'Future <Future: finished, type: int, key: func-33e35ed490c7905910fe0d5cbd739423> result: 253'"
      ]
     },
     "metadata": {},
     "output_type": "display_data"
    },
    {
     "data": {
      "text/plain": [
       "'Future <Future: finished, type: int, key: func-7f907fa7ef9f9679055a3afee1a0c0fa> result: 21'"
      ]
     },
     "metadata": {},
     "output_type": "display_data"
    },
    {
     "data": {
      "text/plain": [
       "'Future <Future: finished, type: int, key: func-4927d45fe8d5678fe44c3885bd536cff> result: 210'"
      ]
     },
     "metadata": {},
     "output_type": "display_data"
    },
    {
     "data": {
      "text/plain": [
       "'Future <Future: finished, type: int, key: func-cc1d2cecd072db53644f6b18a7e86a4a> result: 6'"
      ]
     },
     "metadata": {},
     "output_type": "display_data"
    },
    {
     "data": {
      "text/plain": [
       "'Future <Future: finished, type: int, key: func-a8ba20621979ba4ee27c00ccc1b75a90> result: 28'"
      ]
     },
     "metadata": {},
     "output_type": "display_data"
    },
    {
     "data": {
      "text/plain": [
       "'Future <Future: finished, type: int, key: func-c04e1e036ee6d1dc1de97321f465069f> result: 190'"
      ]
     },
     "metadata": {},
     "output_type": "display_data"
    },
    {
     "data": {
      "text/plain": [
       "'Future <Future: finished, type: int, key: func-40a9fccd580a484d2d0563ad6ca19026> result: 0'"
      ]
     },
     "metadata": {},
     "output_type": "display_data"
    },
    {
     "data": {
      "text/plain": [
       "'Future <Future: finished, type: int, key: func-3e9c0592402a982617a53bbf2d02131b> result: 136'"
      ]
     },
     "metadata": {},
     "output_type": "display_data"
    },
    {
     "data": {
      "text/plain": [
       "'Future <Future: finished, type: int, key: func-f091b7f585a537eb51d49ecfa873ede8> result: 55'"
      ]
     },
     "metadata": {},
     "output_type": "display_data"
    },
    {
     "data": {
      "text/plain": [
       "'Future <Future: finished, type: int, key: func-f99c915d35bb63ff3217a3e124a823fc> result: 10'"
      ]
     },
     "metadata": {},
     "output_type": "display_data"
    },
    {
     "data": {
      "text/plain": [
       "'Future <Future: finished, type: int, key: func-3e9c0592402a982617a53bbf2d02131b> result: 136'"
      ]
     },
     "metadata": {},
     "output_type": "display_data"
    },
    {
     "data": {
      "text/plain": [
       "'Future <Future: finished, type: int, key: func-dfefc201095804a0588e0aa1dcc5e37d> result: 45'"
      ]
     },
     "metadata": {},
     "output_type": "display_data"
    },
    {
     "data": {
      "text/plain": [
       "'Future <Future: finished, type: int, key: func-e3eee4b0d5678364ede0346070cda3c9> result: 406'"
      ]
     },
     "metadata": {},
     "output_type": "display_data"
    },
    {
     "data": {
      "text/plain": [
       "'Future <Future: finished, type: int, key: func-1fcc82efd53136b70fe8baa22665151c> result: 435'"
      ]
     },
     "metadata": {},
     "output_type": "display_data"
    },
    {
     "data": {
      "text/plain": [
       "'Future <Future: finished, type: int, key: func-7f907fa7ef9f9679055a3afee1a0c0fa> result: 21'"
      ]
     },
     "metadata": {},
     "output_type": "display_data"
    },
    {
     "data": {
      "text/plain": [
       "'Future <Future: finished, type: int, key: func-b6f2b8cb44944d5fdbfcc57ba0a861c3> result: 15'"
      ]
     },
     "metadata": {},
     "output_type": "display_data"
    },
    {
     "data": {
      "text/plain": [
       "'Future <Future: finished, type: int, key: func-d7febb8daf27f1648381a4f7515e7e1e> result: 120'"
      ]
     },
     "metadata": {},
     "output_type": "display_data"
    },
    {
     "data": {
      "text/plain": [
       "'Future <Future: finished, type: int, key: func-a7e70ca334d2287b218d5d4a95404159> result: 3'"
      ]
     },
     "metadata": {},
     "output_type": "display_data"
    },
    {
     "data": {
      "text/plain": [
       "'Future <Future: finished, type: int, key: func-1fcc82efd53136b70fe8baa22665151c> result: 435'"
      ]
     },
     "metadata": {},
     "output_type": "display_data"
    },
    {
     "data": {
      "text/plain": [
       "'Future <Future: finished, type: int, key: func-159ae00e43b65f7fb255a5fb7039eb89> result: 325'"
      ]
     },
     "metadata": {},
     "output_type": "display_data"
    },
    {
     "data": {
      "text/plain": [
       "'Future <Future: finished, type: int, key: func-4689b1504cd172ccf1d315ac0ac8bafe> result: 351'"
      ]
     },
     "metadata": {},
     "output_type": "display_data"
    },
    {
     "data": {
      "text/plain": [
       "'Future <Future: finished, type: int, key: func-cc1d2cecd072db53644f6b18a7e86a4a> result: 6'"
      ]
     },
     "metadata": {},
     "output_type": "display_data"
    },
    {
     "data": {
      "text/plain": [
       "'Future <Future: finished, type: int, key: func-e3eee4b0d5678364ede0346070cda3c9> result: 406'"
      ]
     },
     "metadata": {},
     "output_type": "display_data"
    },
    {
     "data": {
      "text/plain": [
       "'Future <Future: finished, type: int, key: func-9882ca70b500ba9d51e6492e0f5d5f42> result: 78'"
      ]
     },
     "metadata": {},
     "output_type": "display_data"
    },
    {
     "data": {
      "text/plain": [
       "'Future <Future: finished, type: int, key: func-e3eee4b0d5678364ede0346070cda3c9> result: 406'"
      ]
     },
     "metadata": {},
     "output_type": "display_data"
    },
    {
     "data": {
      "text/plain": [
       "'Future <Future: finished, type: int, key: func-159ae00e43b65f7fb255a5fb7039eb89> result: 325'"
      ]
     },
     "metadata": {},
     "output_type": "display_data"
    },
    {
     "data": {
      "text/plain": [
       "'Future <Future: finished, type: int, key: func-174fba0d8fbd202ebbdeeb7a6aa65818> result: 36'"
      ]
     },
     "metadata": {},
     "output_type": "display_data"
    },
    {
     "data": {
      "text/plain": [
       "'Future <Future: finished, type: int, key: func-7f907fa7ef9f9679055a3afee1a0c0fa> result: 21'"
      ]
     },
     "metadata": {},
     "output_type": "display_data"
    },
    {
     "data": {
      "text/plain": [
       "'Future <Future: finished, type: int, key: func-1fcc82efd53136b70fe8baa22665151c> result: 435'"
      ]
     },
     "metadata": {},
     "output_type": "display_data"
    },
    {
     "data": {
      "text/plain": [
       "'Future <Future: finished, type: int, key: func-3e9c0592402a982617a53bbf2d02131b> result: 136'"
      ]
     },
     "metadata": {},
     "output_type": "display_data"
    },
    {
     "data": {
      "text/plain": [
       "'Future <Future: finished, type: int, key: func-b6f2b8cb44944d5fdbfcc57ba0a861c3> result: 15'"
      ]
     },
     "metadata": {},
     "output_type": "display_data"
    },
    {
     "data": {
      "text/plain": [
       "'Future <Future: finished, type: int, key: func-99db2630e32c55893e92fa3cd2c1b4ca> result: 105'"
      ]
     },
     "metadata": {},
     "output_type": "display_data"
    },
    {
     "data": {
      "text/plain": [
       "'Batch 5'"
      ]
     },
     "metadata": {},
     "output_type": "display_data"
    },
    {
     "data": {
      "text/plain": [
       "'Future <Future: finished, type: int, key: func-159ae00e43b65f7fb255a5fb7039eb89> result: 325'"
      ]
     },
     "metadata": {},
     "output_type": "display_data"
    },
    {
     "data": {
      "text/plain": [
       "'Future <Future: finished, type: int, key: func-9882ca70b500ba9d51e6492e0f5d5f42> result: 78'"
      ]
     },
     "metadata": {},
     "output_type": "display_data"
    },
    {
     "data": {
      "text/plain": [
       "'Future <Future: finished, type: int, key: func-1fcc82efd53136b70fe8baa22665151c> result: 435'"
      ]
     },
     "metadata": {},
     "output_type": "display_data"
    },
    {
     "data": {
      "text/plain": [
       "'Future <Future: finished, type: int, key: func-0a49137094a2edc7469d9b48dc898929> result: 91'"
      ]
     },
     "metadata": {},
     "output_type": "display_data"
    },
    {
     "data": {
      "text/plain": [
       "'Future <Future: finished, type: int, key: func-cc1d2cecd072db53644f6b18a7e86a4a> result: 6'"
      ]
     },
     "metadata": {},
     "output_type": "display_data"
    },
    {
     "data": {
      "text/plain": [
       "'Future <Future: finished, type: int, key: func-4927d45fe8d5678fe44c3885bd536cff> result: 210'"
      ]
     },
     "metadata": {},
     "output_type": "display_data"
    },
    {
     "data": {
      "text/plain": [
       "'Future <Future: finished, type: int, key: func-99db2630e32c55893e92fa3cd2c1b4ca> result: 105'"
      ]
     },
     "metadata": {},
     "output_type": "display_data"
    },
    {
     "data": {
      "text/plain": [
       "'Future <Future: finished, type: int, key: func-4927d45fe8d5678fe44c3885bd536cff> result: 210'"
      ]
     },
     "metadata": {},
     "output_type": "display_data"
    },
    {
     "data": {
      "text/plain": [
       "'Future <Future: finished, type: int, key: func-1fcc82efd53136b70fe8baa22665151c> result: 435'"
      ]
     },
     "metadata": {},
     "output_type": "display_data"
    },
    {
     "data": {
      "text/plain": [
       "'Future <Future: finished, type: int, key: func-55e3369afd9e72950b5b0cb18341a4e0> result: 231'"
      ]
     },
     "metadata": {},
     "output_type": "display_data"
    },
    {
     "data": {
      "text/plain": [
       "'Future <Future: finished, type: int, key: func-c04e1e036ee6d1dc1de97321f465069f> result: 190'"
      ]
     },
     "metadata": {},
     "output_type": "display_data"
    },
    {
     "data": {
      "text/plain": [
       "'Future <Future: finished, type: int, key: func-b6f2b8cb44944d5fdbfcc57ba0a861c3> result: 15'"
      ]
     },
     "metadata": {},
     "output_type": "display_data"
    },
    {
     "data": {
      "text/plain": [
       "'Future <Future: finished, type: int, key: func-0a49137094a2edc7469d9b48dc898929> result: 91'"
      ]
     },
     "metadata": {},
     "output_type": "display_data"
    },
    {
     "data": {
      "text/plain": [
       "'Future <Future: finished, type: int, key: func-ec73c4dd8bf36fe752b114aefc4016a0> result: 300'"
      ]
     },
     "metadata": {},
     "output_type": "display_data"
    },
    {
     "data": {
      "text/plain": [
       "'Future <Future: finished, type: int, key: func-a8ba20621979ba4ee27c00ccc1b75a90> result: 28'"
      ]
     },
     "metadata": {},
     "output_type": "display_data"
    },
    {
     "data": {
      "text/plain": [
       "'Future <Future: finished, type: int, key: func-174fba0d8fbd202ebbdeeb7a6aa65818> result: 36'"
      ]
     },
     "metadata": {},
     "output_type": "display_data"
    },
    {
     "data": {
      "text/plain": [
       "'Future <Future: finished, type: int, key: func-ec73c4dd8bf36fe752b114aefc4016a0> result: 300'"
      ]
     },
     "metadata": {},
     "output_type": "display_data"
    },
    {
     "data": {
      "text/plain": [
       "'Future <Future: finished, type: int, key: func-e3eee4b0d5678364ede0346070cda3c9> result: 406'"
      ]
     },
     "metadata": {},
     "output_type": "display_data"
    },
    {
     "data": {
      "text/plain": [
       "'Future <Future: finished, type: int, key: func-159ae00e43b65f7fb255a5fb7039eb89> result: 325'"
      ]
     },
     "metadata": {},
     "output_type": "display_data"
    },
    {
     "data": {
      "text/plain": [
       "'Future <Future: finished, type: int, key: func-9a0edc6c90479c0ed4647df8afb5840b> result: 276'"
      ]
     },
     "metadata": {},
     "output_type": "display_data"
    },
    {
     "data": {
      "text/plain": [
       "'Future <Future: finished, type: int, key: func-a7e70ca334d2287b218d5d4a95404159> result: 3'"
      ]
     },
     "metadata": {},
     "output_type": "display_data"
    },
    {
     "data": {
      "text/plain": [
       "'Future <Future: finished, type: int, key: func-a7e70ca334d2287b218d5d4a95404159> result: 3'"
      ]
     },
     "metadata": {},
     "output_type": "display_data"
    },
    {
     "data": {
      "text/plain": [
       "'Future <Future: finished, type: int, key: func-33e35ed490c7905910fe0d5cbd739423> result: 253'"
      ]
     },
     "metadata": {},
     "output_type": "display_data"
    },
    {
     "data": {
      "text/plain": [
       "'Future <Future: finished, type: int, key: func-0b74f05fefd9443ef2ecc73e0deb4b62> result: 378'"
      ]
     },
     "metadata": {},
     "output_type": "display_data"
    },
    {
     "data": {
      "text/plain": [
       "'Future <Future: finished, type: int, key: func-ec73c4dd8bf36fe752b114aefc4016a0> result: 300'"
      ]
     },
     "metadata": {},
     "output_type": "display_data"
    },
    {
     "data": {
      "text/plain": [
       "'Future <Future: finished, type: int, key: func-7f907fa7ef9f9679055a3afee1a0c0fa> result: 21'"
      ]
     },
     "metadata": {},
     "output_type": "display_data"
    },
    {
     "data": {
      "text/plain": [
       "'Future <Future: finished, type: int, key: func-cdbed346b6b6f6df2207cbf842afdd35> result: 1'"
      ]
     },
     "metadata": {},
     "output_type": "display_data"
    },
    {
     "data": {
      "text/plain": [
       "'Future <Future: finished, type: int, key: func-d7febb8daf27f1648381a4f7515e7e1e> result: 120'"
      ]
     },
     "metadata": {},
     "output_type": "display_data"
    },
    {
     "data": {
      "text/plain": [
       "'Future <Future: finished, type: int, key: func-cafcd0b353e74a5592c22b3202257a28> result: 153'"
      ]
     },
     "metadata": {},
     "output_type": "display_data"
    },
    {
     "data": {
      "text/plain": [
       "'Future <Future: finished, type: int, key: func-9882ca70b500ba9d51e6492e0f5d5f42> result: 78'"
      ]
     },
     "metadata": {},
     "output_type": "display_data"
    },
    {
     "data": {
      "text/plain": [
       "'Future <Future: finished, type: int, key: func-f091b7f585a537eb51d49ecfa873ede8> result: 55'"
      ]
     },
     "metadata": {},
     "output_type": "display_data"
    },
    {
     "data": {
      "text/plain": [
       "'Future <Future: finished, type: int, key: func-dfefc201095804a0588e0aa1dcc5e37d> result: 45'"
      ]
     },
     "metadata": {},
     "output_type": "display_data"
    },
    {
     "data": {
      "text/plain": [
       "'Future <Future: finished, type: int, key: func-4689b1504cd172ccf1d315ac0ac8bafe> result: 351'"
      ]
     },
     "metadata": {},
     "output_type": "display_data"
    },
    {
     "data": {
      "text/plain": [
       "'Future <Future: finished, type: int, key: func-174fba0d8fbd202ebbdeeb7a6aa65818> result: 36'"
      ]
     },
     "metadata": {},
     "output_type": "display_data"
    },
    {
     "data": {
      "text/plain": [
       "'Future <Future: finished, type: int, key: func-c04e1e036ee6d1dc1de97321f465069f> result: 190'"
      ]
     },
     "metadata": {},
     "output_type": "display_data"
    },
    {
     "data": {
      "text/plain": [
       "'Future <Future: finished, type: int, key: func-4927d45fe8d5678fe44c3885bd536cff> result: 210'"
      ]
     },
     "metadata": {},
     "output_type": "display_data"
    },
    {
     "data": {
      "text/plain": [
       "'Future <Future: finished, type: int, key: func-ec73c4dd8bf36fe752b114aefc4016a0> result: 300'"
      ]
     },
     "metadata": {},
     "output_type": "display_data"
    },
    {
     "data": {
      "text/plain": [
       "'Future <Future: finished, type: int, key: func-f091b7f585a537eb51d49ecfa873ede8> result: 55'"
      ]
     },
     "metadata": {},
     "output_type": "display_data"
    },
    {
     "data": {
      "text/plain": [
       "'Future <Future: finished, type: int, key: func-7f907fa7ef9f9679055a3afee1a0c0fa> result: 21'"
      ]
     },
     "metadata": {},
     "output_type": "display_data"
    },
    {
     "data": {
      "text/plain": [
       "'Future <Future: finished, type: int, key: func-cafcd0b353e74a5592c22b3202257a28> result: 153'"
      ]
     },
     "metadata": {},
     "output_type": "display_data"
    },
    {
     "data": {
      "text/plain": [
       "'Future <Future: finished, type: int, key: func-174fba0d8fbd202ebbdeeb7a6aa65818> result: 36'"
      ]
     },
     "metadata": {},
     "output_type": "display_data"
    },
    {
     "data": {
      "text/plain": [
       "'Future <Future: finished, type: int, key: func-c04e1e036ee6d1dc1de97321f465069f> result: 190'"
      ]
     },
     "metadata": {},
     "output_type": "display_data"
    },
    {
     "data": {
      "text/plain": [
       "'Future <Future: finished, type: int, key: func-4689b1504cd172ccf1d315ac0ac8bafe> result: 351'"
      ]
     },
     "metadata": {},
     "output_type": "display_data"
    },
    {
     "data": {
      "text/plain": [
       "'Future <Future: finished, type: int, key: func-c04e1e036ee6d1dc1de97321f465069f> result: 190'"
      ]
     },
     "metadata": {},
     "output_type": "display_data"
    },
    {
     "data": {
      "text/plain": [
       "'Future <Future: finished, type: int, key: func-7f907fa7ef9f9679055a3afee1a0c0fa> result: 21'"
      ]
     },
     "metadata": {},
     "output_type": "display_data"
    },
    {
     "data": {
      "text/plain": [
       "'Future <Future: finished, type: int, key: func-99db2630e32c55893e92fa3cd2c1b4ca> result: 105'"
      ]
     },
     "metadata": {},
     "output_type": "display_data"
    },
    {
     "data": {
      "text/plain": [
       "'Future <Future: finished, type: int, key: func-cdbed346b6b6f6df2207cbf842afdd35> result: 1'"
      ]
     },
     "metadata": {},
     "output_type": "display_data"
    },
    {
     "data": {
      "text/plain": [
       "'Future <Future: finished, type: int, key: func-33e35ed490c7905910fe0d5cbd739423> result: 253'"
      ]
     },
     "metadata": {},
     "output_type": "display_data"
    }
   ],
   "execution_count": 24
  },
  {
   "cell_type": "markdown",
   "id": "64677e3c-cac9-460b-8527-0e89a291ef41",
   "metadata": {},
   "source": [
    "Zwróć uwagę na wyniki oraz widok w dashboardzie dla kilkukrotnego wywołania tych samych futures. Czy zauważyłeś coś ciekawego?"
   ]
  },
  {
   "cell_type": "code",
   "id": "132379c6-af46-4285-9442-3af8460ad204",
   "metadata": {
    "ExecuteTime": {
     "end_time": "2024-10-16T11:49:09.784518Z",
     "start_time": "2024-10-16T11:49:09.774133Z"
    }
   },
   "source": [
    "client.who_has(futures2)"
   ],
   "outputs": [
    {
     "data": {
      "text/plain": [
       "{'func-dfefc201095804a0588e0aa1dcc5e37d': ('tcp://127.0.0.1:50689',),\n",
       " 'func-9a0edc6c90479c0ed4647df8afb5840b': ('tcp://127.0.0.1:50695',),\n",
       " 'func-33e35ed490c7905910fe0d5cbd739423': ('tcp://127.0.0.1:50689',),\n",
       " 'func-99db2630e32c55893e92fa3cd2c1b4ca': ('tcp://127.0.0.1:50690',),\n",
       " 'func-1fcc82efd53136b70fe8baa22665151c': ('tcp://127.0.0.1:50689',),\n",
       " 'func-159ae00e43b65f7fb255a5fb7039eb89': ('tcp://127.0.0.1:50690',),\n",
       " 'func-3e9c0592402a982617a53bbf2d02131b': ('tcp://127.0.0.1:50690',),\n",
       " 'func-174fba0d8fbd202ebbdeeb7a6aa65818': ('tcp://127.0.0.1:50694',),\n",
       " 'func-9882ca70b500ba9d51e6492e0f5d5f42': ('tcp://127.0.0.1:50695',),\n",
       " 'func-0b74f05fefd9443ef2ecc73e0deb4b62': ('tcp://127.0.0.1:50694',),\n",
       " 'func-7f907fa7ef9f9679055a3afee1a0c0fa': ('tcp://127.0.0.1:50695',),\n",
       " 'func-55e3369afd9e72950b5b0cb18341a4e0': ('tcp://127.0.0.1:50694',),\n",
       " 'func-e3eee4b0d5678364ede0346070cda3c9': ('tcp://127.0.0.1:50694',),\n",
       " 'func-a7e70ca334d2287b218d5d4a95404159': ('tcp://127.0.0.1:50689',),\n",
       " 'func-c04e1e036ee6d1dc1de97321f465069f': ('tcp://127.0.0.1:50689',),\n",
       " 'func-a8ba20621979ba4ee27c00ccc1b75a90': ('tcp://127.0.0.1:50689',),\n",
       " 'func-d7febb8daf27f1648381a4f7515e7e1e': ('tcp://127.0.0.1:50690',),\n",
       " 'func-f99c915d35bb63ff3217a3e124a823fc': ('tcp://127.0.0.1:50694',),\n",
       " 'func-b6f2b8cb44944d5fdbfcc57ba0a861c3': ('tcp://127.0.0.1:50690',),\n",
       " 'func-4927d45fe8d5678fe44c3885bd536cff': ('tcp://127.0.0.1:50694',),\n",
       " 'func-0a49137094a2edc7469d9b48dc898929': ('tcp://127.0.0.1:50695',),\n",
       " 'func-cc1d2cecd072db53644f6b18a7e86a4a': ('tcp://127.0.0.1:50695',),\n",
       " 'func-cdbed346b6b6f6df2207cbf842afdd35': ('tcp://127.0.0.1:50694',),\n",
       " 'func-d97ed1387c1f998e1f49f4de96d608ca': ('tcp://127.0.0.1:50695',),\n",
       " 'func-40a9fccd580a484d2d0563ad6ca19026': ('tcp://127.0.0.1:50689',),\n",
       " 'func-4689b1504cd172ccf1d315ac0ac8bafe': ('tcp://127.0.0.1:50689',),\n",
       " 'func-cafcd0b353e74a5592c22b3202257a28': ('tcp://127.0.0.1:50689',),\n",
       " 'func-f091b7f585a537eb51d49ecfa873ede8': ('tcp://127.0.0.1:50695',),\n",
       " 'func-ec73c4dd8bf36fe752b114aefc4016a0': ('tcp://127.0.0.1:50690',)}"
      ],
      "text/html": [
       "<table>\n",
       "    <tr>\n",
       "        <th>Key</th>\n",
       "        <th>Copies</th>\n",
       "        <th>Workers</th>\n",
       "    </tr>\n",
       "\n",
       "    \n",
       "    <tr>\n",
       "        <td>func-dfefc201095804a0588e0aa1dcc5e37d</td>\n",
       "        <td>1</td>\n",
       "        <td>tcp://127.0.0.1:50689</td>\n",
       "    </tr>\n",
       "    \n",
       "    <tr>\n",
       "        <td>func-9a0edc6c90479c0ed4647df8afb5840b</td>\n",
       "        <td>1</td>\n",
       "        <td>tcp://127.0.0.1:50695</td>\n",
       "    </tr>\n",
       "    \n",
       "    <tr>\n",
       "        <td>func-33e35ed490c7905910fe0d5cbd739423</td>\n",
       "        <td>1</td>\n",
       "        <td>tcp://127.0.0.1:50689</td>\n",
       "    </tr>\n",
       "    \n",
       "    <tr>\n",
       "        <td>func-99db2630e32c55893e92fa3cd2c1b4ca</td>\n",
       "        <td>1</td>\n",
       "        <td>tcp://127.0.0.1:50690</td>\n",
       "    </tr>\n",
       "    \n",
       "    <tr>\n",
       "        <td>func-1fcc82efd53136b70fe8baa22665151c</td>\n",
       "        <td>1</td>\n",
       "        <td>tcp://127.0.0.1:50689</td>\n",
       "    </tr>\n",
       "    \n",
       "    <tr>\n",
       "        <td>func-159ae00e43b65f7fb255a5fb7039eb89</td>\n",
       "        <td>1</td>\n",
       "        <td>tcp://127.0.0.1:50690</td>\n",
       "    </tr>\n",
       "    \n",
       "    <tr>\n",
       "        <td>func-3e9c0592402a982617a53bbf2d02131b</td>\n",
       "        <td>1</td>\n",
       "        <td>tcp://127.0.0.1:50690</td>\n",
       "    </tr>\n",
       "    \n",
       "    <tr>\n",
       "        <td>func-174fba0d8fbd202ebbdeeb7a6aa65818</td>\n",
       "        <td>1</td>\n",
       "        <td>tcp://127.0.0.1:50694</td>\n",
       "    </tr>\n",
       "    \n",
       "    <tr>\n",
       "        <td>func-9882ca70b500ba9d51e6492e0f5d5f42</td>\n",
       "        <td>1</td>\n",
       "        <td>tcp://127.0.0.1:50695</td>\n",
       "    </tr>\n",
       "    \n",
       "    <tr>\n",
       "        <td>func-0b74f05fefd9443ef2ecc73e0deb4b62</td>\n",
       "        <td>1</td>\n",
       "        <td>tcp://127.0.0.1:50694</td>\n",
       "    </tr>\n",
       "    \n",
       "    <tr>\n",
       "        <td>func-7f907fa7ef9f9679055a3afee1a0c0fa</td>\n",
       "        <td>1</td>\n",
       "        <td>tcp://127.0.0.1:50695</td>\n",
       "    </tr>\n",
       "    \n",
       "    <tr>\n",
       "        <td>func-55e3369afd9e72950b5b0cb18341a4e0</td>\n",
       "        <td>1</td>\n",
       "        <td>tcp://127.0.0.1:50694</td>\n",
       "    </tr>\n",
       "    \n",
       "    <tr>\n",
       "        <td>func-e3eee4b0d5678364ede0346070cda3c9</td>\n",
       "        <td>1</td>\n",
       "        <td>tcp://127.0.0.1:50694</td>\n",
       "    </tr>\n",
       "    \n",
       "    <tr>\n",
       "        <td>func-a7e70ca334d2287b218d5d4a95404159</td>\n",
       "        <td>1</td>\n",
       "        <td>tcp://127.0.0.1:50689</td>\n",
       "    </tr>\n",
       "    \n",
       "    <tr>\n",
       "        <td>func-c04e1e036ee6d1dc1de97321f465069f</td>\n",
       "        <td>1</td>\n",
       "        <td>tcp://127.0.0.1:50689</td>\n",
       "    </tr>\n",
       "    \n",
       "    <tr>\n",
       "        <td>func-a8ba20621979ba4ee27c00ccc1b75a90</td>\n",
       "        <td>1</td>\n",
       "        <td>tcp://127.0.0.1:50689</td>\n",
       "    </tr>\n",
       "    \n",
       "    <tr>\n",
       "        <td>func-d7febb8daf27f1648381a4f7515e7e1e</td>\n",
       "        <td>1</td>\n",
       "        <td>tcp://127.0.0.1:50690</td>\n",
       "    </tr>\n",
       "    \n",
       "    <tr>\n",
       "        <td>func-f99c915d35bb63ff3217a3e124a823fc</td>\n",
       "        <td>1</td>\n",
       "        <td>tcp://127.0.0.1:50694</td>\n",
       "    </tr>\n",
       "    \n",
       "    <tr>\n",
       "        <td>func-b6f2b8cb44944d5fdbfcc57ba0a861c3</td>\n",
       "        <td>1</td>\n",
       "        <td>tcp://127.0.0.1:50690</td>\n",
       "    </tr>\n",
       "    \n",
       "    <tr>\n",
       "        <td>func-4927d45fe8d5678fe44c3885bd536cff</td>\n",
       "        <td>1</td>\n",
       "        <td>tcp://127.0.0.1:50694</td>\n",
       "    </tr>\n",
       "    \n",
       "    <tr>\n",
       "        <td>func-0a49137094a2edc7469d9b48dc898929</td>\n",
       "        <td>1</td>\n",
       "        <td>tcp://127.0.0.1:50695</td>\n",
       "    </tr>\n",
       "    \n",
       "    <tr>\n",
       "        <td>func-cc1d2cecd072db53644f6b18a7e86a4a</td>\n",
       "        <td>1</td>\n",
       "        <td>tcp://127.0.0.1:50695</td>\n",
       "    </tr>\n",
       "    \n",
       "    <tr>\n",
       "        <td>func-cdbed346b6b6f6df2207cbf842afdd35</td>\n",
       "        <td>1</td>\n",
       "        <td>tcp://127.0.0.1:50694</td>\n",
       "    </tr>\n",
       "    \n",
       "    <tr>\n",
       "        <td>func-d97ed1387c1f998e1f49f4de96d608ca</td>\n",
       "        <td>1</td>\n",
       "        <td>tcp://127.0.0.1:50695</td>\n",
       "    </tr>\n",
       "    \n",
       "    <tr>\n",
       "        <td>func-40a9fccd580a484d2d0563ad6ca19026</td>\n",
       "        <td>1</td>\n",
       "        <td>tcp://127.0.0.1:50689</td>\n",
       "    </tr>\n",
       "    \n",
       "    <tr>\n",
       "        <td>func-4689b1504cd172ccf1d315ac0ac8bafe</td>\n",
       "        <td>1</td>\n",
       "        <td>tcp://127.0.0.1:50689</td>\n",
       "    </tr>\n",
       "    \n",
       "    <tr>\n",
       "        <td>func-cafcd0b353e74a5592c22b3202257a28</td>\n",
       "        <td>1</td>\n",
       "        <td>tcp://127.0.0.1:50689</td>\n",
       "    </tr>\n",
       "    \n",
       "    <tr>\n",
       "        <td>func-f091b7f585a537eb51d49ecfa873ede8</td>\n",
       "        <td>1</td>\n",
       "        <td>tcp://127.0.0.1:50695</td>\n",
       "    </tr>\n",
       "    \n",
       "    <tr>\n",
       "        <td>func-ec73c4dd8bf36fe752b114aefc4016a0</td>\n",
       "        <td>1</td>\n",
       "        <td>tcp://127.0.0.1:50690</td>\n",
       "    </tr>\n",
       "    \n",
       "</table>"
      ]
     },
     "execution_count": 25,
     "metadata": {},
     "output_type": "execute_result"
    }
   ],
   "execution_count": 25
  },
  {
   "cell_type": "markdown",
   "id": "30226185-fb7e-43d8-8c23-815bc79dcaa3",
   "metadata": {},
   "source": [
    "## 4. Lokalny klaster w pracowni komputerowej."
   ]
  },
  {
   "cell_type": "markdown",
   "id": "bc20ee36-3718-4a2b-8f6a-5e239702d085",
   "metadata": {},
   "source": [
    "Scenariusz skonfigurowania i przetestowania klastra w pracowni komputerowej zakłada:\n",
    "* zdefiniowanie jednego lub kilku maszyn jako schedulerów klastra Dask (można część zasobów skonfigurować jednocześnie jako worker),\n",
    "* podłączenie do schedulera workerów poprzez sieć lokalną, które są uruchomione na maszynach w pracowni komputerowej,\n",
    "* wykonanie kilku zadań o zróżnicowanym stopniu skomplikowania i wykorzystania zasobów na skonfigurowanym klastrze."
   ]
  },
  {
   "cell_type": "markdown",
   "id": "207256e0-5406-4a36-af34-b010897ae812",
   "metadata": {},
   "source": [
    "### 4.1 Wstępne wymagania elementów klastra.\n",
    "\n",
    "Dask (oraz większość systemów tego typu) zaleca, aby poszczególne elementy klastra zostały skonfigurowane na tej samej wersji środowiska obliczeniowego. W związku z tym zarówno na maszynie będącej schedulerem jak i na workerach należy przygotować środowisko wirtualne Pythona z tą samą wersją interpretera.\n",
    "\n",
    "> Dokumentacja dla CLI dask poniższych poleceń: https://docs.dask.org/en/latest/deploying-cli.html\n",
    "\n",
    "**Krok 1.**  \n",
    "Przygotowanie środowiska wirtualnego na wszystkich maszynach, które mają być częścią klastra:\n",
    "* instalujemy interpreter Pythona w tej samej wersji,\n",
    "* instalujemy również moduł `dask distributed`,\n",
    "\n",
    "**Krok 2**  \n",
    "Uruchamiamy scheduler. Na wybranej maszynie (maszynach) uruchamiamy scheduler za pomocą polecenia `dask-scheduler` w konsoli Pythona z aktywowanym środowiskiem wirtualnym. Można równiez uruchomić scheduler w sposób przedstawiany do tej porty w załączonych notebookach. Notujemy adres IP oraz port, na którym działa scheduler klastra dask.\n",
    "\n",
    "**Krok 3**  \n",
    "Dołączamy kolejne workery do klastra. W konsoli Python pozostałych maszyn, z aktywowanym środowiskiem wirtualnym Python, uruchamiamy workery poleceniem `dask-worker 192.168.1.1:8786 --nprocs 1 --nthreads 1 --memory-limit 2GB`, ustawiając odpowiedni adres IP oraz ilość procesów, wątków dla każdego workera.\n",
    "\n",
    "**Krok 4**  \n",
    "Z poziomu schedulera uruchamiamy zadania i śledzimy ich wykonanie w dashboardzie.\n"
   ]
  },
  {
   "cell_type": "markdown",
   "id": "df9043ba-1b68-4363-a912-f9e6b18e16c4",
   "metadata": {},
   "source": [
    "### 4.2 Scenariusze wykorzystania klastra.\n",
    "\n",
    "**Scenariusz 1**  \n",
    "Uruchomienie pierwszego testowego zadania polegającego na przetworzeniu stosunkowo dużej tablicy dask na dostępnych workerach. Pamiętaj, że tworząc obiekt klienta możesz wskazać ile workerów chcesz wykorzystać na tym kliencie i to nie musi być całość dostępnych zasobów. Ważne jest również prześledzenie utylizacji workerów oraz struktury zadań (np. transfer danych między workerami) w dashboardzie. Dopasuj wielkość tablicy tak, aby wykorzystać dostępną pamięć RAM klastra w dość znacznym stopniu.\n",
    "\n",
    "**Scenariusz 2**  \n",
    "W tym zadaniu należy przygotować wybrany zbiór danych na komputerze, na którym uruchomiony został scheduler i wykonać proces wczytania danych do wybranej kolekcji dask w sposób rozproszony. Ponownie monitoruj sposób pracy klastra w dashboardzie. Pierwsze uruchomienie powinno odbyć się na stosunkowo niewielkiej liczbie danych, z czasem należy ją zwiększyć tak, aby klaster był faktycznie zajęty czymś przez pewien czas (np. kilka minut). \n",
    "Tu można przywołać zadania z poprzedniego labu z danymi ze zbioru `private_instagram` lub zbiorami przedstawionymi w tym labie.\n",
    "\n"
   ]
  },
  {
   "cell_type": "code",
   "id": "982ba547-be47-412d-98f0-79ca7362bdfe",
   "metadata": {
    "ExecuteTime": {
     "end_time": "2024-10-16T11:49:09.963063Z",
     "start_time": "2024-10-16T11:49:09.784518Z"
    }
   },
   "source": [
    "# zamykamy połączenie z klientem\n",
    "client.close()"
   ],
   "outputs": [],
   "execution_count": 26
  },
  {
   "cell_type": "markdown",
   "id": "05639093-2626-4f99-bd28-a547ac3f5119",
   "metadata": {},
   "source": [
    "## **Zadania c.d.**"
   ]
  },
  {
   "cell_type": "markdown",
   "id": "a69354b7-806d-40e5-8091-5aef1f43f708",
   "metadata": {},
   "source": [
    "**Zadanie 2**  \n",
    "Wykorzystując przykłady zaprezentowane w labie wykonaj na danych `people` (możesz zmniejszyć lub zwiększyć ich wolumen w zależności od potrzeb) operację z użyciem Dask bag, która polegać będzie na przetworzeniu wszystkich plików i zapisaniu do plików o nazwie `expired_{partition}.json` rekordów, których ważność karty kredytowej wygasła (jest to wartość w formacie miesiąc/rok). Zapisując ustaw finalną liczbę plików na 10 jeżeli była inna. Możesz to zrobić poprzez zmianę ilość partycji dask bag (patrz link do API na początku laba).\n",
    "\n",
    "**Zadanie 3**  \n",
    "Wybierając z danych `people` dane tylko osób dorosłych (zaprezentowane w przykładach w tym labie) przechowaj je w obiekcie typu `bag`, a następnie zapisz je do dask dataframe za pomocą metody `to_dataframe` (pamiętaj o tym jaka jest aktualna struktura pojedynczego rekordu), a następnie zapisz do jednego pliku w formacie parquet."
   ]
  }
 ],
 "metadata": {
  "kernelspec": {
   "display_name": "Python 3 (ipykernel)",
   "language": "python",
   "name": "python3"
  },
  "language_info": {
   "codemirror_mode": {
    "name": "ipython",
    "version": 3
   },
   "file_extension": ".py",
   "mimetype": "text/x-python",
   "name": "python",
   "nbconvert_exporter": "python",
   "pygments_lexer": "ipython3",
   "version": "3.11.9"
  }
 },
 "nbformat": 4,
 "nbformat_minor": 5
}
