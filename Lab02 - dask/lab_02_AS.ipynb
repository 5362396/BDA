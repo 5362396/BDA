{
 "cells": [
  {
   "metadata": {
    "ExecuteTime": {
     "end_time": "2024-10-14T15:31:39.232635Z",
     "start_time": "2024-10-14T15:31:38.852539Z"
    }
   },
   "cell_type": "code",
   "source": [
    "import numpy as np\n",
    "import pandas as pd"
   ],
   "id": "752dcbcc8b6f3e12",
   "outputs": [],
   "execution_count": 1
  },
  {
   "metadata": {},
   "cell_type": "markdown",
   "source": [
    "**Zadanie 1**  \n",
    "Wczytaj plik `zamowienia.csv` do ramki pandas, a następnie w kilku miejscach (ale nie w pierwszych 10 wierszach) wstaw wartość NaN, aby zasymulować wartości brakujące. Zapisz ramkę do pliku `zamowienia_missing.csv`. Wczytaj teraz plik do ramki Dask i sprawdź jakie typy danych zostały przydzielone. Czy zgadzają się z typami z oryginalnego pliku? Wykonaj dowolne obliczenia na całej ramce Dask, aby wymusić wywołanie `.compute()`. Czy pojawił się błąd dotyczący niespójności typów danych? Spróbuj uruchomić kilka razy funkcję wczytywania danych do ramki Dask dataframe z różnymi wartościami parametru `samples`. Dokumentacja `dask.dataframe.read_csv()`: https://docs.dask.org/en/stable/generated/dask.dataframe.read_csv.html"
   ],
   "id": "c5b1f06a30bb031e"
  },
  {
   "cell_type": "code",
   "id": "initial_id",
   "metadata": {
    "collapsed": true,
    "ExecuteTime": {
     "end_time": "2024-10-14T15:31:39.263518Z",
     "start_time": "2024-10-14T15:31:39.232635Z"
    }
   },
   "source": [
    "df = pd.read_csv('../Lab01 - scattered processing and optimalization/zamowienia.csv', header=0, sep=';')\n",
    "df.head()"
   ],
   "outputs": [
    {
     "data": {
      "text/plain": [
       "     Kraj Sprzedawca Data zamowienia  idZamowienia    Utarg\n",
       "0  Polska   Kowalski      2003-07-16         10248   440.00\n",
       "1  Polska   Sowiński      2003-07-10         10249  1863.40\n",
       "2  Niemcy    Peacock      2003-07-12         10250  1552.60\n",
       "3  Niemcy  Leverling      2003-07-15         10251   654.06\n",
       "4  Niemcy    Peacock      2003-07-11         10252  3597.90"
      ],
      "text/html": [
       "<div>\n",
       "<style scoped>\n",
       "    .dataframe tbody tr th:only-of-type {\n",
       "        vertical-align: middle;\n",
       "    }\n",
       "\n",
       "    .dataframe tbody tr th {\n",
       "        vertical-align: top;\n",
       "    }\n",
       "\n",
       "    .dataframe thead th {\n",
       "        text-align: right;\n",
       "    }\n",
       "</style>\n",
       "<table border=\"1\" class=\"dataframe\">\n",
       "  <thead>\n",
       "    <tr style=\"text-align: right;\">\n",
       "      <th></th>\n",
       "      <th>Kraj</th>\n",
       "      <th>Sprzedawca</th>\n",
       "      <th>Data zamowienia</th>\n",
       "      <th>idZamowienia</th>\n",
       "      <th>Utarg</th>\n",
       "    </tr>\n",
       "  </thead>\n",
       "  <tbody>\n",
       "    <tr>\n",
       "      <th>0</th>\n",
       "      <td>Polska</td>\n",
       "      <td>Kowalski</td>\n",
       "      <td>2003-07-16</td>\n",
       "      <td>10248</td>\n",
       "      <td>440.00</td>\n",
       "    </tr>\n",
       "    <tr>\n",
       "      <th>1</th>\n",
       "      <td>Polska</td>\n",
       "      <td>Sowiński</td>\n",
       "      <td>2003-07-10</td>\n",
       "      <td>10249</td>\n",
       "      <td>1863.40</td>\n",
       "    </tr>\n",
       "    <tr>\n",
       "      <th>2</th>\n",
       "      <td>Niemcy</td>\n",
       "      <td>Peacock</td>\n",
       "      <td>2003-07-12</td>\n",
       "      <td>10250</td>\n",
       "      <td>1552.60</td>\n",
       "    </tr>\n",
       "    <tr>\n",
       "      <th>3</th>\n",
       "      <td>Niemcy</td>\n",
       "      <td>Leverling</td>\n",
       "      <td>2003-07-15</td>\n",
       "      <td>10251</td>\n",
       "      <td>654.06</td>\n",
       "    </tr>\n",
       "    <tr>\n",
       "      <th>4</th>\n",
       "      <td>Niemcy</td>\n",
       "      <td>Peacock</td>\n",
       "      <td>2003-07-11</td>\n",
       "      <td>10252</td>\n",
       "      <td>3597.90</td>\n",
       "    </tr>\n",
       "  </tbody>\n",
       "</table>\n",
       "</div>"
      ]
     },
     "execution_count": 2,
     "metadata": {},
     "output_type": "execute_result"
    }
   ],
   "execution_count": 2
  },
  {
   "metadata": {
    "ExecuteTime": {
     "end_time": "2024-10-14T15:31:39.272678Z",
     "start_time": "2024-10-14T15:31:39.263518Z"
    }
   },
   "cell_type": "code",
   "source": [
    "df_with_nan = df.copy()\n",
    "nan_fields = [(16, 'Utarg'), (24, 'Sprzedawca'), (29, 'Data zamowienia'), (33, 'Kraj')]\n",
    "\n",
    "for index, column in nan_fields:\n",
    "    df_with_nan.at[index, column] = np.nan\n",
    "\n",
    "df_with_nan.to_csv('./data/zamowienia_missing.csv', index=False)\n",
    "\n",
    "df_with_nan.loc[nan_fields[0][0]:nan_fields[-1][0]]"
   ],
   "id": "882f8c372034e3d5",
   "outputs": [
    {
     "data": {
      "text/plain": [
       "      Kraj Sprzedawca Data zamowienia  idZamowienia    Utarg\n",
       "16  Polska   Sowiński      2003-08-23         10264      NaN\n",
       "17  Niemcy     Fuller      2003-08-12         10265  1176.00\n",
       "18  Niemcy  Leverling      2003-07-31         10266   346.56\n",
       "19  Niemcy    Peacock      2003-08-06         10267  3536.60\n",
       "20  Niemcy   Callahan      2003-08-02         10268  1101.20\n",
       "21  Polska   Kowalski      2003-08-09         10269   642.20\n",
       "22  Niemcy    Davolio      2003-08-02         10270  1376.00\n",
       "23  Polska   Sowiński      2003-08-30         10271    48.00\n",
       "24  Polska        NaN      2003-08-06         10272  1456.00\n",
       "25  Niemcy  Leverling      2003-08-12         10273  2037.28\n",
       "26  Polska   Sowiński      2003-08-16         10274   538.60\n",
       "27  Niemcy    Davolio      2003-08-09         10275   291.84\n",
       "28  Niemcy   Callahan      2003-08-14         10276   420.00\n",
       "29  Niemcy     Fuller             NaN         10277  1200.80\n",
       "30  Niemcy   Callahan      2003-08-16         10278  1488.80\n",
       "31  Niemcy   Callahan      2003-08-16         10279   351.00\n",
       "32  Niemcy     Fuller      2003-09-12         10280   613.20\n",
       "33     NaN    Peacock      2003-08-21         10281    86.50"
      ],
      "text/html": [
       "<div>\n",
       "<style scoped>\n",
       "    .dataframe tbody tr th:only-of-type {\n",
       "        vertical-align: middle;\n",
       "    }\n",
       "\n",
       "    .dataframe tbody tr th {\n",
       "        vertical-align: top;\n",
       "    }\n",
       "\n",
       "    .dataframe thead th {\n",
       "        text-align: right;\n",
       "    }\n",
       "</style>\n",
       "<table border=\"1\" class=\"dataframe\">\n",
       "  <thead>\n",
       "    <tr style=\"text-align: right;\">\n",
       "      <th></th>\n",
       "      <th>Kraj</th>\n",
       "      <th>Sprzedawca</th>\n",
       "      <th>Data zamowienia</th>\n",
       "      <th>idZamowienia</th>\n",
       "      <th>Utarg</th>\n",
       "    </tr>\n",
       "  </thead>\n",
       "  <tbody>\n",
       "    <tr>\n",
       "      <th>16</th>\n",
       "      <td>Polska</td>\n",
       "      <td>Sowiński</td>\n",
       "      <td>2003-08-23</td>\n",
       "      <td>10264</td>\n",
       "      <td>NaN</td>\n",
       "    </tr>\n",
       "    <tr>\n",
       "      <th>17</th>\n",
       "      <td>Niemcy</td>\n",
       "      <td>Fuller</td>\n",
       "      <td>2003-08-12</td>\n",
       "      <td>10265</td>\n",
       "      <td>1176.00</td>\n",
       "    </tr>\n",
       "    <tr>\n",
       "      <th>18</th>\n",
       "      <td>Niemcy</td>\n",
       "      <td>Leverling</td>\n",
       "      <td>2003-07-31</td>\n",
       "      <td>10266</td>\n",
       "      <td>346.56</td>\n",
       "    </tr>\n",
       "    <tr>\n",
       "      <th>19</th>\n",
       "      <td>Niemcy</td>\n",
       "      <td>Peacock</td>\n",
       "      <td>2003-08-06</td>\n",
       "      <td>10267</td>\n",
       "      <td>3536.60</td>\n",
       "    </tr>\n",
       "    <tr>\n",
       "      <th>20</th>\n",
       "      <td>Niemcy</td>\n",
       "      <td>Callahan</td>\n",
       "      <td>2003-08-02</td>\n",
       "      <td>10268</td>\n",
       "      <td>1101.20</td>\n",
       "    </tr>\n",
       "    <tr>\n",
       "      <th>21</th>\n",
       "      <td>Polska</td>\n",
       "      <td>Kowalski</td>\n",
       "      <td>2003-08-09</td>\n",
       "      <td>10269</td>\n",
       "      <td>642.20</td>\n",
       "    </tr>\n",
       "    <tr>\n",
       "      <th>22</th>\n",
       "      <td>Niemcy</td>\n",
       "      <td>Davolio</td>\n",
       "      <td>2003-08-02</td>\n",
       "      <td>10270</td>\n",
       "      <td>1376.00</td>\n",
       "    </tr>\n",
       "    <tr>\n",
       "      <th>23</th>\n",
       "      <td>Polska</td>\n",
       "      <td>Sowiński</td>\n",
       "      <td>2003-08-30</td>\n",
       "      <td>10271</td>\n",
       "      <td>48.00</td>\n",
       "    </tr>\n",
       "    <tr>\n",
       "      <th>24</th>\n",
       "      <td>Polska</td>\n",
       "      <td>NaN</td>\n",
       "      <td>2003-08-06</td>\n",
       "      <td>10272</td>\n",
       "      <td>1456.00</td>\n",
       "    </tr>\n",
       "    <tr>\n",
       "      <th>25</th>\n",
       "      <td>Niemcy</td>\n",
       "      <td>Leverling</td>\n",
       "      <td>2003-08-12</td>\n",
       "      <td>10273</td>\n",
       "      <td>2037.28</td>\n",
       "    </tr>\n",
       "    <tr>\n",
       "      <th>26</th>\n",
       "      <td>Polska</td>\n",
       "      <td>Sowiński</td>\n",
       "      <td>2003-08-16</td>\n",
       "      <td>10274</td>\n",
       "      <td>538.60</td>\n",
       "    </tr>\n",
       "    <tr>\n",
       "      <th>27</th>\n",
       "      <td>Niemcy</td>\n",
       "      <td>Davolio</td>\n",
       "      <td>2003-08-09</td>\n",
       "      <td>10275</td>\n",
       "      <td>291.84</td>\n",
       "    </tr>\n",
       "    <tr>\n",
       "      <th>28</th>\n",
       "      <td>Niemcy</td>\n",
       "      <td>Callahan</td>\n",
       "      <td>2003-08-14</td>\n",
       "      <td>10276</td>\n",
       "      <td>420.00</td>\n",
       "    </tr>\n",
       "    <tr>\n",
       "      <th>29</th>\n",
       "      <td>Niemcy</td>\n",
       "      <td>Fuller</td>\n",
       "      <td>NaN</td>\n",
       "      <td>10277</td>\n",
       "      <td>1200.80</td>\n",
       "    </tr>\n",
       "    <tr>\n",
       "      <th>30</th>\n",
       "      <td>Niemcy</td>\n",
       "      <td>Callahan</td>\n",
       "      <td>2003-08-16</td>\n",
       "      <td>10278</td>\n",
       "      <td>1488.80</td>\n",
       "    </tr>\n",
       "    <tr>\n",
       "      <th>31</th>\n",
       "      <td>Niemcy</td>\n",
       "      <td>Callahan</td>\n",
       "      <td>2003-08-16</td>\n",
       "      <td>10279</td>\n",
       "      <td>351.00</td>\n",
       "    </tr>\n",
       "    <tr>\n",
       "      <th>32</th>\n",
       "      <td>Niemcy</td>\n",
       "      <td>Fuller</td>\n",
       "      <td>2003-09-12</td>\n",
       "      <td>10280</td>\n",
       "      <td>613.20</td>\n",
       "    </tr>\n",
       "    <tr>\n",
       "      <th>33</th>\n",
       "      <td>NaN</td>\n",
       "      <td>Peacock</td>\n",
       "      <td>2003-08-21</td>\n",
       "      <td>10281</td>\n",
       "      <td>86.50</td>\n",
       "    </tr>\n",
       "  </tbody>\n",
       "</table>\n",
       "</div>"
      ]
     },
     "execution_count": 3,
     "metadata": {},
     "output_type": "execute_result"
    }
   ],
   "execution_count": 3
  },
  {
   "metadata": {
    "ExecuteTime": {
     "end_time": "2024-10-14T15:31:39.782177Z",
     "start_time": "2024-10-14T15:31:39.272678Z"
    }
   },
   "cell_type": "code",
   "source": [
    "import dask.dataframe as dd\n",
    "\n",
    "dask_df = dd.read_csv('./data/zamowienia_missing.csv', delimiter=',')\n",
    "\n",
    "print(dask_df.dtypes)"
   ],
   "id": "5ff10f12a77ef095",
   "outputs": [
    {
     "name": "stdout",
     "output_type": "stream",
     "text": [
      "Kraj               string[pyarrow]\n",
      "Sprzedawca         string[pyarrow]\n",
      "Data zamowienia    string[pyarrow]\n",
      "idZamowienia                 int64\n",
      "Utarg                      float64\n",
      "dtype: object\n"
     ]
    }
   ],
   "execution_count": 4
  },
  {
   "metadata": {
    "ExecuteTime": {
     "end_time": "2024-10-14T15:31:39.787380Z",
     "start_time": "2024-10-14T15:31:39.782177Z"
    }
   },
   "cell_type": "code",
   "source": "print(df.dtypes)",
   "id": "bc022f8bcdc3e554",
   "outputs": [
    {
     "name": "stdout",
     "output_type": "stream",
     "text": [
      "Kraj                object\n",
      "Sprzedawca          object\n",
      "Data zamowienia     object\n",
      "idZamowienia         int64\n",
      "Utarg              float64\n",
      "dtype: object\n"
     ]
    }
   ],
   "execution_count": 5
  },
  {
   "metadata": {},
   "cell_type": "markdown",
   "source": "Typy się nie zgadzają, zostały zmienione z object na string[pyarrow]",
   "id": "f9ac9cdf4e7efd92"
  },
  {
   "metadata": {
    "ExecuteTime": {
     "end_time": "2024-10-14T15:31:39.944905Z",
     "start_time": "2024-10-14T15:31:39.787380Z"
    }
   },
   "cell_type": "code",
   "source": [
    "result = dask_df['Kraj'].mode().compute()\n",
    "print(result)"
   ],
   "id": "9ae40e0d7874b5f9",
   "outputs": [
    {
     "name": "stdout",
     "output_type": "stream",
     "text": [
      "0    Niemcy\n",
      "Name: Kraj, dtype: object\n"
     ]
    }
   ],
   "execution_count": 6
  },
  {
   "metadata": {
    "ExecuteTime": {
     "end_time": "2024-10-14T15:31:39.956338Z",
     "start_time": "2024-10-14T15:31:39.945589Z"
    }
   },
   "cell_type": "code",
   "source": [
    "result = dask_df['Utarg'].mean().compute()\n",
    "print(result)"
   ],
   "id": "28faa8733c328807",
   "outputs": [
    {
     "name": "stdout",
     "output_type": "stream",
     "text": [
      "1538.3856892230574\n"
     ]
    }
   ],
   "execution_count": 7
  },
  {
   "metadata": {},
   "cell_type": "markdown",
   "source": "Brak błędu niespójności danych.",
   "id": "d84e08aeeb572f7e"
  },
  {
   "metadata": {},
   "cell_type": "markdown",
   "source": [
    "**Zadanie 2**  \n",
    "Ze strony https://docs.dask.org/en/stable/dashboard.html skonfiguruj plugin Dask dashboard dla Jupyter Lab i przetestuj jego działanie."
   ],
   "id": "239c9da5cfa2550e"
  },
  {
   "metadata": {},
   "cell_type": "markdown",
   "source": "http://localhost:8888/lab/tree/Lab02%20-%20dask/lab_02.ipynb tu działa jako tako",
   "id": "8be3f0497e82551"
  },
  {
   "metadata": {},
   "cell_type": "markdown",
   "source": [
    "**Zadanie 3**  \n",
    "Skonfiguruj lokalny klaster (`Client`) tak, aby nie zaalokował wszystkich zasobów (np. zostaw 8 GB RAM dla systemu hosta + 2 rdzenie). Pobierz dane udostępnione na poprzednich zajęciach (https://huggingface.co/datasets/vargr/private_instagram/tree/main/data) i załaduj do ramki Dask tyle części ile zdołasz w formie bez optymalizacji. Zmierz czas tej operacji. "
   ],
   "id": "9949266a07cd626e"
  },
  {
   "metadata": {
    "ExecuteTime": {
     "end_time": "2024-10-14T15:31:42.664734Z",
     "start_time": "2024-10-14T15:31:39.956338Z"
    }
   },
   "cell_type": "code",
   "source": [
    "from dask.distributed import Client\n",
    "import glob\n",
    "import time\n",
    "\n",
    "client = Client(memory_limit='24GB', n_workers=12)\n",
    "\n",
    "path = '../data/Lab01/*.parquet'\n",
    "files = glob.glob(path)\n",
    "\n",
    "start_time = time.time()\n",
    "df = dd.concat([dd.read_parquet(file) for file in files], ignore_index=True)\n",
    "end_time = time.time()\n",
    "loading_time = end_time - start_time\n",
    "\n",
    "print(f'Czas ładowania danych: {loading_time} sekund')"
   ],
   "id": "e2b4c70a1d79495c",
   "outputs": [
    {
     "name": "stdout",
     "output_type": "stream",
     "text": [
      "Czas ładowania danych: 0.6760671138763428 sekund\n"
     ]
    }
   ],
   "execution_count": 8
  },
  {
   "metadata": {},
   "cell_type": "markdown",
   "source": [
    "**Zadanie 4**  \n",
    "Wykonaj kilka operacji na klastrze lokalnym z danymi z zadania 3:\n",
    "* wyświetl top 10 użytkowników z najwyższą liczbą like'ów,\n",
    "* pobierz dane tylko za pierwsze półrocze 2019 roku.\n",
    "Każdorazowo zmierz i wyświetl czas operacji i obserwuj dashboard."
   ],
   "id": "90de778f8d24c5ec"
  },
  {
   "metadata": {
    "ExecuteTime": {
     "end_time": "2024-10-14T15:31:43.960597Z",
     "start_time": "2024-10-14T15:31:42.664734Z"
    }
   },
   "cell_type": "code",
   "source": [
    "start_time = time.time()\n",
    "top_users = df.nlargest(10, 'likes')[['sid_profile', 'likes']].compute()\n",
    "end_time = time.time()\n",
    "operation_time = end_time - start_time\n",
    "\n",
    "print(top_users)\n",
    "print(f'Czas operacji top 10 użytkowników: {operation_time} sekund')"
   ],
   "id": "f0025ec63a787858",
   "outputs": [
    {
     "name": "stdout",
     "output_type": "stream",
     "text": [
      "        sid_profile    likes\n",
      "263914       531404  8822952\n",
      "263910       531404  5447066\n",
      "263911       531404  5116398\n",
      "263908       531404  4271466\n",
      "263915       531404  3558599\n",
      "384081       397587  3533326\n",
      "592831      3520880  3340297\n",
      "115579        91738  3311246\n",
      "263917       531404  3198242\n",
      "263909       531404  2900455\n",
      "Czas operacji top 10 użytkowników: 1.289703607559204 sekund\n"
     ]
    }
   ],
   "execution_count": 9
  },
  {
   "metadata": {
    "ExecuteTime": {
     "end_time": "2024-10-14T15:31:44.538289Z",
     "start_time": "2024-10-14T15:31:43.961115Z"
    }
   },
   "cell_type": "code",
   "source": [
    "start_time = time.time()\n",
    "filtered_df = df[df['date'].between('2019-01-01', '2019-06-30')].compute()\n",
    "end_time = time.time()\n",
    "filter_time = end_time - start_time\n",
    "\n",
    "print(filtered_df.head())\n",
    "print(f'Czas filtrowania danych: {filter_time} sekund')"
   ],
   "id": "e06afd20bbcdadac",
   "outputs": [
    {
     "ename": "KeyboardInterrupt",
     "evalue": "",
     "output_type": "error",
     "traceback": [
      "\u001B[1;31m---------------------------------------------------------------------------\u001B[0m",
      "\u001B[1;31mKeyboardInterrupt\u001B[0m                         Traceback (most recent call last)",
      "Cell \u001B[1;32mIn[10], line 2\u001B[0m\n\u001B[0;32m      1\u001B[0m start_time \u001B[38;5;241m=\u001B[39m time\u001B[38;5;241m.\u001B[39mtime()\n\u001B[1;32m----> 2\u001B[0m filtered_df \u001B[38;5;241m=\u001B[39m \u001B[43mdf\u001B[49m\u001B[43m[\u001B[49m\u001B[43mdf\u001B[49m\u001B[43m[\u001B[49m\u001B[38;5;124;43m'\u001B[39;49m\u001B[38;5;124;43mdate\u001B[39;49m\u001B[38;5;124;43m'\u001B[39;49m\u001B[43m]\u001B[49m\u001B[38;5;241;43m.\u001B[39;49m\u001B[43mbetween\u001B[49m\u001B[43m(\u001B[49m\u001B[38;5;124;43m'\u001B[39;49m\u001B[38;5;124;43m2019-01-01\u001B[39;49m\u001B[38;5;124;43m'\u001B[39;49m\u001B[43m,\u001B[49m\u001B[43m \u001B[49m\u001B[38;5;124;43m'\u001B[39;49m\u001B[38;5;124;43m2019-06-30\u001B[39;49m\u001B[38;5;124;43m'\u001B[39;49m\u001B[43m)\u001B[49m\u001B[43m]\u001B[49m\u001B[38;5;241;43m.\u001B[39;49m\u001B[43mcompute\u001B[49m\u001B[43m(\u001B[49m\u001B[43m)\u001B[49m\n\u001B[0;32m      3\u001B[0m end_time \u001B[38;5;241m=\u001B[39m time\u001B[38;5;241m.\u001B[39mtime()\n\u001B[0;32m      4\u001B[0m filter_time \u001B[38;5;241m=\u001B[39m end_time \u001B[38;5;241m-\u001B[39m start_time\n",
      "File \u001B[1;32m~\\PycharmProjects\\BDA\\.venv\\Lib\\site-packages\\dask_expr\\_collection.py:481\u001B[0m, in \u001B[0;36mFrameBase.compute\u001B[1;34m(self, fuse, concatenate, **kwargs)\u001B[0m\n\u001B[0;32m    479\u001B[0m     out \u001B[38;5;241m=\u001B[39m out\u001B[38;5;241m.\u001B[39mrepartition(npartitions\u001B[38;5;241m=\u001B[39m\u001B[38;5;241m1\u001B[39m)\n\u001B[0;32m    480\u001B[0m out \u001B[38;5;241m=\u001B[39m out\u001B[38;5;241m.\u001B[39moptimize(fuse\u001B[38;5;241m=\u001B[39mfuse)\n\u001B[1;32m--> 481\u001B[0m \u001B[38;5;28;01mreturn\u001B[39;00m \u001B[43mDaskMethodsMixin\u001B[49m\u001B[38;5;241;43m.\u001B[39;49m\u001B[43mcompute\u001B[49m\u001B[43m(\u001B[49m\u001B[43mout\u001B[49m\u001B[43m,\u001B[49m\u001B[43m \u001B[49m\u001B[38;5;241;43m*\u001B[39;49m\u001B[38;5;241;43m*\u001B[39;49m\u001B[43mkwargs\u001B[49m\u001B[43m)\u001B[49m\n",
      "File \u001B[1;32m~\\PycharmProjects\\BDA\\.venv\\Lib\\site-packages\\dask\\base.py:372\u001B[0m, in \u001B[0;36mDaskMethodsMixin.compute\u001B[1;34m(self, **kwargs)\u001B[0m\n\u001B[0;32m    348\u001B[0m \u001B[38;5;28;01mdef\u001B[39;00m \u001B[38;5;21mcompute\u001B[39m(\u001B[38;5;28mself\u001B[39m, \u001B[38;5;241m*\u001B[39m\u001B[38;5;241m*\u001B[39mkwargs):\n\u001B[0;32m    349\u001B[0m \u001B[38;5;250m    \u001B[39m\u001B[38;5;124;03m\"\"\"Compute this dask collection\u001B[39;00m\n\u001B[0;32m    350\u001B[0m \n\u001B[0;32m    351\u001B[0m \u001B[38;5;124;03m    This turns a lazy Dask collection into its in-memory equivalent.\u001B[39;00m\n\u001B[1;32m   (...)\u001B[0m\n\u001B[0;32m    370\u001B[0m \u001B[38;5;124;03m    dask.compute\u001B[39;00m\n\u001B[0;32m    371\u001B[0m \u001B[38;5;124;03m    \"\"\"\u001B[39;00m\n\u001B[1;32m--> 372\u001B[0m     (result,) \u001B[38;5;241m=\u001B[39m \u001B[43mcompute\u001B[49m\u001B[43m(\u001B[49m\u001B[38;5;28;43mself\u001B[39;49m\u001B[43m,\u001B[49m\u001B[43m \u001B[49m\u001B[43mtraverse\u001B[49m\u001B[38;5;241;43m=\u001B[39;49m\u001B[38;5;28;43;01mFalse\u001B[39;49;00m\u001B[43m,\u001B[49m\u001B[43m \u001B[49m\u001B[38;5;241;43m*\u001B[39;49m\u001B[38;5;241;43m*\u001B[39;49m\u001B[43mkwargs\u001B[49m\u001B[43m)\u001B[49m\n\u001B[0;32m    373\u001B[0m     \u001B[38;5;28;01mreturn\u001B[39;00m result\n",
      "File \u001B[1;32m~\\PycharmProjects\\BDA\\.venv\\Lib\\site-packages\\dask\\base.py:660\u001B[0m, in \u001B[0;36mcompute\u001B[1;34m(traverse, optimize_graph, scheduler, get, *args, **kwargs)\u001B[0m\n\u001B[0;32m    657\u001B[0m     postcomputes\u001B[38;5;241m.\u001B[39mappend(x\u001B[38;5;241m.\u001B[39m__dask_postcompute__())\n\u001B[0;32m    659\u001B[0m \u001B[38;5;28;01mwith\u001B[39;00m shorten_traceback():\n\u001B[1;32m--> 660\u001B[0m     results \u001B[38;5;241m=\u001B[39m \u001B[43mschedule\u001B[49m\u001B[43m(\u001B[49m\u001B[43mdsk\u001B[49m\u001B[43m,\u001B[49m\u001B[43m \u001B[49m\u001B[43mkeys\u001B[49m\u001B[43m,\u001B[49m\u001B[43m \u001B[49m\u001B[38;5;241;43m*\u001B[39;49m\u001B[38;5;241;43m*\u001B[39;49m\u001B[43mkwargs\u001B[49m\u001B[43m)\u001B[49m\n\u001B[0;32m    662\u001B[0m \u001B[38;5;28;01mreturn\u001B[39;00m repack([f(r, \u001B[38;5;241m*\u001B[39ma) \u001B[38;5;28;01mfor\u001B[39;00m r, (f, a) \u001B[38;5;129;01min\u001B[39;00m \u001B[38;5;28mzip\u001B[39m(results, postcomputes)])\n",
      "File \u001B[1;32m~\\PycharmProjects\\BDA\\.venv\\Lib\\site-packages\\distributed\\protocol\\serialize.py:366\u001B[0m, in \u001B[0;36mserialize\u001B[1;34m(x, serializers, on_error, context, iterate_collection)\u001B[0m\n\u001B[0;32m    364\u001B[0m dumps, _, wants_context \u001B[38;5;241m=\u001B[39m families[name]\n\u001B[0;32m    365\u001B[0m \u001B[38;5;28;01mtry\u001B[39;00m:\n\u001B[1;32m--> 366\u001B[0m     header, frames \u001B[38;5;241m=\u001B[39m \u001B[43mdumps\u001B[49m\u001B[43m(\u001B[49m\u001B[43mx\u001B[49m\u001B[43m,\u001B[49m\u001B[43m \u001B[49m\u001B[43mcontext\u001B[49m\u001B[38;5;241;43m=\u001B[39;49m\u001B[43mcontext\u001B[49m\u001B[43m)\u001B[49m \u001B[38;5;28;01mif\u001B[39;00m wants_context \u001B[38;5;28;01melse\u001B[39;00m dumps(x)\n\u001B[0;32m    367\u001B[0m     header[\u001B[38;5;124m\"\u001B[39m\u001B[38;5;124mserializer\u001B[39m\u001B[38;5;124m\"\u001B[39m] \u001B[38;5;241m=\u001B[39m name\n\u001B[0;32m    368\u001B[0m     \u001B[38;5;28;01mreturn\u001B[39;00m header, frames\n",
      "File \u001B[1;32m~\\PycharmProjects\\BDA\\.venv\\Lib\\site-packages\\distributed\\protocol\\serialize.py:78\u001B[0m, in \u001B[0;36mpickle_dumps\u001B[1;34m(x, context)\u001B[0m\n\u001B[0;32m     75\u001B[0m     frames\u001B[38;5;241m.\u001B[39mappend(f)\n\u001B[0;32m     76\u001B[0m     writeable\u001B[38;5;241m.\u001B[39mappend(\u001B[38;5;129;01mnot\u001B[39;00m f\u001B[38;5;241m.\u001B[39mreadonly)\n\u001B[1;32m---> 78\u001B[0m frames[\u001B[38;5;241m0\u001B[39m] \u001B[38;5;241m=\u001B[39m \u001B[43mpickle\u001B[49m\u001B[38;5;241;43m.\u001B[39;49m\u001B[43mdumps\u001B[49m\u001B[43m(\u001B[49m\n\u001B[0;32m     79\u001B[0m \u001B[43m    \u001B[49m\u001B[43mx\u001B[49m\u001B[43m,\u001B[49m\n\u001B[0;32m     80\u001B[0m \u001B[43m    \u001B[49m\u001B[43mbuffer_callback\u001B[49m\u001B[38;5;241;43m=\u001B[39;49m\u001B[43mbuffer_callback\u001B[49m\u001B[43m,\u001B[49m\n\u001B[0;32m     81\u001B[0m \u001B[43m    \u001B[49m\u001B[43mprotocol\u001B[49m\u001B[38;5;241;43m=\u001B[39;49m\u001B[43mcontext\u001B[49m\u001B[38;5;241;43m.\u001B[39;49m\u001B[43mget\u001B[49m\u001B[43m(\u001B[49m\u001B[38;5;124;43m\"\u001B[39;49m\u001B[38;5;124;43mpickle-protocol\u001B[39;49m\u001B[38;5;124;43m\"\u001B[39;49m\u001B[43m,\u001B[49m\u001B[43m \u001B[49m\u001B[38;5;28;43;01mNone\u001B[39;49;00m\u001B[43m)\u001B[49m\u001B[43m \u001B[49m\u001B[38;5;28;43;01mif\u001B[39;49;00m\u001B[43m \u001B[49m\u001B[43mcontext\u001B[49m\u001B[43m \u001B[49m\u001B[38;5;28;43;01melse\u001B[39;49;00m\u001B[43m \u001B[49m\u001B[38;5;28;43;01mNone\u001B[39;49;00m\u001B[43m,\u001B[49m\n\u001B[0;32m     82\u001B[0m \u001B[43m\u001B[49m\u001B[43m)\u001B[49m\n\u001B[0;32m     83\u001B[0m header \u001B[38;5;241m=\u001B[39m {\n\u001B[0;32m     84\u001B[0m     \u001B[38;5;124m\"\u001B[39m\u001B[38;5;124mserializer\u001B[39m\u001B[38;5;124m\"\u001B[39m: \u001B[38;5;124m\"\u001B[39m\u001B[38;5;124mpickle\u001B[39m\u001B[38;5;124m\"\u001B[39m,\n\u001B[0;32m     85\u001B[0m     \u001B[38;5;124m\"\u001B[39m\u001B[38;5;124mwriteable\u001B[39m\u001B[38;5;124m\"\u001B[39m: \u001B[38;5;28mtuple\u001B[39m(writeable),\n\u001B[0;32m     86\u001B[0m }\n\u001B[0;32m     88\u001B[0m \u001B[38;5;28;01mreturn\u001B[39;00m header, frames\n",
      "File \u001B[1;32m~\\PycharmProjects\\BDA\\.venv\\Lib\\site-packages\\distributed\\protocol\\pickle.py:60\u001B[0m, in \u001B[0;36mdumps\u001B[1;34m(x, buffer_callback, protocol)\u001B[0m\n\u001B[0;32m     58\u001B[0m \u001B[38;5;28;01mtry\u001B[39;00m:\n\u001B[0;32m     59\u001B[0m     \u001B[38;5;28;01mtry\u001B[39;00m:\n\u001B[1;32m---> 60\u001B[0m         result \u001B[38;5;241m=\u001B[39m \u001B[43mpickle\u001B[49m\u001B[38;5;241;43m.\u001B[39;49m\u001B[43mdumps\u001B[49m\u001B[43m(\u001B[49m\u001B[43mx\u001B[49m\u001B[43m,\u001B[49m\u001B[43m \u001B[49m\u001B[38;5;241;43m*\u001B[39;49m\u001B[38;5;241;43m*\u001B[39;49m\u001B[43mdump_kwargs\u001B[49m\u001B[43m)\u001B[49m\n\u001B[0;32m     61\u001B[0m     \u001B[38;5;28;01mexcept\u001B[39;00m \u001B[38;5;167;01mException\u001B[39;00m:\n\u001B[0;32m     62\u001B[0m         f \u001B[38;5;241m=\u001B[39m io\u001B[38;5;241m.\u001B[39mBytesIO()\n",
      "File \u001B[1;32m~\\PycharmProjects\\BDA\\.venv\\Lib\\site-packages\\pandas\\core\\arrays\\arrow\\array.py:690\u001B[0m, in \u001B[0;36mArrowExtensionArray.__getstate__\u001B[1;34m(self)\u001B[0m\n\u001B[0;32m    688\u001B[0m \u001B[38;5;28;01mdef\u001B[39;00m \u001B[38;5;21m__getstate__\u001B[39m(\u001B[38;5;28mself\u001B[39m):\n\u001B[0;32m    689\u001B[0m     state \u001B[38;5;241m=\u001B[39m \u001B[38;5;28mself\u001B[39m\u001B[38;5;241m.\u001B[39m\u001B[38;5;18m__dict__\u001B[39m\u001B[38;5;241m.\u001B[39mcopy()\n\u001B[1;32m--> 690\u001B[0m     state[\u001B[38;5;124m\"\u001B[39m\u001B[38;5;124m_pa_array\u001B[39m\u001B[38;5;124m\"\u001B[39m] \u001B[38;5;241m=\u001B[39m \u001B[38;5;28;43mself\u001B[39;49m\u001B[38;5;241;43m.\u001B[39;49m\u001B[43m_pa_array\u001B[49m\u001B[38;5;241;43m.\u001B[39;49m\u001B[43mcombine_chunks\u001B[49m\u001B[43m(\u001B[49m\u001B[43m)\u001B[49m\n\u001B[0;32m    691\u001B[0m     \u001B[38;5;28;01mreturn\u001B[39;00m state\n",
      "\u001B[1;31mKeyboardInterrupt\u001B[0m: "
     ]
    }
   ],
   "execution_count": 10
  },
  {
   "metadata": {},
   "cell_type": "markdown",
   "source": [
    "**Zadanie 5**  \n",
    "Wczytaj te same dane do ramki Dask co w zadaniu 3, ale podaj typy danych, które zostały wybrane w procesie optymalizacji wykonanej w zadaniach z lab 01. Porównaj czas ładowania z zadaniem 3. Wykonaj również te same operacje co w zadaniu 4 i porównaj czas. Śledź wykonanie zadań patrząć na graf wywołań."
   ],
   "id": "4ea2184bc72f12c2"
  },
  {
   "metadata": {},
   "cell_type": "code",
   "source": [
    "start_time = time.time()\n",
    "\n",
    "df2 = df.copy()\n",
    "\n",
    "df2['sid'] = df['sid'].astype(np.int32)\n",
    "df2['sid_profile'] = df['sid_profile'].astype(np.int32)\n",
    "df2['post_id'] = df['post_id']\n",
    "df2['profile_id'] = df['profile_id']\n",
    "df2['date'] = dd.to_datetime(df['date'])\n",
    "df2['post_type'] = df['post_type'].astype('category')\n",
    "df2['description'] = df['description']\n",
    "df2['likes'] = df['likes'].astype(np.int32)\n",
    "df2['comments'] = df['comments'].astype(np.int32)\n",
    "df2['username'] = df['username']\n",
    "df2['bio'] = df['bio']\n",
    "df2['following'] = df['following'].astype(np.int32)\n",
    "df2['followers'] = df['followers'].astype(np.int32)\n",
    "df2['num_posts'] = df['num_posts'].astype(np.int32)\n",
    "df2['is_business_account'] = df['is_business_account']\n",
    "df2['lang'] = df['lang'].astype('category')\n",
    "df2['category'] = df['category'].astype('category')\n",
    "\n",
    "end_time = time.time()\n",
    "optimized_loading_time = end_time - start_time\n",
    "\n",
    "print(f'Czas ładowania z optymalizacją: {optimized_loading_time} sekund')"
   ],
   "id": "fbbd80316555f202",
   "outputs": [],
   "execution_count": null
  },
  {
   "metadata": {},
   "cell_type": "code",
   "source": [
    "start_time = time.time()\n",
    "top_users = df2.nlargest(10, 'likes')[['sid_profile', 'likes']].compute()\n",
    "end_time = time.time()\n",
    "operation_time = end_time - start_time\n",
    "\n",
    "print(top_users)\n",
    "print(f'Czas operacji top 10 użytkowników: {operation_time} sekund')"
   ],
   "id": "9637730ecbc42335",
   "outputs": [],
   "execution_count": null
  },
  {
   "metadata": {
    "ExecuteTime": {
     "end_time": "2024-10-14T15:31:44.540279Z",
     "start_time": "2024-10-14T15:31:44.540279Z"
    }
   },
   "cell_type": "code",
   "source": [
    "start_time = time.time()\n",
    "filtered_df = df2[df2['date'].between('2019-01-01', '2019-06-30')].compute()\n",
    "end_time = time.time()\n",
    "filter_time = end_time - start_time\n",
    "\n",
    "print(filtered_df.head())\n",
    "print(f'Czas filtrowania danych: {filter_time} sekund')"
   ],
   "id": "d694b877a20d25dd",
   "outputs": [],
   "execution_count": null
  },
  {
   "metadata": {},
   "cell_type": "markdown",
   "source": [
    "**Zadanie 6**  \n",
    "Podziel tablicę `darr` z przykładów na inne liczby chunków (eksperymentuj) i wykonaj te same obliczenie (średnia). Dla każdej liczby chunków wypisz czas obliczeń (wykonaj to samo obliczenie minimum 10 razy, aby nieco uwiarygodnić wyniki i uśrednij) i porównaj wyniki. Napisz wniosek o wynikach swoich eksperymentów i automatycznego podziału na chunki. Czy udało Ci się osiągnąć lepszą wydajność niż przy domyślnych ustawieniach?"
   ],
   "id": "71b4eee37abbfeab"
  },
  {
   "metadata": {
    "ExecuteTime": {
     "end_time": "2024-10-14T15:31:44.541275Z",
     "start_time": "2024-10-14T15:31:44.540279Z"
    }
   },
   "cell_type": "code",
   "source": [
    "import dask.array as da\n",
    "\n",
    "\n",
    "def measure_mean_time(darr, n_trials=10):\n",
    "    times = []\n",
    "    for _ in range(n_trials):\n",
    "        start_time = time.time()\n",
    "        darr.mean(axis=0).compute()\n",
    "        times.append(time.time() - start_time)\n",
    "    return np.mean(times)\n",
    "\n",
    "\n",
    "chunk_sizes = [\n",
    "    (500, 500),\n",
    "    (1000, 1000),\n",
    "    (2000, 2000),\n",
    "    (5000, 5000),\n",
    "    (500, 5000),\n",
    "    'auto'\n",
    "]\n",
    "n_trials = 10\n",
    "results = {}\n",
    "\n",
    "for chunks in chunk_sizes:\n",
    "    if chunks == 'auto':\n",
    "        darr = da.random.normal(5, 0.2, size=(20_000, 20_000))\n",
    "    else:\n",
    "        darr = da.random.normal(5, 0.2, size=(20_000, 20_000), chunks=chunks)\n",
    "    \n",
    "    avg_time = measure_mean_time(darr, n_trials)\n",
    "    results[chunks] = avg_time\n",
    "    print(f'Średni czas dla chunków {chunks}: {avg_time:.4f} sekund')"
   ],
   "id": "75d33d0c64122112",
   "outputs": [],
   "execution_count": null
  },
  {
   "metadata": {},
   "cell_type": "markdown",
   "source": [
    "Średni czas dla chunków (500, 500): 2.7237 sekund  \n",
    "Średni czas dla chunków (1000, 1000): 1.1550 sekund  \n",
    "Średni czas dla chunków (2000, 2000): 0.8748 sekund  \n",
    "Średni czas dla chunków (5000, 5000): 0.2675 sekund  \n",
    "Średni czas dla chunków (500, 5000): 0.7797 sekund  \n",
    "Średni czas dla chunków auto: 0.4135 sekund  \n",
    "\n",
    "Im więcej chunków tym szybciej i udało się przebić domyślne ustawienia."
   ],
   "id": "35c3c815c788bf6b"
  },
  {
   "metadata": {
    "ExecuteTime": {
     "end_time": "2024-10-14T15:31:44.541275Z",
     "start_time": "2024-10-14T15:31:44.541275Z"
    }
   },
   "cell_type": "code",
   "source": "",
   "id": "99c650472466a937",
   "outputs": [],
   "execution_count": null
  }
 ],
 "metadata": {
  "kernelspec": {
   "display_name": "Python 3",
   "language": "python",
   "name": "python3"
  },
  "language_info": {
   "codemirror_mode": {
    "name": "ipython",
    "version": 2
   },
   "file_extension": ".py",
   "mimetype": "text/x-python",
   "name": "python",
   "nbconvert_exporter": "python",
   "pygments_lexer": "ipython2",
   "version": "2.7.6"
  }
 },
 "nbformat": 4,
 "nbformat_minor": 5
}
