{
 "cells": [
  {
   "metadata": {},
   "cell_type": "markdown",
   "source": [
    "**Zadanie 1**  \n",
    "Wczytaj pliki danych i scal je w jedną ramkę DataFrame.\n",
    "Wykonaj analizę typów danych podobnie jak w przykładach.\n",
    "Zmierz wielkość pamięci RAM ramki z domyślnymi typami danych."
   ],
   "id": "7bc80b8c44230a75"
  },
  {
   "cell_type": "code",
   "id": "initial_id",
   "metadata": {
    "collapsed": true,
    "ExecuteTime": {
     "end_time": "2024-10-03T17:04:30.312625Z",
     "start_time": "2024-10-03T17:04:01.880868Z"
    }
   },
   "source": [
    "from datetime import datetime\n",
    "import numpy as np\n",
    "import pandas as pd\n",
    "import glob\n",
    "\n",
    "path = '../data/Lab01/*.parquet'\n",
    "files = glob.glob(path)\n",
    "\n",
    "df = pd.concat([pd.read_parquet(file) for file in files], ignore_index=True)\n",
    "display(df.head())\n",
    "df.info()"
   ],
   "outputs": [
    {
     "data": {
      "text/plain": [
       "        sid  sid_profile      post_id  profile_id                 date  \\\n",
       "0  28370919      3496776  BXdjjUlgcgq  2237947779  2017-08-06 20:06:57   \n",
       "1  13623950      3496776  BeyPed5hKj9  2237947779  2018-02-04 19:35:20   \n",
       "2  28370905      3496776  Bunhd1DFVAG  2237947779  2019-03-05 08:03:11   \n",
       "3  28370907      3496776  Bppi85gliQK  2237947779  2018-11-01 20:17:41   \n",
       "4  32170690      3496776  BuDfIyslzfw  2237947779  2019-02-19 08:10:11   \n",
       "\n",
       "   post_type                                        description  likes  \\\n",
       "0          2  Wreckloose! Deevalley bike park laps on the @i...     80   \n",
       "1          1  The dirty south was prime today. Top day with ...     86   \n",
       "2          1  Tech Tuesday. Been flat out on the tools. Got ...    168   \n",
       "3          1  On the tools, my favourite wheel builds @stans...    102   \n",
       "4          1  Solid effort on the bar turn.\\nFully turned.\\n...    145   \n",
       "\n",
       "   comments   username                                                bio  \\\n",
       "0         0  andylund_  Professional Bicycle technician, Intense Racin...   \n",
       "1         2  andylund_  Professional Bicycle technician, Intense Racin...   \n",
       "2         3  andylund_  Professional Bicycle technician, Intense Racin...   \n",
       "3         2  andylund_  Professional Bicycle technician, Intense Racin...   \n",
       "4         2  andylund_  Professional Bicycle technician, Intense Racin...   \n",
       "\n",
       "   following  followers  num_posts  is_business_account lang  \\\n",
       "0        520       1204        494                False   en   \n",
       "1        520       1204        494                False   en   \n",
       "2        520       1204        494                False   en   \n",
       "3        520       1204        494                False   en   \n",
       "4        520       1204        494                False   en   \n",
       "\n",
       "               category  \n",
       "0    travel_&_adventure  \n",
       "1  diaries_&_daily_life  \n",
       "2  science_&_technology  \n",
       "3  diaries_&_daily_life  \n",
       "4  diaries_&_daily_life  "
      ],
      "text/html": [
       "<div>\n",
       "<style scoped>\n",
       "    .dataframe tbody tr th:only-of-type {\n",
       "        vertical-align: middle;\n",
       "    }\n",
       "\n",
       "    .dataframe tbody tr th {\n",
       "        vertical-align: top;\n",
       "    }\n",
       "\n",
       "    .dataframe thead th {\n",
       "        text-align: right;\n",
       "    }\n",
       "</style>\n",
       "<table border=\"1\" class=\"dataframe\">\n",
       "  <thead>\n",
       "    <tr style=\"text-align: right;\">\n",
       "      <th></th>\n",
       "      <th>sid</th>\n",
       "      <th>sid_profile</th>\n",
       "      <th>post_id</th>\n",
       "      <th>profile_id</th>\n",
       "      <th>date</th>\n",
       "      <th>post_type</th>\n",
       "      <th>description</th>\n",
       "      <th>likes</th>\n",
       "      <th>comments</th>\n",
       "      <th>username</th>\n",
       "      <th>bio</th>\n",
       "      <th>following</th>\n",
       "      <th>followers</th>\n",
       "      <th>num_posts</th>\n",
       "      <th>is_business_account</th>\n",
       "      <th>lang</th>\n",
       "      <th>category</th>\n",
       "    </tr>\n",
       "  </thead>\n",
       "  <tbody>\n",
       "    <tr>\n",
       "      <th>0</th>\n",
       "      <td>28370919</td>\n",
       "      <td>3496776</td>\n",
       "      <td>BXdjjUlgcgq</td>\n",
       "      <td>2237947779</td>\n",
       "      <td>2017-08-06 20:06:57</td>\n",
       "      <td>2</td>\n",
       "      <td>Wreckloose! Deevalley bike park laps on the @i...</td>\n",
       "      <td>80</td>\n",
       "      <td>0</td>\n",
       "      <td>andylund_</td>\n",
       "      <td>Professional Bicycle technician, Intense Racin...</td>\n",
       "      <td>520</td>\n",
       "      <td>1204</td>\n",
       "      <td>494</td>\n",
       "      <td>False</td>\n",
       "      <td>en</td>\n",
       "      <td>travel_&amp;_adventure</td>\n",
       "    </tr>\n",
       "    <tr>\n",
       "      <th>1</th>\n",
       "      <td>13623950</td>\n",
       "      <td>3496776</td>\n",
       "      <td>BeyPed5hKj9</td>\n",
       "      <td>2237947779</td>\n",
       "      <td>2018-02-04 19:35:20</td>\n",
       "      <td>1</td>\n",
       "      <td>The dirty south was prime today. Top day with ...</td>\n",
       "      <td>86</td>\n",
       "      <td>2</td>\n",
       "      <td>andylund_</td>\n",
       "      <td>Professional Bicycle technician, Intense Racin...</td>\n",
       "      <td>520</td>\n",
       "      <td>1204</td>\n",
       "      <td>494</td>\n",
       "      <td>False</td>\n",
       "      <td>en</td>\n",
       "      <td>diaries_&amp;_daily_life</td>\n",
       "    </tr>\n",
       "    <tr>\n",
       "      <th>2</th>\n",
       "      <td>28370905</td>\n",
       "      <td>3496776</td>\n",
       "      <td>Bunhd1DFVAG</td>\n",
       "      <td>2237947779</td>\n",
       "      <td>2019-03-05 08:03:11</td>\n",
       "      <td>1</td>\n",
       "      <td>Tech Tuesday. Been flat out on the tools. Got ...</td>\n",
       "      <td>168</td>\n",
       "      <td>3</td>\n",
       "      <td>andylund_</td>\n",
       "      <td>Professional Bicycle technician, Intense Racin...</td>\n",
       "      <td>520</td>\n",
       "      <td>1204</td>\n",
       "      <td>494</td>\n",
       "      <td>False</td>\n",
       "      <td>en</td>\n",
       "      <td>science_&amp;_technology</td>\n",
       "    </tr>\n",
       "    <tr>\n",
       "      <th>3</th>\n",
       "      <td>28370907</td>\n",
       "      <td>3496776</td>\n",
       "      <td>Bppi85gliQK</td>\n",
       "      <td>2237947779</td>\n",
       "      <td>2018-11-01 20:17:41</td>\n",
       "      <td>1</td>\n",
       "      <td>On the tools, my favourite wheel builds @stans...</td>\n",
       "      <td>102</td>\n",
       "      <td>2</td>\n",
       "      <td>andylund_</td>\n",
       "      <td>Professional Bicycle technician, Intense Racin...</td>\n",
       "      <td>520</td>\n",
       "      <td>1204</td>\n",
       "      <td>494</td>\n",
       "      <td>False</td>\n",
       "      <td>en</td>\n",
       "      <td>diaries_&amp;_daily_life</td>\n",
       "    </tr>\n",
       "    <tr>\n",
       "      <th>4</th>\n",
       "      <td>32170690</td>\n",
       "      <td>3496776</td>\n",
       "      <td>BuDfIyslzfw</td>\n",
       "      <td>2237947779</td>\n",
       "      <td>2019-02-19 08:10:11</td>\n",
       "      <td>1</td>\n",
       "      <td>Solid effort on the bar turn.\\nFully turned.\\n...</td>\n",
       "      <td>145</td>\n",
       "      <td>2</td>\n",
       "      <td>andylund_</td>\n",
       "      <td>Professional Bicycle technician, Intense Racin...</td>\n",
       "      <td>520</td>\n",
       "      <td>1204</td>\n",
       "      <td>494</td>\n",
       "      <td>False</td>\n",
       "      <td>en</td>\n",
       "      <td>diaries_&amp;_daily_life</td>\n",
       "    </tr>\n",
       "  </tbody>\n",
       "</table>\n",
       "</div>"
      ]
     },
     "metadata": {},
     "output_type": "display_data"
    },
    {
     "name": "stdout",
     "output_type": "stream",
     "text": [
      "<class 'pandas.core.frame.DataFrame'>\n",
      "RangeIndex: 17210370 entries, 0 to 17210369\n",
      "Data columns (total 17 columns):\n",
      " #   Column               Dtype \n",
      "---  ------               ----- \n",
      " 0   sid                  int64 \n",
      " 1   sid_profile          int64 \n",
      " 2   post_id              object\n",
      " 3   profile_id           int64 \n",
      " 4   date                 object\n",
      " 5   post_type            int64 \n",
      " 6   description          object\n",
      " 7   likes                int64 \n",
      " 8   comments             int64 \n",
      " 9   username             object\n",
      " 10  bio                  object\n",
      " 11  following            int64 \n",
      " 12  followers            int64 \n",
      " 13  num_posts            int64 \n",
      " 14  is_business_account  bool  \n",
      " 15  lang                 object\n",
      " 16  category             object\n",
      "dtypes: bool(1), int64(9), object(7)\n",
      "memory usage: 2.1+ GB\n"
     ]
    }
   ],
   "execution_count": 1
  },
  {
   "metadata": {
    "ExecuteTime": {
     "end_time": "2024-10-03T17:04:30.317726Z",
     "start_time": "2024-10-03T17:04:30.313622Z"
    }
   },
   "cell_type": "code",
   "source": [
    "def sizeof_fmt(num, suffix=\"B\"):\n",
    "    for unit in (\"\", \"Ki\", \"Mi\", \"Gi\", \"Ti\", \"Pi\", \"Ei\", \"Zi\"):\n",
    "        if abs(num) < 1024.0:\n",
    "            return f\"{num:3.1f}{unit}{suffix}\"\n",
    "        num /= 1024.0\n",
    "    return f\"{num:.1f}Yi{suffix}\""
   ],
   "id": "5f24e515231358e",
   "outputs": [],
   "execution_count": 2
  },
  {
   "metadata": {
    "ExecuteTime": {
     "end_time": "2024-10-03T17:04:40.799267Z",
     "start_time": "2024-10-03T17:04:30.318724Z"
    }
   },
   "cell_type": "code",
   "source": "sizeof_fmt(sum(df.memory_usage(deep=True)))",
   "id": "74b8f547ff7d942c",
   "outputs": [
    {
     "data": {
      "text/plain": [
       "'18.5GiB'"
      ]
     },
     "execution_count": 3,
     "metadata": {},
     "output_type": "execute_result"
    }
   ],
   "execution_count": 3
  },
  {
   "metadata": {
    "ExecuteTime": {
     "end_time": "2024-10-03T17:04:51.129183Z",
     "start_time": "2024-10-03T17:04:40.800265Z"
    }
   },
   "cell_type": "code",
   "source": [
    "for column in df.columns:\n",
    "    print(f'{column}: {sizeof_fmt(df[column].memory_usage(deep=True))}')"
   ],
   "id": "c492a9f9e1f64df3",
   "outputs": [
    {
     "name": "stdout",
     "output_type": "stream",
     "text": [
      "sid: 131.3MiB\n",
      "sid_profile: 131.3MiB\n",
      "post_id: 984.6MiB\n",
      "profile_id: 131.3MiB\n",
      "date: 1.1GiB\n",
      "post_type: 131.3MiB\n",
      "description: 8.3GiB\n",
      "likes: 131.3MiB\n",
      "comments: 131.3MiB\n",
      "username: 1015.0MiB\n",
      "bio: 4.1GiB\n",
      "following: 131.3MiB\n",
      "followers: 131.3MiB\n",
      "num_posts: 131.3MiB\n",
      "is_business_account: 16.4MiB\n",
      "lang: 837.1MiB\n",
      "category: 1.1GiB\n"
     ]
    }
   ],
   "execution_count": 4
  },
  {
   "metadata": {},
   "cell_type": "markdown",
   "source": [
    "**Zadanie 2**  \n",
    "Dobierz bardziej optymalne typy danych i ponownie zmierz wielkość zajmowanej pamięci RAM.\n",
    "Porównaj obie wielkości na wykresie (wybierz pasujący typ wykresu)."
   ],
   "id": "205de77d8c368858"
  },
  {
   "metadata": {
    "ExecuteTime": {
     "end_time": "2024-10-03T17:04:51.133136Z",
     "start_time": "2024-10-03T17:04:51.130273Z"
    }
   },
   "cell_type": "code",
   "source": "pd.options.display.float_format = '{:.5f}'.format",
   "id": "374cc28e8a1072fe",
   "outputs": [],
   "execution_count": 5
  },
  {
   "metadata": {
    "ExecuteTime": {
     "end_time": "2024-10-03T17:04:51.147261Z",
     "start_time": "2024-10-03T17:04:51.133136Z"
    }
   },
   "cell_type": "code",
   "source": "df2 = pd.DataFrame()",
   "id": "9188915d655ce026",
   "outputs": [],
   "execution_count": 6
  },
  {
   "metadata": {
    "ExecuteTime": {
     "end_time": "2024-10-03T17:04:59.501600Z",
     "start_time": "2024-10-03T17:04:51.148302Z"
    }
   },
   "cell_type": "code",
   "source": [
    "df2['sid'] = df['sid'].astype(np.int32)\n",
    "df2['sid_profile'] = df['sid_profile'].astype(np.int32)\n",
    "df2['post_id'] = df['post_id']\n",
    "df2['profile_id'] = df['profile_id']\n",
    "df2['date'] = pd.to_datetime(df['date'])\n",
    "df2['post_type'] = df['post_type'].astype('category')\n",
    "df2['description'] = df['description']\n",
    "df2['likes'] = df['likes'].astype(np.int32)\n",
    "df2['comments'] = df['comments'].astype(np.int32)\n",
    "df2['username'] = df['username']\n",
    "df2['bio'] = df['bio']\n",
    "df2['following'] = df['following'].astype(np.int32)\n",
    "df2['followers'] = df['followers'].astype(np.int32)\n",
    "df2['num_posts'] = df['num_posts'].astype(np.int32)\n",
    "df2['is_business_account'] = df['is_business_account']\n",
    "df2['lang'] = df['lang'].astype('category')\n",
    "df2['category'] = df['category'].astype('category')"
   ],
   "id": "48b7c63f9e33cdf7",
   "outputs": [],
   "execution_count": 7
  },
  {
   "metadata": {
    "ExecuteTime": {
     "end_time": "2024-10-03T17:05:06.064956Z",
     "start_time": "2024-10-03T17:04:59.502692Z"
    }
   },
   "cell_type": "code",
   "source": "sizeof_fmt(sum(df2.memory_usage(deep=True)))",
   "id": "72a7804b4ce8ca61",
   "outputs": [
    {
     "data": {
      "text/plain": [
       "'15.1GiB'"
      ]
     },
     "execution_count": 8,
     "metadata": {},
     "output_type": "execute_result"
    }
   ],
   "execution_count": 8
  },
  {
   "metadata": {
    "ExecuteTime": {
     "end_time": "2024-10-03T17:05:23.491952Z",
     "start_time": "2024-10-03T17:05:06.066026Z"
    }
   },
   "cell_type": "code",
   "source": [
    "import matplotlib.pyplot as plt\n",
    "\n",
    "df_memory = df.memory_usage(deep=True)\n",
    "df2_memory = df2.memory_usage(deep=True)\n",
    "\n",
    "memory_comparison = pd.DataFrame({\n",
    "    'df': df_memory,\n",
    "    'df2': df2_memory\n",
    "})\n",
    "\n",
    "optimized_columns = [\n",
    "    'sid', 'sid_profile', 'date', 'post_type',\n",
    "    'likes', 'comments', 'following', \n",
    "    'followers', 'num_posts', 'lang', 'category'\n",
    "]\n",
    "\n",
    "memory_comparison_filtered = memory_comparison.loc[optimized_columns]\n",
    "\n",
    "\n",
    "memory_comparison_filtered.plot(kind='bar', figsize=(10, 6))\n",
    "plt.title('Memory Usage Comparison')\n",
    "plt.ylabel('Memory Usage (bytes)')\n",
    "plt.xlabel('Columns')\n",
    "plt.xticks(rotation=90)\n",
    "plt.show()"
   ],
   "id": "db103672f60b529f",
   "outputs": [
    {
     "data": {
      "text/plain": [
       "<Figure size 1000x600 with 1 Axes>"
      ],
      "image/png": "[encoded data removed]"
     },
     "metadata": {},
     "output_type": "display_data"
    }
   ],
   "execution_count": 9
  },
  {
   "metadata": {},
   "cell_type": "markdown",
   "source": [
    "**Zadanie 3**  \n",
    "Wykonaj 3 wybrane operacje (grupowanie + agregacja, filtrowanie, itp.) na całej ramce i zmierz czas wykonania na danych oryginalnych i zoptymalizowanych.\n",
    "Wyświetl te czasy."
   ],
   "id": "49ca7939b7661c54"
  },
  {
   "metadata": {},
   "cell_type": "markdown",
   "source": "",
   "id": "39cb25e8bb55fde9"
  },
  {
   "metadata": {
    "ExecuteTime": {
     "end_time": "2024-10-03T17:05:24.679450Z",
     "start_time": "2024-10-03T17:05:23.492950Z"
    }
   },
   "cell_type": "code",
   "source": [
    "start = datetime.now()\n",
    "display(df.groupby(['category']).agg({'likes': ['mean']}).filter(df[\"post_type\"] == 1))\n",
    "print(f'Czas: {datetime.now() - start}')"
   ],
   "id": "b7573d847630ce4f",
   "outputs": [
    {
     "data": {
      "text/plain": [
       "Empty DataFrame\n",
       "Columns: []\n",
       "Index: [arts_&_culture, business_&_entrepreneurs, celebrity_&_pop_culture, diaries_&_daily_life, family, fashion_&_style, film_tv_&_video, fitness_&_health, food_&_dining, gaming, learning_&_educational, music, news_&_social_concern, other_hobbies, relationships, science_&_technology, sports, travel_&_adventure, youth_&_student_life]"
      ],
      "text/html": [
       "<div>\n",
       "<style scoped>\n",
       "    .dataframe tbody tr th:only-of-type {\n",
       "        vertical-align: middle;\n",
       "    }\n",
       "\n",
       "    .dataframe tbody tr th {\n",
       "        vertical-align: top;\n",
       "    }\n",
       "\n",
       "    .dataframe thead tr th {\n",
       "        text-align: left;\n",
       "    }\n",
       "\n",
       "    .dataframe thead tr:last-of-type th {\n",
       "        text-align: right;\n",
       "    }\n",
       "</style>\n",
       "<table border=\"1\" class=\"dataframe\">\n",
       "  <thead>\n",
       "    <tr>\n",
       "      <th>category</th>\n",
       "    </tr>\n",
       "  </thead>\n",
       "  <tbody>\n",
       "    <tr>\n",
       "      <th>arts_&amp;_culture</th>\n",
       "    </tr>\n",
       "    <tr>\n",
       "      <th>business_&amp;_entrepreneurs</th>\n",
       "    </tr>\n",
       "    <tr>\n",
       "      <th>celebrity_&amp;_pop_culture</th>\n",
       "    </tr>\n",
       "    <tr>\n",
       "      <th>diaries_&amp;_daily_life</th>\n",
       "    </tr>\n",
       "    <tr>\n",
       "      <th>family</th>\n",
       "    </tr>\n",
       "    <tr>\n",
       "      <th>fashion_&amp;_style</th>\n",
       "    </tr>\n",
       "    <tr>\n",
       "      <th>film_tv_&amp;_video</th>\n",
       "    </tr>\n",
       "    <tr>\n",
       "      <th>fitness_&amp;_health</th>\n",
       "    </tr>\n",
       "    <tr>\n",
       "      <th>food_&amp;_dining</th>\n",
       "    </tr>\n",
       "    <tr>\n",
       "      <th>gaming</th>\n",
       "    </tr>\n",
       "    <tr>\n",
       "      <th>learning_&amp;_educational</th>\n",
       "    </tr>\n",
       "    <tr>\n",
       "      <th>music</th>\n",
       "    </tr>\n",
       "    <tr>\n",
       "      <th>news_&amp;_social_concern</th>\n",
       "    </tr>\n",
       "    <tr>\n",
       "      <th>other_hobbies</th>\n",
       "    </tr>\n",
       "    <tr>\n",
       "      <th>relationships</th>\n",
       "    </tr>\n",
       "    <tr>\n",
       "      <th>science_&amp;_technology</th>\n",
       "    </tr>\n",
       "    <tr>\n",
       "      <th>sports</th>\n",
       "    </tr>\n",
       "    <tr>\n",
       "      <th>travel_&amp;_adventure</th>\n",
       "    </tr>\n",
       "    <tr>\n",
       "      <th>youth_&amp;_student_life</th>\n",
       "    </tr>\n",
       "  </tbody>\n",
       "</table>\n",
       "</div>"
      ]
     },
     "metadata": {},
     "output_type": "display_data"
    },
    {
     "name": "stdout",
     "output_type": "stream",
     "text": [
      "Czas: 0:00:01.184084\n"
     ]
    }
   ],
   "execution_count": 10
  },
  {
   "metadata": {
    "ExecuteTime": {
     "end_time": "2024-10-03T17:05:25.285356Z",
     "start_time": "2024-10-03T17:05:24.680449Z"
    }
   },
   "cell_type": "code",
   "source": [
    "start = datetime.now()\n",
    "display(df2.groupby(['category']).agg({'likes': ['mean']}).filter(df[\"post_type\"] == 1))\n",
    "print(f'Czas: {datetime.now() - start}')"
   ],
   "id": "167b39c60880ffc1",
   "outputs": [
    {
     "name": "stderr",
     "output_type": "stream",
     "text": [
      "C:\\Users\\Arek\\AppData\\Local\\Temp\\ipykernel_1832\\2513735584.py:2: FutureWarning: The default of observed=False is deprecated and will be changed to True in a future version of pandas. Pass observed=False to retain current behavior or observed=True to adopt the future default and silence this warning.\n",
      "  display(df2.groupby(['category']).agg({'likes': ['mean']}).filter(df[\"post_type\"] == 1))\n"
     ]
    },
    {
     "data": {
      "text/plain": [
       "Empty DataFrame\n",
       "Columns: []\n",
       "Index: [arts_&_culture, business_&_entrepreneurs, celebrity_&_pop_culture, diaries_&_daily_life, family, fashion_&_style, film_tv_&_video, fitness_&_health, food_&_dining, gaming, learning_&_educational, music, news_&_social_concern, other_hobbies, relationships, science_&_technology, sports, travel_&_adventure, youth_&_student_life]"
      ],
      "text/html": [
       "<div>\n",
       "<style scoped>\n",
       "    .dataframe tbody tr th:only-of-type {\n",
       "        vertical-align: middle;\n",
       "    }\n",
       "\n",
       "    .dataframe tbody tr th {\n",
       "        vertical-align: top;\n",
       "    }\n",
       "\n",
       "    .dataframe thead tr th {\n",
       "        text-align: left;\n",
       "    }\n",
       "\n",
       "    .dataframe thead tr:last-of-type th {\n",
       "        text-align: right;\n",
       "    }\n",
       "</style>\n",
       "<table border=\"1\" class=\"dataframe\">\n",
       "  <thead>\n",
       "    <tr>\n",
       "      <th>category</th>\n",
       "    </tr>\n",
       "  </thead>\n",
       "  <tbody>\n",
       "    <tr>\n",
       "      <th>arts_&amp;_culture</th>\n",
       "    </tr>\n",
       "    <tr>\n",
       "      <th>business_&amp;_entrepreneurs</th>\n",
       "    </tr>\n",
       "    <tr>\n",
       "      <th>celebrity_&amp;_pop_culture</th>\n",
       "    </tr>\n",
       "    <tr>\n",
       "      <th>diaries_&amp;_daily_life</th>\n",
       "    </tr>\n",
       "    <tr>\n",
       "      <th>family</th>\n",
       "    </tr>\n",
       "    <tr>\n",
       "      <th>fashion_&amp;_style</th>\n",
       "    </tr>\n",
       "    <tr>\n",
       "      <th>film_tv_&amp;_video</th>\n",
       "    </tr>\n",
       "    <tr>\n",
       "      <th>fitness_&amp;_health</th>\n",
       "    </tr>\n",
       "    <tr>\n",
       "      <th>food_&amp;_dining</th>\n",
       "    </tr>\n",
       "    <tr>\n",
       "      <th>gaming</th>\n",
       "    </tr>\n",
       "    <tr>\n",
       "      <th>learning_&amp;_educational</th>\n",
       "    </tr>\n",
       "    <tr>\n",
       "      <th>music</th>\n",
       "    </tr>\n",
       "    <tr>\n",
       "      <th>news_&amp;_social_concern</th>\n",
       "    </tr>\n",
       "    <tr>\n",
       "      <th>other_hobbies</th>\n",
       "    </tr>\n",
       "    <tr>\n",
       "      <th>relationships</th>\n",
       "    </tr>\n",
       "    <tr>\n",
       "      <th>science_&amp;_technology</th>\n",
       "    </tr>\n",
       "    <tr>\n",
       "      <th>sports</th>\n",
       "    </tr>\n",
       "    <tr>\n",
       "      <th>travel_&amp;_adventure</th>\n",
       "    </tr>\n",
       "    <tr>\n",
       "      <th>youth_&amp;_student_life</th>\n",
       "    </tr>\n",
       "  </tbody>\n",
       "</table>\n",
       "</div>"
      ]
     },
     "metadata": {},
     "output_type": "display_data"
    },
    {
     "name": "stdout",
     "output_type": "stream",
     "text": [
      "Czas: 0:00:00.601988\n"
     ]
    }
   ],
   "execution_count": 11
  },
  {
   "metadata": {},
   "cell_type": "markdown",
   "source": [
    "**Zadanie 4**  \n",
    "Zapisz ramkę jako plik csv, z nagłówkami kolumn, bez indeksu.\n",
    "Sprawdź jaka jest różnica w wielkości pliku csv i sumy wielkości plików w formacie parquet (w eksploratorze, nie trzeba tego robić z poziomu kodu)."
   ],
   "id": "5bb98f6aa9a398ca"
  },
  {
   "metadata": {
    "ExecuteTime": {
     "end_time": "2024-10-03T17:07:03.653836Z",
     "start_time": "2024-10-03T17:05:25.285356Z"
    }
   },
   "cell_type": "code",
   "source": "df2.to_csv('data/private_instagram.csv', header=True, index=False)",
   "id": "dc1f5c9a43221b94",
   "outputs": [],
   "execution_count": 12
  },
  {
   "metadata": {},
   "cell_type": "markdown",
   "source": [
    "parquet razem: 2,48 GB\n",
    "csv: 6,05 GB"
   ],
   "id": "10f0066cbf92604e"
  },
  {
   "metadata": {},
   "cell_type": "markdown",
   "source": [
    "**Zadanie 5**  \n",
    "Zmierz czas wczytywania danych z pliku csv dla 3 przypadków:\n",
    "* cały plik na raz,\n",
    "* cały plik ze wskazaniem parametru `chunksize` (możesz poeksperymentować z wielkością tego parametru),\n",
    "* z użyciem multiprocessingu zaprezentowanego w przykładzie (wcześniej podziel plik na kilka mniejszych), wskazując ilość procesów jako `ilość_rdzeni - 2` oraz drugi przypadek `(ilosc_rdzeni - 2) * 2`."
   ],
   "id": "2563a7435d4e3a78"
  },
  {
   "metadata": {
    "ExecuteTime": {
     "end_time": "2024-10-03T17:07:03.659073Z",
     "start_time": "2024-10-03T17:07:03.655839Z"
    }
   },
   "cell_type": "code",
   "source": [
    "def count_time(func):\n",
    "    def wrapper(*args, **kwargs):\n",
    "        start = datetime.now()\n",
    "        func(*args, **kwargs)\n",
    "        print(f\"Czas wczytywania {func.__name__}: {datetime.now() - start} sekund\")\n",
    "        return func(*args, **kwargs)\n",
    "    return wrapper"
   ],
   "id": "6d42e77c436ee58b",
   "outputs": [],
   "execution_count": 13
  },
  {
   "metadata": {
    "ExecuteTime": {
     "end_time": "2024-10-03T17:07:03.676897Z",
     "start_time": "2024-10-03T17:07:03.660573Z"
    }
   },
   "cell_type": "code",
   "source": [
    "from itertools import repeat\n",
    "from multiprocessing import Pool\n",
    "import os\n",
    "\n",
    "def apply_args_and_kwargs(func, args, kwargs):\n",
    "    return func(*args, **kwargs)\n",
    "\n",
    "\n",
    "def starmap_with_kwargs(pool, func, args_iter, kwargs_iter):\n",
    "    args_for_starmap = zip(repeat(func), args_iter, kwargs_iter)\n",
    "    return pool.starmap(apply_args_and_kwargs, args_for_starmap)\n",
    "\n",
    "@count_time\n",
    "def load_files(directory, processes):\n",
    "\n",
    "    files = [[f\"{directory}/{f}\"] for f in os.listdir(directory) if f.endswith(\".csv\")]\n",
    "\n",
    "    kwargs_list = [\n",
    "        {\n",
    "            'on_bad_lines': \"skip\",\n",
    "        }\n",
    "        for n in range(len(files))\n",
    "    ]\n",
    "\n",
    "    pool = Pool(processes=processes)\n",
    "    args_iter = files\n",
    "\n",
    "    results = starmap_with_kwargs(pool, pd.read_csv, args_iter, kwargs_list)\n",
    "    results = pd.concat(results)\n",
    "\n",
    "    return results"
   ],
   "id": "b22eb10fca70be2e",
   "outputs": [],
   "execution_count": 14
  },
  {
   "metadata": {
    "ExecuteTime": {
     "end_time": "2024-10-03T17:07:17.353184Z",
     "start_time": "2024-10-03T17:07:03.677896Z"
    }
   },
   "cell_type": "code",
   "source": [
    "start = datetime.now()\n",
    "df = pd.read_csv('data/zamowienia_expanded.csv', header=0)\n",
    "print(f'Czas: {datetime.now() - start}')"
   ],
   "id": "a604c790fe0b331b",
   "outputs": [
    {
     "name": "stdout",
     "output_type": "stream",
     "text": [
      "Czas: 0:00:13.671280\n"
     ]
    }
   ],
   "execution_count": 15
  },
  {
   "metadata": {
    "ExecuteTime": {
     "end_time": "2024-10-03T17:07:20.299744Z",
     "start_time": "2024-10-03T17:07:17.354182Z"
    }
   },
   "cell_type": "code",
   "source": [
    "start = datetime.now()\n",
    "df2 = pd.read_csv('data/zamowienia_expanded.csv', header=0, chunksize=4_000_000)\n",
    "print(f'Czas: {datetime.now() - start}')"
   ],
   "id": "363f264ec302874a",
   "outputs": [
    {
     "name": "stdout",
     "output_type": "stream",
     "text": [
      "Czas: 0:00:02.941575\n"
     ]
    }
   ],
   "execution_count": 16
  },
  {
   "metadata": {
    "jupyter": {
     "is_executing": true
    },
    "ExecuteTime": {
     "start_time": "2024-10-03T17:07:20.300741Z"
    }
   },
   "cell_type": "code",
   "source": "df3 = load_files('data/private_instagram_split', 12)",
   "id": "4bc94bf58d7c11ba",
   "outputs": [],
   "execution_count": null
  },
  {
   "metadata": {
    "jupyter": {
     "is_executing": true
    }
   },
   "cell_type": "code",
   "source": "df4 = load_files('data/private_instagram_split', 24)",
   "id": "29b20bfa3625fc61",
   "outputs": [],
   "execution_count": null
  }
 ],
 "metadata": {
  "kernelspec": {
   "display_name": "Python 3",
   "language": "python",
   "name": "python3"
  },
  "language_info": {
   "codemirror_mode": {
    "name": "ipython",
    "version": 2
   },
   "file_extension": ".py",
   "mimetype": "text/x-python",
   "name": "python",
   "nbconvert_exporter": "python",
   "pygments_lexer": "ipython2",
   "version": "2.7.6"
  }
 },
 "nbformat": 4,
 "nbformat_minor": 5
}
