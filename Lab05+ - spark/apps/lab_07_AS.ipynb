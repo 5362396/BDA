{
 "cells": [
  {
   "cell_type": "code",
   "execution_count": 1,
   "id": "initial_id",
   "metadata": {
    "ExecuteTime": {
     "end_time": "2024-11-27T10:38:43.608772Z",
     "start_time": "2024-11-27T10:38:43.600824Z"
    }
   },
   "outputs": [],
   "source": [
    "import os\n",
    "\n",
    "\n",
    "os.environ['SPARK_NAME'] = \"/opt/spark\"\n",
    "os.environ['PYSPARK_DRIVER_PYTHON_OPTS'] = 'lab'\n",
    "os.environ['PYSPARK_DRIVER_PYTHON'] = '/opt/spark/work-dir/venv/bin/python3'\n",
    "os.environ['PYSPARK_PYTHON'] = '/opt/spark/work-dir/venv/bin/python3'"
   ]
  },
  {
   "cell_type": "code",
   "execution_count": 2,
   "id": "37f572aa17070607",
   "metadata": {
    "ExecuteTime": {
     "end_time": "2024-11-27T10:38:51.465079Z",
     "start_time": "2024-11-27T10:38:43.608772Z"
    }
   },
   "outputs": [
    {
     "name": "stderr",
     "output_type": "stream",
     "text": [
      "Setting default log level to \"WARN\".\n",
      "To adjust logging level use sc.setLogLevel(newLevel). For SparkR, use setLogLevel(newLevel).\n",
      "24/12/01 15:26:32 WARN NativeCodeLoader: Unable to load native-hadoop library for your platform... using builtin-java classes where applicable\n"
     ]
    },
    {
     "data": {
      "text/html": [
       "\n",
       "        <div>\n",
       "            <p><b>SparkContext</b></p>\n",
       "\n",
       "            <p><a href=\"http://d4148761b83f:4040\">Spark UI</a></p>\n",
       "\n",
       "            <dl>\n",
       "              <dt>Version</dt>\n",
       "                <dd><code>v3.5.3</code></dd>\n",
       "              <dt>Master</dt>\n",
       "                <dd><code>local[2]</code></dd>\n",
       "              <dt>AppName</dt>\n",
       "                <dd><code>Create-DataFrame</code></dd>\n",
       "            </dl>\n",
       "        </div>\n",
       "        "
      ],
      "text/plain": [
       "<SparkContext master=local[2] appName=Create-DataFrame>"
      ]
     },
     "execution_count": 2,
     "metadata": {},
     "output_type": "execute_result"
    }
   ],
   "source": [
    "from pyspark.sql import SparkSession\n",
    "\n",
    "\n",
    "spark = SparkSession\\\n",
    "        .builder\\\n",
    "        .master(\"local[2]\")\\\n",
    "        .appName(\"Create-DataFrame\")\\\n",
    "        .config(\"spark.memory.offHeap.enabled\",\"true\")\\\n",
    "        .config(\"spark.memory.offHeap.size\",\"4g\")\\\n",
    "        .getOrCreate()\n",
    "spark.sparkContext"
   ]
  },
  {
   "cell_type": "markdown",
   "id": "3247575bc18e6b7",
   "metadata": {},
   "source": [
    "**Zadanie 1**  \n",
    "Pamiętacie plik zamówienia.txt ?\n",
    "Plik został umieszczony w folderze z labem w repozytorium.\n",
    "\n",
    "Wczytaj ten plik za pomocą Sparka do dowolnego typu danych (RDD, Spark DataFrame) i dokonaj transformacji tak aby:\n",
    "* naprawić problemy z kodowaniem znaków (replace?) w kolumnie Sprzedawca\n",
    "* poprawić format danych w kolumnie Utarg\n",
    "* dodać odpowiednie typy danych\n",
    "* kolumna idZamowienia powinna być traktowana jako klucz (indeks)"
   ]
  },
  {
   "cell_type": "code",
   "execution_count": 3,
   "id": "774d7fbd0c0eda9",
   "metadata": {
    "ExecuteTime": {
     "end_time": "2024-11-27T10:38:56.027068Z",
     "start_time": "2024-11-27T10:38:51.465942Z"
    }
   },
   "outputs": [
    {
     "name": "stderr",
     "output_type": "stream",
     "text": [
      "                                                                                "
     ]
    },
    {
     "name": "stdout",
     "output_type": "stream",
     "text": [
      "root\n",
      " |-- Kraj: string (nullable = true)\n",
      " |-- Sprzedawca: string (nullable = true)\n",
      " |-- Data zamowienia: string (nullable = true)\n",
      " |-- idZamowienia: string (nullable = true)\n",
      " |-- Utarg: string (nullable = true)\n",
      "\n"
     ]
    }
   ],
   "source": [
    "sc = spark.sparkContext\n",
    "df = spark.read.csv('./data/zamowienia.txt', header=True, sep=';', encoding='UTF-8')\n",
    "df.printSchema()"
   ]
  },
  {
   "cell_type": "code",
   "execution_count": 4,
   "id": "21158ee93839c5c5",
   "metadata": {
    "ExecuteTime": {
     "end_time": "2024-11-27T10:38:56.065532Z",
     "start_time": "2024-11-27T10:38:56.027068Z"
    }
   },
   "outputs": [],
   "source": [
    "from pyspark.sql.functions import col, regexp_replace, to_date\n",
    "from pyspark.sql.types import IntegerType, DoubleType\n",
    "\n",
    "df = df.withColumn(\"Sprzedawca\", regexp_replace(col(\"Sprzedawca\"), \"[^\\\\w\\\\s]\", \"\"))\n",
    "\n",
    "df = df.withColumn(\"Utarg\", regexp_replace(col(\"Utarg\"), \"[^0-9,]\", \"\"))\n",
    "df = df.withColumn(\"Utarg\", regexp_replace(col(\"Utarg\"), \",\", \".\"))\n",
    "\n",
    "df = df.withColumn(\"idZamowienia\", col(\"idZamowienia\").cast(IntegerType()))\n",
    "df = df.withColumn(\"Data zamowienia\", to_date(col(\"Data zamowienia\"), \"dd.MM.yyyy\"))\n",
    "df = df.withColumn(\"Utarg\", col(\"Utarg\").cast(DoubleType()))"
   ]
  },
  {
   "cell_type": "code",
   "execution_count": 5,
   "id": "83e20afaf38a098d",
   "metadata": {
    "ExecuteTime": {
     "end_time": "2024-11-27T10:38:56.669758Z",
     "start_time": "2024-11-27T10:38:56.065532Z"
    }
   },
   "outputs": [
    {
     "data": {
      "text/plain": [
       "[Table(name='ORDERS_DATA', catalog=None, namespace=[], description=None, tableType='TEMPORARY', isTemporary=True)]"
      ]
     },
     "execution_count": 5,
     "metadata": {},
     "output_type": "execute_result"
    }
   ],
   "source": [
    "df.createOrReplaceTempView(\"ORDERS_DATA\")\n",
    "spark.catalog.listTables()"
   ]
  },
  {
   "cell_type": "code",
   "execution_count": 6,
   "id": "a5a0d3c356e0f5d8",
   "metadata": {},
   "outputs": [
    {
     "name": "stdout",
     "output_type": "stream",
     "text": [
      "root\n",
      " |-- Kraj: string (nullable = true)\n",
      " |-- Sprzedawca: string (nullable = true)\n",
      " |-- Data zamowienia: date (nullable = true)\n",
      " |-- idZamowienia: integer (nullable = true)\n",
      " |-- Utarg: double (nullable = true)\n",
      "\n"
     ]
    }
   ],
   "source": [
    "df.printSchema()"
   ]
  },
  {
   "cell_type": "code",
   "execution_count": 7,
   "id": "e1726a82-704e-4998-b963-dd27cc9c1a5e",
   "metadata": {
    "ExecuteTime": {
     "end_time": "2024-11-27T10:38:56.669758Z",
     "start_time": "2024-11-27T10:38:56.669758Z"
    }
   },
   "outputs": [
    {
     "name": "stdout",
     "output_type": "stream",
     "text": [
      "+------+----------+---------------+------------+------+\n",
      "|  Kraj|Sprzedawca|Data zamowienia|idZamowienia| Utarg|\n",
      "+------+----------+---------------+------------+------+\n",
      "|Polska|  Kowalski|     2003-07-16|       10248| 440.0|\n",
      "|Polska|   Sowiski|     2003-07-10|       10249|1863.4|\n",
      "|Niemcy|   Peacock|     2003-07-12|       10250|1552.6|\n",
      "|Niemcy| Leverling|     2003-07-15|       10251|654.06|\n",
      "|Niemcy|   Peacock|     2003-07-11|       10252|3597.9|\n",
      "|Niemcy| Leverling|     2003-07-16|       10253|1444.8|\n",
      "|Polska|  Kowalski|     2003-07-23|       10254|556.62|\n",
      "|Polska|     Dudek|     2003-07-15|       10255|2490.5|\n",
      "|Niemcy| Leverling|     2003-07-17|       10256| 517.8|\n",
      "|Niemcy|   Peacock|     2003-07-22|       10257|1119.9|\n",
      "+------+----------+---------------+------------+------+\n",
      "\n"
     ]
    }
   ],
   "source": [
    "spark.sql(\"Select * from ORDERS_DATA limit 10\").show()"
   ]
  },
  {
   "cell_type": "markdown",
   "id": "ba1a294997216ba3",
   "metadata": {},
   "source": [
    "**Zadanie 2**  \n",
    "Po wykonaniu zadania 1, wykorzystaj przykłady z laboratorium i:\n",
    "* 2.1 wykonaj wiaderkowanie danych i wykonaj dowolne zapytanie agregujące na tych danych vs. dane nie podzielone na wiaderka - porównaj czas"
   ]
  },
  {
   "cell_type": "code",
   "execution_count": 8,
   "id": "d10a3a26b73f0704",
   "metadata": {},
   "outputs": [],
   "source": [
    "from pyspark.ml.feature import Bucketizer\n",
    "from pyspark.sql.functions import avg\n",
    "\n",
    "utarg_splits = [0, 500, 1000, 2000, 5000, float(\"inf\")]\n",
    "\n",
    "bucketizer = Bucketizer(\n",
    "    splits=utarg_splits,\n",
    "    inputCol=\"Utarg\",\n",
    "    outputCol=\"Utarg_Bucket\"\n",
    ")\n",
    "\n",
    "bucketed_df = bucketizer.transform(df)"
   ]
  },
  {
   "cell_type": "code",
   "execution_count": 9,
   "id": "d85bc21337866919",
   "metadata": {},
   "outputs": [
    {
     "name": "stderr",
     "output_type": "stream",
     "text": [
      "[Stage 4:>                                                          (0 + 1) / 1]"
     ]
    },
    {
     "name": "stdout",
     "output_type": "stream",
     "text": [
      "+------------+------------------+\n",
      "|Utarg_Bucket|     Average_Utarg|\n",
      "+------------+------------------+\n",
      "|         0.0| 266.4040454545455|\n",
      "|         1.0| 730.6321808510637|\n",
      "|         4.0| 8745.641999999996|\n",
      "|         3.0| 3032.618066666667|\n",
      "|         2.0|1493.3539810426544|\n",
      "+------------+------------------+\n",
      "\n",
      "CPU times: user 13.6 ms, sys: 3.68 ms, total: 17.3 ms\n",
      "Wall time: 2.16 s\n"
     ]
    },
    {
     "name": "stderr",
     "output_type": "stream",
     "text": [
      "                                                                                "
     ]
    }
   ],
   "source": [
    "%%time\n",
    "result_bucketed = bucketed_df.groupBy(\"Utarg_Bucket\").agg(avg(\"Utarg\").alias(\"Average_Utarg\"))\n",
    "result_bucketed.show()"
   ]
  },
  {
   "cell_type": "code",
   "execution_count": 10,
   "id": "f19fc0da68e0872",
   "metadata": {},
   "outputs": [
    {
     "name": "stdout",
     "output_type": "stream",
     "text": [
      "+------------------+\n",
      "|     Average_Utarg|\n",
      "+------------------+\n",
      "|1537.3309136420523|\n",
      "+------------------+\n",
      "\n",
      "CPU times: user 0 ns, sys: 13.8 ms, total: 13.8 ms\n",
      "Wall time: 744 ms\n"
     ]
    }
   ],
   "source": [
    "%%time\n",
    "result_original = df.groupBy().agg(avg(\"Utarg\").alias(\"Average_Utarg\"))\n",
    "result_original.show()"
   ]
  },
  {
   "cell_type": "markdown",
   "id": "a8e4ce5409d6b7eb",
   "metadata": {},
   "source": [
    "* 2.2 wykonaj partycjonowanie danych i zapisz je w formcie csv (wypróbuj partycjonowanie wg. kraju, nazwiska)"
   ]
  },
  {
   "cell_type": "code",
   "execution_count": 11,
   "id": "ef46fe2b164f140",
   "metadata": {},
   "outputs": [
    {
     "name": "stderr",
     "output_type": "stream",
     "text": [
      "                                                                                "
     ]
    }
   ],
   "source": [
    "partitioned_path = \"data/partitioned_zamowienia\"\n",
    "df.write.partitionBy(\"Kraj\", \"Sprzedawca\").mode(\"overwrite\").csv(partitioned_path, header=True)"
   ]
  },
  {
   "cell_type": "markdown",
   "id": "47de8f5c13839e08",
   "metadata": {},
   "source": [
    "* 2.3 wykonaj zapytanie agregujące z filtrowaniem po kolumnie, której użyłeś/-aś do partycjonowania na danych oryginalnych oraz partycjonowanych i porównaj czas wykonania"
   ]
  },
  {
   "cell_type": "code",
   "execution_count": 12,
   "id": "cf5fe442bfd391c8",
   "metadata": {},
   "outputs": [
    {
     "name": "stdout",
     "output_type": "stream",
     "text": [
      "+------+-----------------+\n",
      "|  Kraj|    Average_Utarg|\n",
      "+------+-----------------+\n",
      "|Polska|1550.376325581395|\n",
      "+------+-----------------+\n",
      "\n",
      "CPU times: user 6.36 ms, sys: 9.75 ms, total: 16.1 ms\n",
      "Wall time: 889 ms\n"
     ]
    }
   ],
   "source": [
    "%%time\n",
    "result_original = df.filter(col(\"Kraj\") == \"Polska\").groupBy(\"Kraj\").agg(avg(\"Utarg\").alias(\"Average_Utarg\"))\n",
    "result_original.show()"
   ]
  },
  {
   "cell_type": "code",
   "execution_count": 13,
   "id": "cff67edf0561aac6",
   "metadata": {},
   "outputs": [
    {
     "name": "stderr",
     "output_type": "stream",
     "text": [
      "                                                                                "
     ]
    },
    {
     "name": "stdout",
     "output_type": "stream",
     "text": [
      "+------+------------------+\n",
      "|  Kraj|     Average_Utarg|\n",
      "+------+------------------+\n",
      "|Polska|1550.3763255813956|\n",
      "+------+------------------+\n",
      "\n",
      "CPU times: user 5.86 ms, sys: 12.7 ms, total: 18.5 ms\n",
      "Wall time: 3.85 s\n"
     ]
    }
   ],
   "source": [
    "%%time\n",
    "partitioned_df = spark.read.csv(partitioned_path, header=True, inferSchema=True)\n",
    "result_partitioned = partitioned_df.filter(col(\"Kraj\") == \"Polska\").groupBy(\"Kraj\").agg(avg(\"Utarg\").alias(\"Average_Utarg\"))\n",
    "result_partitioned.show()"
   ]
  },
  {
   "cell_type": "markdown",
   "id": "38e963005ec75626",
   "metadata": {},
   "source": [
    "**Zadanie 3**  \n",
    "Z danych wygeneruj 4 różne podzbiory próbek (wiersze wybrane losowo) i dodaj nową kolumnę w każdym z nich, np. w jednym stwórz kolumnę month wyciągając tylko miesiąc z daty, w drugim wartość netto zamówienia (przyjmując, że vat to 23%), w kolejnym zamień nazwisko na wielkie litery, w kolejnym dodaj kolumnę waluta z wartością PLN.\n",
    "\n",
    "Następnie zapisz każdy z tych zbiorów tak, że:\n",
    "* zbiór pierwszy to będzie tymczasowa tabela in-memory Sparka\n",
    "* zbiór drugi to plik(i) parquet\n",
    "* zbiór trzeci to plik(i) csv\n",
    "* zbiór czwarty to plik(i) json\n",
    "\n",
    "Wykonaj zapytanie złączające jak w przykładzie pobierając dane bezpośrednio z plików i wyświetl idZamowienia, Kraj, Sprzedawcę, Datę, Utarg oraz 4 nowo utworzone kolumny."
   ]
  },
  {
   "cell_type": "code",
   "execution_count": 14,
   "id": "f0b5bc4c11afe51b",
   "metadata": {},
   "outputs": [],
   "source": [
    "splits = df.sample(fraction=0.5, seed=19)"
   ]
  },
  {
   "cell_type": "code",
   "execution_count": 15,
   "id": "1d5217b837e979f4",
   "metadata": {},
   "outputs": [],
   "source": [
    "from pyspark.sql.functions import month, upper, lit, round\n",
    "\n",
    "subset1 = splits.withColumn(\"Month\", month(col(\"Data zamowienia\")))\n",
    "subset2 = splits.withColumn(\"Netto\", round(col(\"Utarg\") / 1.23, 2))\n",
    "subset3 = splits.withColumn(\"SprzedawcaUpper\", upper(col(\"Sprzedawca\")))\n",
    "subset4 = splits.withColumn(\"Waluta\", lit(\"PLN\"))"
   ]
  },
  {
   "cell_type": "code",
   "execution_count": 16,
   "id": "60347f23eee70fe5",
   "metadata": {},
   "outputs": [
    {
     "name": "stderr",
     "output_type": "stream",
     "text": [
      "                                                                                "
     ]
    }
   ],
   "source": [
    "subset1.createOrReplaceTempView(\"ZAMOWIENIA_SUBSET_1\")\n",
    "subset2.write.parquet(\"data/zamowienia_subset_2.parquet\", mode=\"overwrite\")\n",
    "subset3.write.csv(\"data/zamowienia_subset_3.csv\", header=True, mode=\"overwrite\")\n",
    "subset4.write.json(\"data/zamowienia_subset_4.json\", mode=\"overwrite\")"
   ]
  },
  {
   "cell_type": "code",
   "execution_count": 17,
   "id": "602689016b2cfea2",
   "metadata": {},
   "outputs": [
    {
     "name": "stdout",
     "output_type": "stream",
     "text": [
      "+------------+------+----------+---------------+------+-----+-------+---------+------+\n",
      "|idZamowienia|  Kraj|Sprzedawca|Data zamowienia| Utarg|Month|  Netto|      _c5|Waluta|\n",
      "+------------+------+----------+---------------+------+-----+-------+---------+------+\n",
      "|       10248|Polska|  Kowalski|     2003-07-16| 440.0|    7| 357.72| KOWALSKI|   PLN|\n",
      "|       10249|Polska|   Sowiski|     2003-07-10|1863.4|    7|1514.96|  SOWISKI|   PLN|\n",
      "|       10250|Niemcy|   Peacock|     2003-07-12|1552.6|    7|1262.28|  PEACOCK|   PLN|\n",
      "|       10251|Niemcy| Leverling|     2003-07-15|654.06|    7| 531.76|LEVERLING|   PLN|\n",
      "|       10253|Niemcy| Leverling|     2003-07-16|1444.8|    7|1174.63|LEVERLING|   PLN|\n",
      "|       10255|Polska|     Dudek|     2003-07-15|2490.5|    7| 2024.8|    DUDEK|   PLN|\n",
      "|       10257|Niemcy|   Peacock|     2003-07-22|1119.9|    7| 910.49|  PEACOCK|   PLN|\n",
      "|       10261|Niemcy|   Peacock|     2003-07-30| 448.0|    7| 364.23|  PEACOCK|   PLN|\n",
      "|       10262|Niemcy|  Callahan|     2003-07-25| 584.0|    7|  474.8| CALLAHAN|   PLN|\n",
      "|       10265|Niemcy|    Fuller|     2003-08-12|1176.0|    8|  956.1|   FULLER|   PLN|\n",
      "+------------+------+----------+---------------+------+-----+-------+---------+------+\n",
      "only showing top 10 rows\n",
      "\n"
     ]
    }
   ],
   "source": [
    "query = \"\"\"\n",
    "SELECT s1.idZamowienia, s1.Kraj, s1.Sprzedawca, s1.`Data zamowienia`, s1.Utarg, \n",
    "       s1.Month, s2.Netto, s3._c5, s4.Waluta\n",
    "FROM ZAMOWIENIA_SUBSET_1 s1\n",
    "JOIN parquet.`data/zamowienia_subset_2.parquet` s2 ON s1.idZamowienia = s2.idZamowienia\n",
    "JOIN csv.`data/zamowienia_subset_3.csv` s3 ON s1.idZamowienia = s3._c3\n",
    "JOIN json.`data/zamowienia_subset_4.json` s4 ON s1.idZamowienia = s4.idZamowienia\n",
    "\"\"\"\n",
    "\n",
    "df_from_json = spark.sql(query).show(10)"
   ]
  },
  {
   "cell_type": "code",
   "execution_count": null,
   "id": "b1fd8411-d5f1-40fe-9874-4c1db82e2616",
   "metadata": {},
   "outputs": [],
   "source": []
  }
 ],
 "metadata": {
  "kernelspec": {
   "display_name": "Python 3 (ipykernel)",
   "language": "python",
   "name": "python3"
  },
  "language_info": {
   "codemirror_mode": {
    "name": "ipython",
    "version": 3
   },
   "file_extension": ".py",
   "mimetype": "text/x-python",
   "name": "python",
   "nbconvert_exporter": "python",
   "pygments_lexer": "ipython3",
   "version": "3.10.12"
  }
 },
 "nbformat": 4,
 "nbformat_minor": 5
}
