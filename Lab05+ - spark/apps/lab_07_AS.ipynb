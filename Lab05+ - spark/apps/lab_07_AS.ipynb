{
 "cells": [
  {
   "cell_type": "code",
   "execution_count": 1,
   "id": "initial_id",
   "metadata": {
    "ExecuteTime": {
     "end_time": "2024-11-27T10:38:43.608772Z",
     "start_time": "2024-11-27T10:38:43.600824Z"
    }
   },
   "outputs": [],
   "source": [
    "import os\n",
    "\n",
    "\n",
    "os.environ['SPARK_NAME'] = \"/opt/spark\"\n",
    "os.environ['PYSPARK_DRIVER_PYTHON_OPTS'] = 'lab'\n",
    "os.environ['PYSPARK_DRIVER_PYTHON'] = '/opt/spark/work-dir/venv/bin/python3'\n",
    "os.environ['PYSPARK_PYTHON'] = '/opt/spark/work-dir/venv/bin/python3'"
   ]
  },
  {
   "cell_type": "code",
   "execution_count": 2,
   "id": "37f572aa17070607",
   "metadata": {
    "ExecuteTime": {
     "end_time": "2024-11-27T10:38:51.465079Z",
     "start_time": "2024-11-27T10:38:43.608772Z"
    }
   },
   "outputs": [
    {
     "name": "stderr",
     "output_type": "stream",
     "text": [
      "Setting default log level to \"WARN\".\n",
      "To adjust logging level use sc.setLogLevel(newLevel). For SparkR, use setLogLevel(newLevel).\n",
      "24/11/27 12:28:43 WARN NativeCodeLoader: Unable to load native-hadoop library for your platform... using builtin-java classes where applicable\n"
     ]
    },
    {
     "data": {
      "text/html": [
       "\n",
       "        <div>\n",
       "            <p><b>SparkContext</b></p>\n",
       "\n",
       "            <p><a href=\"http://4d01e3f0e32c:4040\">Spark UI</a></p>\n",
       "\n",
       "            <dl>\n",
       "              <dt>Version</dt>\n",
       "                <dd><code>v3.5.3</code></dd>\n",
       "              <dt>Master</dt>\n",
       "                <dd><code>local[2]</code></dd>\n",
       "              <dt>AppName</dt>\n",
       "                <dd><code>Create-DataFrame</code></dd>\n",
       "            </dl>\n",
       "        </div>\n",
       "        "
      ],
      "text/plain": [
       "<SparkContext master=local[2] appName=Create-DataFrame>"
      ]
     },
     "execution_count": 2,
     "metadata": {},
     "output_type": "execute_result"
    }
   ],
   "source": [
    "from pyspark.sql import SparkSession\n",
    "\n",
    "\n",
    "spark = SparkSession\\\n",
    "        .builder\\\n",
    "        .master(\"local[2]\")\\\n",
    "        .appName(\"Create-DataFrame\")\\\n",
    "        .config(\"spark.memory.offHeap.enabled\",\"true\")\\\n",
    "        .config(\"spark.memory.offHeap.size\",\"4g\")\\\n",
    "        .getOrCreate()\n",
    "spark.sparkContext"
   ]
  },
  {
   "cell_type": "markdown",
   "id": "3247575bc18e6b7",
   "metadata": {},
   "source": [
    "**Zadanie 1**  \n",
    "Pamiętacie plik zamówienia.txt ?\n",
    "Plik został umieszczony w folderze z labem w repozytorium.\n",
    "\n",
    "Wczytaj ten plik za pomocą Sparka do dowolnego typu danych (RDD, Spark DataFrame) i dokonaj transformacji tak aby:\n",
    "* naprawić problemy z kodowaniem znaków (replace?) w kolumnie Sprzedawca\n",
    "* poprawić format danych w kolumnie Utarg\n",
    "* dodać odpowiednie typy danych\n",
    "* kolumna idZamowienia powinna być traktowana jako klucz (indeks)"
   ]
  },
  {
   "cell_type": "code",
   "execution_count": 3,
   "id": "774d7fbd0c0eda9",
   "metadata": {
    "ExecuteTime": {
     "end_time": "2024-11-27T10:38:56.027068Z",
     "start_time": "2024-11-27T10:38:51.465942Z"
    }
   },
   "outputs": [
    {
     "name": "stdout",
     "output_type": "stream",
     "text": [
      "root\n",
      " |-- Kraj: string (nullable = true)\n",
      " |-- Sprzedawca: string (nullable = true)\n",
      " |-- Data zamowienia: string (nullable = true)\n",
      " |-- idZamowienia: string (nullable = true)\n",
      " |-- Utarg: string (nullable = true)\n",
      "\n"
     ]
    }
   ],
   "source": [
    "sc = spark.sparkContext\n",
    "df = spark.read.csv('./data/zamowienia.txt', header=True, sep=';', encoding='UTF-8')\n",
    "df.printSchema()"
   ]
  },
  {
   "cell_type": "code",
   "execution_count": 4,
   "id": "21158ee93839c5c5",
   "metadata": {
    "ExecuteTime": {
     "end_time": "2024-11-27T10:38:56.065532Z",
     "start_time": "2024-11-27T10:38:56.027068Z"
    }
   },
   "outputs": [],
   "source": [
    "from pyspark.sql.functions import col, regexp_replace, to_date\n",
    "from pyspark.sql.types import IntegerType, DoubleType\n",
    "\n",
    "df = df.withColumn(\"Sprzedawca\", regexp_replace(col(\"Sprzedawca\"), \"[^\\\\w\\\\s]\", \"\"))\n",
    "\n",
    "df = df.withColumn(\"Utarg\", regexp_replace(col(\"Utarg\"), \"[^0-9,]\", \"\"))\n",
    "df = df.withColumn(\"Utarg\", regexp_replace(col(\"Utarg\"), \",\", \".\"))\n",
    "\n",
    "df = df.withColumn(\"idZamowienia\", col(\"idZamowienia\").cast(IntegerType()))\n",
    "df = df.withColumn(\"Data zamowienia\", to_date(col(\"Data zamowienia\"), \"dd.MM.yyyy\"))\n",
    "df = df.withColumn(\"Utarg\", col(\"Utarg\").cast(DoubleType()))"
   ]
  },
  {
   "cell_type": "code",
   "execution_count": 5,
   "id": "83e20afaf38a098d",
   "metadata": {
    "ExecuteTime": {
     "end_time": "2024-11-27T10:38:56.669758Z",
     "start_time": "2024-11-27T10:38:56.065532Z"
    }
   },
   "outputs": [
    {
     "data": {
      "text/plain": [
       "[Table(name='ORDERS_DATA', catalog=None, namespace=[], description=None, tableType='TEMPORARY', isTemporary=True)]"
      ]
     },
     "execution_count": 5,
     "metadata": {},
     "output_type": "execute_result"
    }
   ],
   "source": [
    "df.createOrReplaceTempView(\"ORDERS_DATA\")\n",
    "spark.catalog.listTables()"
   ]
  },
  {
   "cell_type": "code",
   "execution_count": 6,
   "id": "a5a0d3c356e0f5d8",
   "metadata": {},
   "outputs": [
    {
     "name": "stdout",
     "output_type": "stream",
     "text": [
      "root\n",
      " |-- Kraj: string (nullable = true)\n",
      " |-- Sprzedawca: string (nullable = true)\n",
      " |-- Data zamowienia: date (nullable = true)\n",
      " |-- idZamowienia: integer (nullable = true)\n",
      " |-- Utarg: double (nullable = true)\n",
      "\n"
     ]
    }
   ],
   "source": [
    "df.printSchema()"
   ]
  },
  {
   "cell_type": "code",
   "execution_count": 7,
   "id": "e1726a82-704e-4998-b963-dd27cc9c1a5e",
   "metadata": {
    "ExecuteTime": {
     "end_time": "2024-11-27T10:38:56.669758Z",
     "start_time": "2024-11-27T10:38:56.669758Z"
    }
   },
   "outputs": [
    {
     "name": "stdout",
     "output_type": "stream",
     "text": [
      "+------+----------+---------------+------------+------+\n",
      "|  Kraj|Sprzedawca|Data zamowienia|idZamowienia| Utarg|\n",
      "+------+----------+---------------+------------+------+\n",
      "|Polska|  Kowalski|     2003-07-16|       10248| 440.0|\n",
      "|Polska|   Sowiski|     2003-07-10|       10249|1863.4|\n",
      "|Niemcy|   Peacock|     2003-07-12|       10250|1552.6|\n",
      "|Niemcy| Leverling|     2003-07-15|       10251|654.06|\n",
      "|Niemcy|   Peacock|     2003-07-11|       10252|3597.9|\n",
      "|Niemcy| Leverling|     2003-07-16|       10253|1444.8|\n",
      "|Polska|  Kowalski|     2003-07-23|       10254|556.62|\n",
      "|Polska|     Dudek|     2003-07-15|       10255|2490.5|\n",
      "|Niemcy| Leverling|     2003-07-17|       10256| 517.8|\n",
      "|Niemcy|   Peacock|     2003-07-22|       10257|1119.9|\n",
      "+------+----------+---------------+------------+------+\n",
      "\n"
     ]
    }
   ],
   "source": [
    "spark.sql(\"Select * from ORDERS_DATA limit 10\").show()"
   ]
  }
 ],
 "metadata": {
  "kernelspec": {
   "display_name": "Python 3 (ipykernel)",
   "language": "python",
   "name": "python3"
  },
  "language_info": {
   "codemirror_mode": {
    "name": "ipython",
    "version": 3
   },
   "file_extension": ".py",
   "mimetype": "text/x-python",
   "name": "python",
   "nbconvert_exporter": "python",
   "pygments_lexer": "ipython3",
   "version": "3.10.12"
  }
 },
 "nbformat": 4,
 "nbformat_minor": 5
}
