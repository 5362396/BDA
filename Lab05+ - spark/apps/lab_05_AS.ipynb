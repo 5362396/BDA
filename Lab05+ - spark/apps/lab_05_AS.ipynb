{
 "cells": [
  {
   "cell_type": "markdown",
   "id": "1ab03ab7-722f-4262-b40c-c4cbc56a5b93",
   "metadata": {},
   "source": [
    "**Zadanie 1**\n",
    "\n",
    "Wykorzystując plik z treścią Pana Tadeusza zaprezentowany w przykładach policz ile jest linii, w których zawiera się słowo Tadeusz. Wykorzystaj akcje i transformacje RDD."
   ]
  },
  {
   "cell_type": "code",
   "execution_count": 1,
   "id": "f59fd7e9-674b-49fd-a998-1c74a2df9659",
   "metadata": {
    "jupyter": {
     "is_executing": true
    }
   },
   "outputs": [],
   "source": [
    "import os\n",
    "\n",
    "\n",
    "os.environ['SPARK_NAME'] = \"/opt/spark\"\n",
    "os.environ['PYSPARK_DRIVER_PYTHON_OPTS'] = 'lab'\n",
    "os.environ['PYSPARK_DRIVER_PYTHON'] = '/opt/spark/work-dir/venv/bin/python3'\n",
    "os.environ['PYSPARK_PYTHON'] = '/opt/spark/work-dir/venv/bin/python3'"
   ]
  },
  {
   "cell_type": "code",
   "execution_count": 2,
   "id": "50ba883d-3449-48df-9bcc-17b0049ee091",
   "metadata": {},
   "outputs": [
    {
     "name": "stderr",
     "output_type": "stream",
     "text": [
      "Setting default log level to \"WARN\".\n",
      "To adjust logging level use sc.setLogLevel(newLevel). For SparkR, use setLogLevel(newLevel).\n",
      "24/11/16 15:04:48 WARN NativeCodeLoader: Unable to load native-hadoop library for your platform... using builtin-java classes where applicable\n"
     ]
    },
    {
     "data": {
      "text/html": [
       "\n",
       "        <div>\n",
       "            <p><b>SparkContext</b></p>\n",
       "\n",
       "            <p><a href=\"http://aa6d41e84e3a:4040\">Spark UI</a></p>\n",
       "\n",
       "            <dl>\n",
       "              <dt>Version</dt>\n",
       "                <dd><code>v3.5.3</code></dd>\n",
       "              <dt>Master</dt>\n",
       "                <dd><code>local[2]</code></dd>\n",
       "              <dt>AppName</dt>\n",
       "                <dd><code>Create-DataFrame</code></dd>\n",
       "            </dl>\n",
       "        </div>\n",
       "        "
      ],
      "text/plain": [
       "<SparkContext master=local[2] appName=Create-DataFrame>"
      ]
     },
     "execution_count": 2,
     "metadata": {},
     "output_type": "execute_result"
    }
   ],
   "source": [
    "from pyspark.sql import SparkSession\n",
    "\n",
    "\n",
    "spark = SparkSession\\\n",
    "        .builder\\\n",
    "        .master(\"local[2]\")\\\n",
    "        .appName(\"Create-DataFrame\")\\\n",
    "        .config(\"spark.memory.offHeap.enabled\",\"true\")\\\n",
    "        .config(\"spark.memory.offHeap.size\",\"4g\")\\\n",
    "        .getOrCreate()\n",
    "spark.sparkContext"
   ]
  },
  {
   "cell_type": "code",
   "execution_count": 3,
   "id": "b206b7b9-5305-4bd3-8316-5740726e3714",
   "metadata": {},
   "outputs": [],
   "source": [
    "sc = spark.sparkContext\n",
    "pan_tadeusz_file = sc.textFile(\"pan-tadeusz.txt\")"
   ]
  },
  {
   "cell_type": "code",
   "execution_count": 4,
   "id": "74d10b79-52ca-4fd1-8832-cd96a82f7817",
   "metadata": {},
   "outputs": [
    {
     "name": "stdout",
     "output_type": "stream",
     "text": [
      "Liczba linii zawierających słowo 'Tadeusz': 182\n"
     ]
    }
   ],
   "source": [
    "lines_with_tadeusz = pan_tadeusz_file.filter(lambda line: 'Tadeusz' in line)\n",
    "count_lines_with_tadeusz = lines_with_tadeusz.count()\n",
    "print(f\"Liczba linii zawierających słowo 'Tadeusz': {count_lines_with_tadeusz}\")"
   ]
  },
  {
   "cell_type": "markdown",
   "id": "0bae4c25-4a16-466a-82ed-f9cf0b1d66b2",
   "metadata": {},
   "source": [
    "**Zadanie 2**  \n",
    "Wykorzystując metodę `top()` dla obiektu RDD wyświetl 3 najdłuższe linie wczytane z pliku z książką Pan Tadeusz."
   ]
  },
  {
   "cell_type": "code",
   "execution_count": 5,
   "id": "f0603880-6238-4c52-bb10-35a88adb9ca9",
   "metadata": {},
   "outputs": [
    {
     "name": "stdout",
     "output_type": "stream",
     "text": [
      "3 najdłuższe linie w pliku 'Pan Tadeusz':\n",
      "1. O niebezpieczeństwach wynikających z nieporządnego obozowania — Odsiecz niespodziana — Smutne położenie szlachty — Odwiedziny kwestarskie są wróżbą ratunku — Major Płut zbytnią zalotnością ściąga na siebie burzę — Wystrzał z krócicy, hasło boju — Czyny Kropiciela, czyny i niebezpieczeństwa Maćka — Konewka zasadzką ocala Soplicowo — Posiłki jezdne, atak na piechotę — Czyny Tadeusza — Pojedynek dowódców przerwany zdradą — Wojski stanowczym manewrem przechyla szalę boju — Czyny krwawe Gerwazego — Podkomorzy zwycięzca wspaniałomyślny. (Długość: 536)\n",
      "2. Plany myśliwskie Telimeny — Ogrodniczka wybiera się na wielki świat i słucha nauk opiekunki — Strzelcy wracają — Wielkie zadziwienie Tadeusza — Spotkanie się powtórne w Świątyni dumania i zgoda ułatwiona za pośrednictwem mrówek — U stołu wytacza się rzecz o łowach — Powieść Wojskiego o Rejtanie i księciu Denassów, przerwana — Zagajenie układów między stronami, także przerwane — Zjawisko z kluczem — Kłótnia — Hrabia z Gerwazym odbywają radę wojenną. (Długość: 452)\n",
      "3. Zjawisko w papilotach budzi Tadeusza — Za późne postrzeżenie omyłki — Karczma — Emisariusz — Zręczne użycie tabakiery zwraca dyskusję na właściwą drogę — Matecznik — Niedźwiedź — Niebezpieczeństwo Tadeusza i Hrabiego — Trzy strzały — Spór Sagalasówki z Sanguszkówką rozstrzygniony na stronę jednorurki horeszkowskiej — Bigos — Wojskiego powieść o pojedynku Doweyki z Domeyką przerwana szczuciem kota — Koniec powieści o Doweyce i Domeyce. (Długość: 438)\n"
     ]
    }
   ],
   "source": [
    "longest_lines = pan_tadeusz_file.top(3, key=lambda line: len(line))\n",
    "\n",
    "print(\"3 najdłuższe linie w pliku 'Pan Tadeusz':\")\n",
    "for idx, line in enumerate(longest_lines, 1):\n",
    "    print(f'{idx}. {line} (Długość: {len(line)})')"
   ]
  },
  {
   "cell_type": "markdown",
   "id": "52bffb41-9663-46ce-9f0a-212080d299c7",
   "metadata": {},
   "source": [
    "**Zadanie 3**  \n",
    "Wykorzystując listę stopwords z adresu https://github.com/bieli/stopwords/blob/master/polish.stopwords.txt wykorzystaj akcje i transformacje RDD i wygeneruj listę unikalnych słów z pliku z treścią Pana Tadeusza (sprawdź transformację countByValue()) pomijając powyższe słowa stop oraz wszelkie znaki przestankowe. Wynik zapisz do słownika, a następnie do pliku json o nazwie pan_tadeusz_bag_of_words.json.\n",
    "Które słowo występuje w tym tekście najczęściej? Wyświetl je z wyników wygenerowanych powyżej."
   ]
  },
  {
   "cell_type": "code",
   "execution_count": 6,
   "id": "e8360471-dffa-47a4-9db0-90b3234fdb39",
   "metadata": {},
   "outputs": [
    {
     "name": "stdout",
     "output_type": "stream",
     "text": [
      "Najczęściej występujące słowo: 'rzekł' z liczbą wystąpień: 155\n"
     ]
    }
   ],
   "source": [
    "import json\n",
    "import string\n",
    "\n",
    "with open(\"polish.stopwords.txt\", \"r\", encoding=\"utf-8\") as f:\n",
    "    stopwords = set(f.read().splitlines())\n",
    "\n",
    "custom_punctuation = string.punctuation + \"—\"\n",
    "\n",
    "words = (\n",
    "    pan_tadeusz_file\n",
    "    .flatMap(lambda line: line.lower().translate(str.maketrans('', '', custom_punctuation)).split())\n",
    "    .filter(lambda word: word not in stopwords)\n",
    ")\n",
    "\n",
    "word_counts = words.countByValue()\n",
    "\n",
    "with open(\"pan_tadeusz_bag_of_words.json\", \"w\", encoding=\"utf-8\") as f:\n",
    "    json.dump(word_counts, f, ensure_ascii=False, indent=4)\n",
    "\n",
    "most_frequent_word = max(word_counts, key=word_counts.get)\n",
    "most_frequent_count = word_counts[most_frequent_word]\n",
    "\n",
    "print(f\"Najczęściej występujące słowo: '{most_frequent_word}' z liczbą wystąpień: {most_frequent_count}\")"
   ]
  }
 ],
 "metadata": {
  "kernelspec": {
   "display_name": "Python 3 (ipykernel)",
   "language": "python",
   "name": "python3"
  },
  "language_info": {
   "codemirror_mode": {
    "name": "ipython",
    "version": 3
   },
   "file_extension": ".py",
   "mimetype": "text/x-python",
   "name": "python",
   "nbconvert_exporter": "python",
   "pygments_lexer": "ipython3",
   "version": "3.10.12"
  }
 },
 "nbformat": 4,
 "nbformat_minor": 5
}
