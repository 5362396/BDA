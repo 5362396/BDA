{
 "cells": [
  {
   "cell_type": "markdown",
   "id": "7bda33f580a5c3c3",
   "metadata": {},
   "source": [
    "**Zadanie 1**  \n",
    "Zainstaluj i uruchom Apache Airflow. Zaloguj się do panelu aplikacji www."
   ]
  },
  {
   "cell_type": "markdown",
   "id": "343e43f8040fddac",
   "metadata": {},
   "source": [
    "![Zadanie 1](zadanie_1.png)"
   ]
  },
  {
   "cell_type": "markdown",
   "id": "38a219a9ee0953cc",
   "metadata": {},
   "source": [
    "**Zadanie 2**  \n",
    "Uruchom zadanie `airflow/example_dags/tutorial.py` i prześledź w aplikacji jego wykonanie, log, wykres Gannt i inne statystyki, które są udostępniane przez interfejs. Na zakładce `Graph` po zaznaczeniu konkretnego zadania z grafu zmienia się ścieżka powrotu na górze okna i przechodząc teraz po zakładkach widzimy opis i inne właściwości zdefiniowane dla zadania, a nie całego grafu. Przeglądnij te informacje dla trzech zdefiniowanych zadań w tym grafie."
   ]
  },
  {
   "cell_type": "code",
   "execution_count": 1,
   "id": "initial_id",
   "metadata": {},
   "outputs": [
    {
     "data": {
      "text/html": [
       "<pre style=\"white-space:pre;overflow-x:auto;line-height:normal;font-family:Menlo,'DejaVu Sans Mono',consolas,'Courier New',monospace\"><span style=\"color: #808000; text-decoration-color: #808000; font-weight: bold\">/opt/spark/work-dir/venv/lib/python3.10/site-packages/airflow/configuration.py:</span><span style=\"color: #808000; text-decoration-color: #808000; font-weight: bold\">859</span><span style=\"color: #808000; text-decoration-color: #808000; font-weight: bold\"> FutureWarning</span><span style=\"color: #808000; text-decoration-color: #808000\">: section/key </span><span style=\"color: #808000; text-decoration-color: #808000; font-weight: bold\">[</span><span style=\"color: #808000; text-decoration-color: #808000\">core/sql_alchemy_conn</span><span style=\"color: #808000; text-decoration-color: #808000; font-weight: bold\">]</span><span style=\"color: #808000; text-decoration-color: #808000\"> has been deprecated, you should use</span><span style=\"color: #808000; text-decoration-color: #808000; font-weight: bold\">[</span><span style=\"color: #808000; text-decoration-color: #808000\">database/sql_alchemy_conn</span><span style=\"color: #808000; text-decoration-color: #808000; font-weight: bold\">]</span><span style=\"color: #808000; text-decoration-color: #808000\"> instead. Please update your `conf.get*` call to use the new name</span>\n",
       "</pre>\n"
      ],
      "text/plain": [
       "\u001B[1;33m/opt/spark/work-dir/venv/lib/python3.10/site-packages/airflow/\u001B[0m\u001B[1;33mconfiguration.py\u001B[0m\u001B[1;33m:\u001B[0m\u001B[1;33m859\u001B[0m\u001B[1;33m FutureWarning\u001B[0m\u001B[33m: section/key \u001B[0m\u001B[1;33m[\u001B[0m\u001B[33mcore/sql_alchemy_conn\u001B[0m\u001B[1;33m]\u001B[0m\u001B[33m has been deprecated, you should use\u001B[0m\u001B[1;33m[\u001B[0m\u001B[33mdatabase/sql_alchemy_conn\u001B[0m\u001B[1;33m]\u001B[0m\u001B[33m instead. Please update your `conf.get*` call to use the new name\u001B[0m\n"
      ]
     },
     "metadata": {},
     "output_type": "display_data"
    }
   ],
   "source": [
    "import textwrap\n",
    "from datetime import datetime, timedelta\n",
    "\n",
    "# The DAG object; we'll need this to instantiate a DAG\n",
    "from airflow.models.dag import DAG\n",
    "\n",
    "# Operators; we need this to operate!\n",
    "from airflow.operators.bash import BashOperator\n",
    "\n",
    "with DAG(\n",
    "    \"tutorial\",\n",
    "    # These args will get passed on to each operator\n",
    "    # You can override them on a per-task basis during operator initialization\n",
    "    default_args={\n",
    "        \"depends_on_past\": False,\n",
    "        \"email\": [\"airflow@example.com\"],\n",
    "        \"email_on_failure\": False,\n",
    "        \"email_on_retry\": False,\n",
    "        \"retries\": 1,\n",
    "        \"retry_delay\": timedelta(minutes=5),\n",
    "        # 'queue': 'bash_queue',\n",
    "        # 'pool': 'backfill',\n",
    "        # 'priority_weight': 10,\n",
    "        # 'end_date': datetime(2016, 1, 1),\n",
    "        # 'wait_for_downstream': False,\n",
    "        # 'sla': timedelta(hours=2),\n",
    "        # 'execution_timeout': timedelta(seconds=300),\n",
    "        # 'on_failure_callback': some_function, # or list of functions\n",
    "        # 'on_success_callback': some_other_function, # or list of functions\n",
    "        # 'on_retry_callback': another_function, # or list of functions\n",
    "        # 'sla_miss_callback': yet_another_function, # or list of functions\n",
    "        # 'on_skipped_callback': another_function, #or list of functions\n",
    "        # 'trigger_rule': 'all_success'\n",
    "    },\n",
    "    description=\"A simple tutorial DAG\",\n",
    "    schedule=timedelta(days=1),\n",
    "    start_date=datetime(2021, 1, 1),\n",
    "    catchup=False,\n",
    "    tags=[\"example\"],\n",
    ") as dag:\n",
    "\n",
    "    # t1, t2 and t3 are examples of tasks created by instantiating operators\n",
    "    t1 = BashOperator(\n",
    "        task_id=\"print_date\",\n",
    "        bash_command=\"date\",\n",
    "    )\n",
    "\n",
    "    t2 = BashOperator(\n",
    "        task_id=\"sleep\",\n",
    "        depends_on_past=False,\n",
    "        bash_command=\"sleep 5\",\n",
    "        retries=3,\n",
    "    )\n",
    "    t1.doc_md = textwrap.dedent(\n",
    "        \"\"\"\\\n",
    "    #### Task Documentation\n",
    "    You can document your task using the attributes `doc_md` (markdown),\n",
    "    `doc` (plain text), `doc_rst`, `doc_json`, `doc_yaml` which gets\n",
    "    rendered in the UI's Task Instance Details page.\n",
    "    ![img](https://imgs.xkcd.com/comics/fixing_problems.png)\n",
    "    **Image Credit:** Randall Munroe, [XKCD](https://xkcd.com/license.html)\n",
    "    \"\"\"\n",
    "    )\n",
    "\n",
    "    dag.doc_md = __doc__  # providing that you have a docstring at the beginning of the DAG; OR\n",
    "    dag.doc_md = \"\"\"\n",
    "    This is a documentation placed anywhere\n",
    "    \"\"\"  # otherwise, type it like this\n",
    "    templated_command = textwrap.dedent(\n",
    "        \"\"\"\n",
    "    {% for i in range(5) %}\n",
    "        echo \"{{ ds }}\"\n",
    "        echo \"{{ macros.ds_add(ds, 7)}}\"\n",
    "    {% endfor %}\n",
    "    \"\"\"\n",
    "    )\n",
    "\n",
    "    t3 = BashOperator(\n",
    "        task_id=\"templated\",\n",
    "        depends_on_past=False,\n",
    "        bash_command=templated_command,\n",
    "    )\n",
    "\n",
    "    t1 >> [t2, t3]"
   ]
  },
  {
   "metadata": {},
   "cell_type": "markdown",
   "source": "![Zadanie 2](zadanie_2.png)",
   "id": "6228298c9072aea2"
  },
  {
   "metadata": {},
   "cell_type": "markdown",
   "source": "![Zadanie 2_2](zadanie_2_2.png)",
   "id": "6a40034144cc00"
  },
  {
   "metadata": {},
   "cell_type": "markdown",
   "source": "![Zadanie 2_3](zadanie_2_3.png)",
   "id": "87c262003f6c40e5"
  },
  {
   "metadata": {},
   "cell_type": "markdown",
   "source": [
    "**Zadanie 3**  \n",
    "Stwórz nowy graf poprzez modyfikację grafu z listingu 1 i zarejestruj go pod nazwą `tutorial_hourly` w pliku o nazwie `tutorial_hourly.py` i zapisz w tym samym folderze co oryginał. W definicji tego grafu zmodyfikuj:\n",
    "* interwał uruchamiania z dziennego na godzinny,\n",
    "* opis,\n",
    "* dokumentację obiektu dag (widoczną później również poprzez interfejs graficzny),\n",
    "* datę pierwszego uruchomienia na bieżącą,\n",
    "* tag (np. lab8)."
   ],
   "id": "38fad0054578db35"
  },
  {
   "metadata": {},
   "cell_type": "markdown",
   "source": "![Zadanie 3](zadanie_3.png)",
   "id": "9eeec59e0b90b797"
  },
  {
   "metadata": {},
   "cell_type": "code",
   "outputs": [],
   "execution_count": null,
   "source": "",
   "id": "be1c91b24a3301b5"
  }
 ],
 "metadata": {
  "kernelspec": {
   "display_name": "Python 3 (ipykernel)",
   "language": "python",
   "name": "python3"
  },
  "language_info": {
   "codemirror_mode": {
    "name": "ipython",
    "version": 3
   },
   "file_extension": ".py",
   "mimetype": "text/x-python",
   "name": "python",
   "nbconvert_exporter": "python",
   "pygments_lexer": "ipython3",
   "version": "3.10.12"
  }
 },
 "nbformat": 4,
 "nbformat_minor": 5
}
